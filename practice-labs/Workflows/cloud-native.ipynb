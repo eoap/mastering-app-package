{
 "cells": [
  {
   "cell_type": "markdown",
   "metadata": {},
   "source": [
    "# Sentinel-2 Cloud native processing workflow\n",
    "\n",
    "## Goal \n",
    "\n",
    "Prepare the CWL Workflow orchestrating CWL CommandLineTool document(s) wrapping the command line tool available container(s).\n",
    "\n",
    "This notebook is linked to: \n",
    "https://eoap.github.io/mastering-app-package/cwl-workflow/cloud-native/\n"
   ]
  },
  {
   "cell_type": "markdown",
   "metadata": {},
   "source": [
    "The Cloud native Workflow chains the `crop`, `norm_diff`, `otsu` and `stac` steps taking a single STAC item as input parameters:\n",
    "\n",
    "- a SpatioTemporal Asset Catalog (STAC) Item\n",
    "- a bounding box area of interest (AOI)\n",
    "- the EPSG code of the bounding box area of interest\n",
    "- a list of common band names ([\"`green`\", \"`nir`\"])"
   ]
  },
  {
   "cell_type": "markdown",
   "metadata": {},
   "source": [
    "## Setup"
   ]
  },
  {
   "cell_type": "code",
   "execution_count": 1,
   "metadata": {
    "vscode": {
     "languageId": "shellscript"
    }
   },
   "outputs": [],
   "source": [
    "export WORKSPACE=/workspace/mastering-app-package\n",
    "export RUNTIME=${WORKSPACE}/runs\n",
    "mkdir -p ${RUNTIME}\n",
    "cd ${RUNTIME}"
   ]
  },
  {
   "cell_type": "markdown",
   "metadata": {},
   "source": [
    "## CWL Workflow\n",
    "\n",
    "We now have a `$graph` list and several CWL descriptions: one `Workflow` and four `CommandLineTool`:"
   ]
  },
  {
   "cell_type": "code",
   "execution_count": 8,
   "metadata": {
    "vscode": {
     "languageId": "shellscript"
    }
   },
   "outputs": [
    {
     "name": "stdout",
     "output_type": "stream",
     "text": [
      "Workflow\n",
      "CommandLineTool\n",
      "CommandLineTool\n",
      "CommandLineTool\n",
      "CommandLineTool\n"
     ]
    }
   ],
   "source": [
    "cat ${WORKSPACE}/cwl-workflow/app-water-body-cloud-native.cwl | yq e .'$graph[].class' -"
   ]
  },
  {
   "cell_type": "markdown",
   "metadata": {},
   "source": [
    "The `CommandLineTool` ids are the all the CommandLineTool created in the previous step:"
   ]
  },
  {
   "cell_type": "code",
   "execution_count": 14,
   "metadata": {
    "vscode": {
     "languageId": "shellscript"
    }
   },
   "outputs": [
    {
     "name": "stdout",
     "output_type": "stream",
     "text": [
      "crop\n",
      "norm_diff\n",
      "otsu\n",
      "stac\n"
     ]
    }
   ],
   "source": [
    "cat ${WORKSPACE}/cwl-workflow/app-water-body-cloud-native.cwl | yq e .'$graph[1].id' -\n",
    "cat ${WORKSPACE}/cwl-workflow/app-water-body-cloud-native.cwl | yq e .'$graph[2].id' -\n",
    "cat ${WORKSPACE}/cwl-workflow/app-water-body-cloud-native.cwl | yq e .'$graph[3].id' -\n",
    "cat ${WORKSPACE}/cwl-workflow/app-water-body-cloud-native.cwl | yq e .'$graph[4].id' -"
   ]
  },
  {
   "cell_type": "markdown",
   "metadata": {},
   "source": [
    "Let's look at the `Workflow`:\n"
   ]
  },
  {
   "cell_type": "code",
   "execution_count": 16,
   "metadata": {
    "vscode": {
     "languageId": "shellscript"
    }
   },
   "outputs": [
    {
     "name": "stdout",
     "output_type": "stream",
     "text": [
      "\u001b[36mclass\u001b[0m:\u001b[32m Workflow\u001b[0m\n",
      "\u001b[32m\u001b[0m\u001b[36mid\u001b[0m:\u001b[32m main\u001b[0m\n",
      "\u001b[32m\u001b[0m\u001b[36mlabel\u001b[0m:\u001b[32m Water bodies detection based on NDWI and the otsu threshold\u001b[0m\n",
      "\u001b[32m\u001b[0m\u001b[36mdoc\u001b[0m:\u001b[32m Water bodies detection based on NDWI and otsu threshold applied to a single Sentinel-2 COG STAC item\u001b[0m\n",
      "\u001b[32m\u001b[0m\u001b[36mrequirements\u001b[0m:\n",
      "  -\u001b[36m class\u001b[0m:\u001b[32m ScatterFeatureRequirement\u001b[0m\n",
      "\u001b[32m\u001b[0m\u001b[36minputs\u001b[0m:\u001b[36m\u001b[0m\n",
      "\u001b[36m  aoi\u001b[0m:\u001b[36m\u001b[0m\n",
      "\u001b[36m    label\u001b[0m:\u001b[32m area of interest\u001b[0m\n",
      "\u001b[32m    \u001b[0m\u001b[36mdoc\u001b[0m:\u001b[32m area of interest as a bounding box\u001b[0m\n",
      "\u001b[32m    \u001b[0m\u001b[36mtype\u001b[0m:\u001b[32m string\u001b[0m\n",
      "\u001b[32m  \u001b[0m\u001b[36mepsg\u001b[0m:\u001b[36m\u001b[0m\n",
      "\u001b[36m    label\u001b[0m:\u001b[32m EPSG code\u001b[0m\n",
      "\u001b[32m    \u001b[0m\u001b[36mdoc\u001b[0m:\u001b[32m EPSG code\u001b[0m\n",
      "\u001b[32m    \u001b[0m\u001b[36mtype\u001b[0m:\u001b[32m string\u001b[0m\n",
      "\u001b[32m    \u001b[0m\u001b[36mdefault\u001b[0m:\u001b[32m \"EPSG:4326\"\u001b[0m\u001b[36m\u001b[0m\n",
      "\u001b[36m  bands\u001b[0m:\u001b[36m\u001b[0m\n",
      "\u001b[36m    label\u001b[0m:\u001b[32m bands used for the NDWI\u001b[0m\n",
      "\u001b[32m    \u001b[0m\u001b[36mdoc\u001b[0m:\u001b[32m bands used for the NDWI\u001b[0m\n",
      "\u001b[32m    \u001b[0m\u001b[36mtype\u001b[0m:\u001b[32m string[]\u001b[0m\n",
      "\u001b[32m    \u001b[0m\u001b[36mdefault\u001b[0m: [\u001b[32m\"green\"\u001b[0m,\u001b[32m \"nir\"\u001b[0m]\u001b[36m\u001b[0m\n",
      "\u001b[36m  item\u001b[0m:\u001b[36m\u001b[0m\n",
      "\u001b[36m    doc\u001b[0m:\u001b[32m Reference to a STAC item\u001b[0m\n",
      "\u001b[32m    \u001b[0m\u001b[36mlabel\u001b[0m:\u001b[32m STAC item reference\u001b[0m\n",
      "\u001b[32m    \u001b[0m\u001b[36mtype\u001b[0m:\u001b[32m string\u001b[0m\n",
      "\u001b[32m\u001b[0m\u001b[36moutputs\u001b[0m:\n",
      "  -\u001b[36m id\u001b[0m:\u001b[32m stac_catalog\u001b[0m\n",
      "\u001b[32m    \u001b[0m\u001b[36moutputSource\u001b[0m:\n",
      "      -\u001b[32m node_stac/stac_catalog\u001b[0m\n",
      "\u001b[32m    \u001b[0m\u001b[36mtype\u001b[0m:\u001b[32m Directory\u001b[0m\n",
      "\u001b[32m\u001b[0m\u001b[36msteps\u001b[0m:\u001b[36m\u001b[0m\n",
      "\u001b[36m  node_crop\u001b[0m:\u001b[36m\u001b[0m\n",
      "\u001b[36m    run\u001b[0m:\u001b[32m \"#crop\"\u001b[0m\u001b[36m\u001b[0m\n",
      "\u001b[36m    in\u001b[0m:\u001b[36m\u001b[0m\n",
      "\u001b[36m      item\u001b[0m:\u001b[32m item\u001b[0m\n",
      "\u001b[32m      \u001b[0m\u001b[36maoi\u001b[0m:\u001b[32m aoi\u001b[0m\n",
      "\u001b[32m      \u001b[0m\u001b[36mepsg\u001b[0m:\u001b[32m epsg\u001b[0m\n",
      "\u001b[32m      \u001b[0m\u001b[36mband\u001b[0m:\u001b[32m bands\u001b[0m\n",
      "\u001b[32m    \u001b[0m\u001b[36mout\u001b[0m:\n",
      "      -\u001b[32m cropped\u001b[0m\n",
      "\u001b[32m    \u001b[0m\u001b[36mscatter\u001b[0m:\u001b[32m band\u001b[0m\n",
      "\u001b[32m    \u001b[0m\u001b[36mscatterMethod\u001b[0m:\u001b[32m dotproduct\u001b[0m\n",
      "\u001b[32m  \u001b[0m\u001b[36mnode_normalized_difference\u001b[0m:\u001b[36m\u001b[0m\n",
      "\u001b[36m    run\u001b[0m:\u001b[32m \"#norm_diff\"\u001b[0m\u001b[36m\u001b[0m\n",
      "\u001b[36m    in\u001b[0m:\u001b[36m\u001b[0m\n",
      "\u001b[36m      rasters\u001b[0m:\u001b[36m\u001b[0m\n",
      "\u001b[36m        source\u001b[0m:\u001b[32m node_crop/cropped\u001b[0m\n",
      "\u001b[32m    \u001b[0m\u001b[36mout\u001b[0m:\n",
      "      -\u001b[32m ndwi\u001b[0m\n",
      "\u001b[32m  \u001b[0m\u001b[36mnode_otsu\u001b[0m:\u001b[36m\u001b[0m\n",
      "\u001b[36m    run\u001b[0m:\u001b[32m \"#otsu\"\u001b[0m\u001b[36m\u001b[0m\n",
      "\u001b[36m    in\u001b[0m:\u001b[36m\u001b[0m\n",
      "\u001b[36m      raster\u001b[0m:\u001b[36m\u001b[0m\n",
      "\u001b[36m        source\u001b[0m:\u001b[32m node_normalized_difference/ndwi\u001b[0m\n",
      "\u001b[32m    \u001b[0m\u001b[36mout\u001b[0m:\n",
      "      -\u001b[32m binary_mask_item\u001b[0m\n",
      "\u001b[32m  \u001b[0m\u001b[36mnode_stac\u001b[0m:\u001b[36m\u001b[0m\n",
      "\u001b[36m    run\u001b[0m:\u001b[32m \"#stac\"\u001b[0m\u001b[36m\u001b[0m\n",
      "\u001b[36m    in\u001b[0m:\u001b[36m\u001b[0m\n",
      "\u001b[36m      item\u001b[0m:\u001b[32m item\u001b[0m\n",
      "\u001b[32m      \u001b[0m\u001b[36mrasters\u001b[0m:\u001b[36m\u001b[0m\n",
      "\u001b[36m        source\u001b[0m:\u001b[32m node_otsu/binary_mask_item\u001b[0m\n",
      "\u001b[32m    \u001b[0m\u001b[36mout\u001b[0m:\n",
      "      -\u001b[32m stac_catalog\u001b[0m\n"
     ]
    }
   ],
   "source": [
    "cat ${WORKSPACE}/cwl-workflow/app-water-body-cloud-native.cwl | yq e .'$graph[0]' -"
   ]
  },
  {
   "cell_type": "markdown",
   "metadata": {},
   "source": [
    "Let's look at the `inputs` element.\n",
    "\n",
    "These are the Application Package inputs: \n",
    "\n",
    "- a SpatioTemporal Asset Catalog (STAC) Item: `item`\n",
    "- a bounding box area of interest (AOI): `aoi`\n",
    "- the EPSG code of the bounding box area of interest: `epsg`\n",
    "- a list of common band names ([\"`green`\", \"`nir`\"]): `bands`"
   ]
  },
  {
   "cell_type": "code",
   "execution_count": 18,
   "metadata": {
    "vscode": {
     "languageId": "shellscript"
    }
   },
   "outputs": [
    {
     "name": "stdout",
     "output_type": "stream",
     "text": [
      "\u001b[36maoi\u001b[0m:\u001b[36m\u001b[0m\n",
      "\u001b[36m  label\u001b[0m:\u001b[32m area of interest\u001b[0m\n",
      "\u001b[32m  \u001b[0m\u001b[36mdoc\u001b[0m:\u001b[32m area of interest as a bounding box\u001b[0m\n",
      "\u001b[32m  \u001b[0m\u001b[36mtype\u001b[0m:\u001b[32m string\u001b[0m\n",
      "\u001b[32m\u001b[0m\u001b[36mepsg\u001b[0m:\u001b[36m\u001b[0m\n",
      "\u001b[36m  label\u001b[0m:\u001b[32m EPSG code\u001b[0m\n",
      "\u001b[32m  \u001b[0m\u001b[36mdoc\u001b[0m:\u001b[32m EPSG code\u001b[0m\n",
      "\u001b[32m  \u001b[0m\u001b[36mtype\u001b[0m:\u001b[32m string\u001b[0m\n",
      "\u001b[32m  \u001b[0m\u001b[36mdefault\u001b[0m:\u001b[32m \"EPSG:4326\"\u001b[0m\u001b[36m\u001b[0m\n",
      "\u001b[36mbands\u001b[0m:\u001b[36m\u001b[0m\n",
      "\u001b[36m  label\u001b[0m:\u001b[32m bands used for the NDWI\u001b[0m\n",
      "\u001b[32m  \u001b[0m\u001b[36mdoc\u001b[0m:\u001b[32m bands used for the NDWI\u001b[0m\n",
      "\u001b[32m  \u001b[0m\u001b[36mtype\u001b[0m:\u001b[32m string[]\u001b[0m\n",
      "\u001b[32m  \u001b[0m\u001b[36mdefault\u001b[0m: [\u001b[32m\"green\"\u001b[0m,\u001b[32m \"nir\"\u001b[0m]\u001b[36m\u001b[0m\n",
      "\u001b[36mitem\u001b[0m:\u001b[36m\u001b[0m\n",
      "\u001b[36m  doc\u001b[0m:\u001b[32m Reference to a STAC item\u001b[0m\n",
      "\u001b[32m  \u001b[0m\u001b[36mlabel\u001b[0m:\u001b[32m STAC item reference\u001b[0m\n",
      "\u001b[32m  \u001b[0m\u001b[36mtype\u001b[0m:\u001b[32m string\u001b[0m\n"
     ]
    }
   ],
   "source": [
    "cat ${WORKSPACE}/cwl-workflow/app-water-body-cloud-native.cwl | yq e .'$graph[0].inputs' -"
   ]
  },
  {
   "cell_type": "markdown",
   "metadata": {},
   "source": [
    "They all have an `id`, a `label` and a `doc` that describes them"
   ]
  },
  {
   "cell_type": "markdown",
   "metadata": {},
   "source": [
    "Let's look at the `outputs` element.\n",
    "\n",
    "The output is a STAC catalog, output id `stac_catalog` and its source comes from `node_stac`. \n",
    "\n",
    "`node_stac` is the last step of the `Workflow`\n"
   ]
  },
  {
   "cell_type": "code",
   "execution_count": 20,
   "metadata": {
    "vscode": {
     "languageId": "shellscript"
    }
   },
   "outputs": [
    {
     "name": "stdout",
     "output_type": "stream",
     "text": [
      "-\u001b[36m id\u001b[0m:\u001b[32m stac_catalog\u001b[0m\n",
      "\u001b[32m  \u001b[0m\u001b[36moutputSource\u001b[0m:\n",
      "    -\u001b[32m node_stac/stac_catalog\u001b[0m\n",
      "\u001b[32m  \u001b[0m\u001b[36mtype\u001b[0m:\u001b[32m Directory\u001b[0m\n"
     ]
    }
   ],
   "source": [
    "cat ${WORKSPACE}/cwl-workflow/app-water-body-cloud-native.cwl | yq e .'$graph[0].outputs' -"
   ]
  },
  {
   "cell_type": "markdown",
   "metadata": {},
   "source": [
    "Let's look at the Workflow steps.\n",
    "\n",
    "It is a mapping of `steps`, each with inputs `in`, outputs `out` and a CWL to run `run` that uses an anchor to the `CommandLineTool` id: "
   ]
  },
  {
   "cell_type": "code",
   "execution_count": 22,
   "metadata": {
    "vscode": {
     "languageId": "shellscript"
    }
   },
   "outputs": [
    {
     "name": "stdout",
     "output_type": "stream",
     "text": [
      "\u001b[36mnode_crop\u001b[0m:\u001b[36m\u001b[0m\n",
      "\u001b[36m  run\u001b[0m:\u001b[32m \"#crop\"\u001b[0m\u001b[36m\u001b[0m\n",
      "\u001b[36m  in\u001b[0m:\u001b[36m\u001b[0m\n",
      "\u001b[36m    item\u001b[0m:\u001b[32m item\u001b[0m\n",
      "\u001b[32m    \u001b[0m\u001b[36maoi\u001b[0m:\u001b[32m aoi\u001b[0m\n",
      "\u001b[32m    \u001b[0m\u001b[36mepsg\u001b[0m:\u001b[32m epsg\u001b[0m\n",
      "\u001b[32m    \u001b[0m\u001b[36mband\u001b[0m:\u001b[32m bands\u001b[0m\n",
      "\u001b[32m  \u001b[0m\u001b[36mout\u001b[0m:\n",
      "    -\u001b[32m cropped\u001b[0m\n",
      "\u001b[32m  \u001b[0m\u001b[36mscatter\u001b[0m:\u001b[32m band\u001b[0m\n",
      "\u001b[32m  \u001b[0m\u001b[36mscatterMethod\u001b[0m:\u001b[32m dotproduct\u001b[0m\n",
      "\u001b[32m\u001b[0m\u001b[36mnode_normalized_difference\u001b[0m:\u001b[36m\u001b[0m\n",
      "\u001b[36m  run\u001b[0m:\u001b[32m \"#norm_diff\"\u001b[0m\u001b[36m\u001b[0m\n",
      "\u001b[36m  in\u001b[0m:\u001b[36m\u001b[0m\n",
      "\u001b[36m    rasters\u001b[0m:\u001b[36m\u001b[0m\n",
      "\u001b[36m      source\u001b[0m:\u001b[32m node_crop/cropped\u001b[0m\n",
      "\u001b[32m  \u001b[0m\u001b[36mout\u001b[0m:\n",
      "    -\u001b[32m ndwi\u001b[0m\n",
      "\u001b[32m\u001b[0m\u001b[36mnode_otsu\u001b[0m:\u001b[36m\u001b[0m\n",
      "\u001b[36m  run\u001b[0m:\u001b[32m \"#otsu\"\u001b[0m\u001b[36m\u001b[0m\n",
      "\u001b[36m  in\u001b[0m:\u001b[36m\u001b[0m\n",
      "\u001b[36m    raster\u001b[0m:\u001b[36m\u001b[0m\n",
      "\u001b[36m      source\u001b[0m:\u001b[32m node_normalized_difference/ndwi\u001b[0m\n",
      "\u001b[32m  \u001b[0m\u001b[36mout\u001b[0m:\n",
      "    -\u001b[32m binary_mask_item\u001b[0m\n",
      "\u001b[32m\u001b[0m\u001b[36mnode_stac\u001b[0m:\u001b[36m\u001b[0m\n",
      "\u001b[36m  run\u001b[0m:\u001b[32m \"#stac\"\u001b[0m\u001b[36m\u001b[0m\n",
      "\u001b[36m  in\u001b[0m:\u001b[36m\u001b[0m\n",
      "\u001b[36m    item\u001b[0m:\u001b[32m item\u001b[0m\n",
      "\u001b[32m    \u001b[0m\u001b[36mrasters\u001b[0m:\u001b[36m\u001b[0m\n",
      "\u001b[36m      source\u001b[0m:\u001b[32m node_otsu/binary_mask_item\u001b[0m\n",
      "\u001b[32m  \u001b[0m\u001b[36mout\u001b[0m:\n",
      "    -\u001b[32m stac_catalog\u001b[0m\n"
     ]
    }
   ],
   "source": [
    "cat ${WORKSPACE}/cwl-workflow/app-water-body-cloud-native.cwl | yq e .'$graph[0].steps' -"
   ]
  },
  {
   "cell_type": "markdown",
   "metadata": {},
   "source": [
    "The first step, `crop`, applies the fan-out pattern on the input `bands` which is a list. \n",
    "\n",
    "This step is invoked with `bands: [green, nir]`\n",
    "\n",
    "The `in` mapping maps the step inputs to the Workflow inputs."
   ]
  },
  {
   "cell_type": "code",
   "execution_count": 24,
   "metadata": {
    "vscode": {
     "languageId": "shellscript"
    }
   },
   "outputs": [
    {
     "name": "stdout",
     "output_type": "stream",
     "text": [
      "\u001b[36mrun\u001b[0m:\u001b[32m \"#crop\"\u001b[0m\u001b[36m\u001b[0m\n",
      "\u001b[36min\u001b[0m:\u001b[36m\u001b[0m\n",
      "\u001b[36m  item\u001b[0m:\u001b[32m item\u001b[0m\n",
      "\u001b[32m  \u001b[0m\u001b[36maoi\u001b[0m:\u001b[32m aoi\u001b[0m\n",
      "\u001b[32m  \u001b[0m\u001b[36mepsg\u001b[0m:\u001b[32m epsg\u001b[0m\n",
      "\u001b[32m  \u001b[0m\u001b[36mband\u001b[0m:\u001b[32m bands\u001b[0m\n",
      "\u001b[32m\u001b[0m\u001b[36mout\u001b[0m:\n",
      "  -\u001b[32m cropped\u001b[0m\n",
      "\u001b[32m\u001b[0m\u001b[36mscatter\u001b[0m:\u001b[32m band\u001b[0m\n",
      "\u001b[32m\u001b[0m\u001b[36mscatterMethod\u001b[0m:\u001b[32m dotproduct\u001b[0m\n"
     ]
    }
   ],
   "source": [
    "cat ${WORKSPACE}/cwl-workflow/app-water-body-cloud-native.cwl | yq e .'$graph[0].steps[\"node_crop\"]' -"
   ]
  },
  {
   "cell_type": "markdown",
   "metadata": {},
   "source": [
    "The second step applies the normalized difference.\n",
    "\n",
    "The `in` mapping defines the `rasters` inputs as the outputs of the `node_crop` step with `source: node_crop/cropped`. This is how the orchestration of the steps is defined in CWL.\n",
    "\n"
   ]
  },
  {
   "cell_type": "code",
   "execution_count": 26,
   "metadata": {
    "vscode": {
     "languageId": "shellscript"
    }
   },
   "outputs": [
    {
     "name": "stdout",
     "output_type": "stream",
     "text": [
      "\u001b[36mrun\u001b[0m:\u001b[32m \"#norm_diff\"\u001b[0m\u001b[36m\u001b[0m\n",
      "\u001b[36min\u001b[0m:\u001b[36m\u001b[0m\n",
      "\u001b[36m  rasters\u001b[0m:\u001b[36m\u001b[0m\n",
      "\u001b[36m    source\u001b[0m:\u001b[32m node_crop/cropped\u001b[0m\n",
      "\u001b[32m\u001b[0m\u001b[36mout\u001b[0m:\n",
      "  -\u001b[32m ndwi\u001b[0m\n"
     ]
    }
   ],
   "source": [
    "cat ${WORKSPACE}/cwl-workflow/app-water-body-cloud-native.cwl | yq e .'$graph[0].steps[\"node_normalized_difference\"]' -"
   ]
  },
  {
   "cell_type": "markdown",
   "metadata": {},
   "source": [
    "The third step behaves the same way:"
   ]
  },
  {
   "cell_type": "code",
   "execution_count": 28,
   "metadata": {
    "vscode": {
     "languageId": "shellscript"
    }
   },
   "outputs": [
    {
     "name": "stdout",
     "output_type": "stream",
     "text": [
      "\u001b[36mrun\u001b[0m:\u001b[32m \"#otsu\"\u001b[0m\u001b[36m\u001b[0m\n",
      "\u001b[36min\u001b[0m:\u001b[36m\u001b[0m\n",
      "\u001b[36m  raster\u001b[0m:\u001b[36m\u001b[0m\n",
      "\u001b[36m    source\u001b[0m:\u001b[32m node_normalized_difference/ndwi\u001b[0m\n",
      "\u001b[32m\u001b[0m\u001b[36mout\u001b[0m:\n",
      "  -\u001b[32m binary_mask_item\u001b[0m\n"
     ]
    }
   ],
   "source": [
    "cat ${WORKSPACE}/cwl-workflow/app-water-body-cloud-native.cwl | yq e .'$graph[0].steps[\"node_otsu\"]' -"
   ]
  },
  {
   "cell_type": "markdown",
   "metadata": {},
   "source": [
    "The final step, `node_stac` takes the Workflow input `stac_item` and the output of `node_otsu`."
   ]
  },
  {
   "cell_type": "code",
   "execution_count": 29,
   "metadata": {
    "vscode": {
     "languageId": "shellscript"
    }
   },
   "outputs": [
    {
     "name": "stdout",
     "output_type": "stream",
     "text": [
      "\u001b[36mrun\u001b[0m:\u001b[32m \"#stac\"\u001b[0m\u001b[36m\u001b[0m\n",
      "\u001b[36min\u001b[0m:\u001b[36m\u001b[0m\n",
      "\u001b[36m  item\u001b[0m:\u001b[32m item\u001b[0m\n",
      "\u001b[32m  \u001b[0m\u001b[36mrasters\u001b[0m:\u001b[36m\u001b[0m\n",
      "\u001b[36m    source\u001b[0m:\u001b[32m node_otsu/binary_mask_item\u001b[0m\n",
      "\u001b[32m\u001b[0m\u001b[36mout\u001b[0m:\n",
      "  -\u001b[32m stac_catalog\u001b[0m\n"
     ]
    }
   ],
   "source": [
    "cat ${WORKSPACE}/cwl-workflow/app-water-body-cloud-native.cwl | yq e .'$graph[0].steps[\"node_stac\"]' -"
   ]
  },
  {
   "cell_type": "markdown",
   "metadata": {},
   "source": [
    "## Running the Workflow"
   ]
  },
  {
   "cell_type": "code",
   "execution_count": 31,
   "metadata": {
    "vscode": {
     "languageId": "shellscript"
    }
   },
   "outputs": [
    {
     "name": "stdout",
     "output_type": "stream",
     "text": [
      "\u001b[1;30mINFO\u001b[0m /home/fbrito/.local/bin/cwltool 3.1.20240112164112\n",
      "\u001b[1;30mINFO\u001b[0m Resolved '/workspace/mastering-app-package/cwl-workflow/app-water-body-cloud-native.cwl' to 'file:///workspace/mastering-app-package/cwl-workflow/app-water-body-cloud-native.cwl'\n",
      "\u001b[1;30mINFO\u001b[0m [workflow ] starting step node_crop\n",
      "\u001b[1;30mINFO\u001b[0m [step node_crop] start\n",
      "\u001b[1;30mINFO\u001b[0m [workflow ] start\n",
      "\u001b[1;30mINFO\u001b[0m [step node_crop] start\n",
      "\u001b[1;30mWARNING\u001b[0m \u001b[33m[job node_crop_2] Skipping Docker software container '--memory' limit despite presence of ResourceRequirement with ramMin and/or ramMax setting. Consider running with --strict-memory-limit for increased portability assurance.\u001b[0m\n",
      "\u001b[1;30mWARNING\u001b[0m \u001b[33m[job node_crop_2] Skipping Docker software container '--cpus' limit despite presence of ResourceRequirement with coresMin and/or coresMax setting. Consider running with --strict-cpu-limit for increased portability assurance.\u001b[0m\n",
      "\u001b[1;30mINFO\u001b[0m [job node_crop_2] /tmp/2d7t1zi9$ podman \\\n",
      "    run \\\n",
      "    -i \\\n",
      "    --userns=keep-id \\\n",
      "    --mount=type=bind,source=/tmp/2d7t1zi9,target=/XlYjPs \\\n",
      "    --mount=type=bind,source=/tmp/op7to6_k,target=/tmp \\\n",
      "    --workdir=/XlYjPs \\\n",
      "    --read-only=true \\\n",
      "    --user=1000:1000 \\\n",
      "    --rm \\\n",
      "    --cidfile=/tmp/rwfu8ta7/20240414184459-989787.cid \\\n",
      "    --env=TMPDIR=/tmp \\\n",
      "    --env=HOME=/XlYjPs \\\n",
      "    --env=PATH=/usr/local/sbin:/usr/local/bin:/usr/sbin:/usr/bin:/sbin:/bin \\\n",
      "    --env=PYTHONPATH=/app \\\n",
      "    localhost/crop:latest \\\n",
      "    python \\\n",
      "    -m \\\n",
      "    app \\\n",
      "    --aoi \\\n",
      "    -121.399,39.834,-120.74,40.472 \\\n",
      "    --band \\\n",
      "    nir \\\n",
      "    --epsg \\\n",
      "    EPSG:4326 \\\n",
      "    --input-item \\\n",
      "    https://earth-search.aws.element84.com/v0/collections/sentinel-s2-l2a-cogs/items/S2B_10TFK_20210713_0_L2A\n",
      "\u001b[1;30mWARNING\u001b[0m \u001b[33m[job node_crop] Skipping Docker software container '--memory' limit despite presence of ResourceRequirement with ramMin and/or ramMax setting. Consider running with --strict-memory-limit for increased portability assurance.\u001b[0m\n",
      "\u001b[1;30mWARNING\u001b[0m \u001b[33m[job node_crop] Skipping Docker software container '--cpus' limit despite presence of ResourceRequirement with coresMin and/or coresMax setting. Consider running with --strict-cpu-limit for increased portability assurance.\u001b[0m\n",
      "\u001b[1;30mINFO\u001b[0m [job node_crop] /tmp/ywna9y45$ podman \\\n",
      "    run \\\n",
      "    -i \\\n",
      "    --userns=keep-id \\\n",
      "    --mount=type=bind,source=/tmp/ywna9y45,target=/XlYjPs \\\n",
      "    --mount=type=bind,source=/tmp/_o8w7_bo,target=/tmp \\\n",
      "    --workdir=/XlYjPs \\\n",
      "    --read-only=true \\\n",
      "    --user=1000:1000 \\\n",
      "    --rm \\\n",
      "    --cidfile=/tmp/7oii_n5t/20240414184500-045900.cid \\\n",
      "    --env=TMPDIR=/tmp \\\n",
      "    --env=HOME=/XlYjPs \\\n",
      "    --env=PATH=/usr/local/sbin:/usr/local/bin:/usr/sbin:/usr/bin:/sbin:/bin \\\n",
      "    --env=PYTHONPATH=/app \\\n",
      "    localhost/crop:latest \\\n",
      "    python \\\n",
      "    -m \\\n",
      "    app \\\n",
      "    --aoi \\\n",
      "    -121.399,39.834,-120.74,40.472 \\\n",
      "    --band \\\n",
      "    green \\\n",
      "    --epsg \\\n",
      "    EPSG:4326 \\\n",
      "    --input-item \\\n",
      "    https://earth-search.aws.element84.com/v0/collections/sentinel-s2-l2a-cogs/items/S2B_10TFK_20210713_0_L2A\n",
      "2024-04-14 16:45:01.386 | INFO     | __main__:crop:69 - Read S2B_10TFK_20210713_0_L2A from https://earth-search.aws.element84.com/v0/collections/sentinel-s2-l2a-cogs/items/S2B_10TFK_20210713_0_L2A\n",
      "2024-04-14 16:45:01.439 | INFO     | __main__:crop:69 - Read S2B_10TFK_20210713_0_L2A from https://earth-search.aws.element84.com/v0/collections/sentinel-s2-l2a-cogs/items/S2B_10TFK_20210713_0_L2A\n",
      "2024-04-14 16:45:02.332 | INFO     | __main__:crop:72 - Read asset green from https://sentinel-cogs.s3.us-west-2.amazonaws.com/sentinel-s2-l2a-cogs/10/T/FK/2021/7/S2B_10TFK_20210713_0_L2A/B03.tif\n",
      "2024-04-14 16:45:03.256 | INFO     | __main__:crop:72 - Read asset nir from https://sentinel-cogs.s3.us-west-2.amazonaws.com/sentinel-s2-l2a-cogs/10/T/FK/2021/7/S2B_10TFK_20210713_0_L2A/B08.tif\n",
      "2024-04-14 16:45:05.121 | INFO     | __main__:crop:90 - Crop https://sentinel-cogs.s3.us-west-2.amazonaws.com/sentinel-s2-l2a-cogs/10/T/FK/2021/7/S2B_10TFK_20210713_0_L2A/B03.tif\n",
      "2024-04-14 16:45:05.659 | INFO     | __main__:crop:90 - Crop https://sentinel-cogs.s3.us-west-2.amazonaws.com/sentinel-s2-l2a-cogs/10/T/FK/2021/7/S2B_10TFK_20210713_0_L2A/B08.tif\n",
      "2024-04-14 16:45:29.983 | INFO     | __main__:crop:112 - Write crop_nir.tif\n",
      "2024-04-14 16:45:33.021 | INFO     | __main__:crop:115 - Done!\n",
      "\u001b[1;30mINFO\u001b[0m [job node_crop_2] Max memory used: 359MiB\n",
      "\u001b[1;30mINFO\u001b[0m [job node_crop_2] completed success\n",
      "2024-04-14 16:45:47.254 | INFO     | __main__:crop:112 - Write crop_green.tif\n",
      "2024-04-14 16:45:50.909 | INFO     | __main__:crop:115 - Done!\n",
      "\u001b[1;30mINFO\u001b[0m [job node_crop] Max memory used: 282MiB\n",
      "\u001b[1;30mINFO\u001b[0m [job node_crop] completed success\n",
      "\u001b[1;30mINFO\u001b[0m [step node_crop] completed success\n",
      "\u001b[1;30mINFO\u001b[0m [workflow ] starting step node_normalized_difference\n",
      "\u001b[1;30mINFO\u001b[0m [step node_normalized_difference] start\n",
      "\u001b[1;30mWARNING\u001b[0m \u001b[33m[job node_normalized_difference] Skipping Docker software container '--memory' limit despite presence of ResourceRequirement with ramMin and/or ramMax setting. Consider running with --strict-memory-limit for increased portability assurance.\u001b[0m\n",
      "\u001b[1;30mWARNING\u001b[0m \u001b[33m[job node_normalized_difference] Skipping Docker software container '--cpus' limit despite presence of ResourceRequirement with coresMin and/or coresMax setting. Consider running with --strict-cpu-limit for increased portability assurance.\u001b[0m\n",
      "\u001b[1;30mINFO\u001b[0m [job node_normalized_difference] /tmp/vqvp4tbt$ podman \\\n",
      "    run \\\n",
      "    -i \\\n",
      "    --userns=keep-id \\\n",
      "    --mount=type=bind,source=/tmp/vqvp4tbt,target=/XlYjPs \\\n",
      "    --mount=type=bind,source=/tmp/z5gx0z1p,target=/tmp \\\n",
      "    --mount=type=bind,source=/tmp/ywna9y45/crop_green.tif,target=/var/lib/cwl/stg51418f54-34cf-41fe-9a83-bf807c8396ce/crop_green.tif,readonly \\\n",
      "    --mount=type=bind,source=/tmp/2d7t1zi9/crop_nir.tif,target=/var/lib/cwl/stgeddeec3f-10b7-4ce8-914e-0edb95179b51/crop_nir.tif,readonly \\\n",
      "    --workdir=/XlYjPs \\\n",
      "    --read-only=true \\\n",
      "    --user=1000:1000 \\\n",
      "    --rm \\\n",
      "    --cidfile=/tmp/4_icvp2f/20240414184551-747993.cid \\\n",
      "    --env=TMPDIR=/tmp \\\n",
      "    --env=HOME=/XlYjPs \\\n",
      "    --env=PATH=/usr/local/sbin:/usr/local/bin:/usr/sbin:/usr/bin:/sbin:/bin \\\n",
      "    --env=PYTHONPATH=/app \\\n",
      "    localhost/norm-diff:latest \\\n",
      "    python \\\n",
      "    -m \\\n",
      "    app \\\n",
      "    /var/lib/cwl/stg51418f54-34cf-41fe-9a83-bf807c8396ce/crop_green.tif \\\n",
      "    /var/lib/cwl/stgeddeec3f-10b7-4ce8-914e-0edb95179b51/crop_nir.tif\n",
      "2024-04-14 16:45:52.160 | INFO     | __main__:normalized_difference:18 - Processing the normalized image with /var/lib/cwl/stg51418f54-34cf-41fe-9a83-bf807c8396ce/crop_green.tif and /var/lib/cwl/stgeddeec3f-10b7-4ce8-914e-0edb95179b51/crop_nir.tif\n",
      "2024-04-14 16:45:53.410 | INFO     | __main__:normalized_difference:39 - Write norm_diff.tif\n",
      "2024-04-14 16:45:57.979 | INFO     | __main__:normalized_difference:42 - Done!\n",
      "\u001b[1;30mINFO\u001b[0m [job node_normalized_difference] Max memory used: 809MiB\n",
      "\u001b[1;30mINFO\u001b[0m [job node_normalized_difference] completed success\n",
      "\u001b[1;30mINFO\u001b[0m [step node_normalized_difference] completed success\n",
      "\u001b[1;30mINFO\u001b[0m [workflow ] starting step node_otsu\n",
      "\u001b[1;30mINFO\u001b[0m [step node_otsu] start\n",
      "\u001b[1;30mWARNING\u001b[0m \u001b[33m[job node_otsu] Skipping Docker software container '--memory' limit despite presence of ResourceRequirement with ramMin and/or ramMax setting. Consider running with --strict-memory-limit for increased portability assurance.\u001b[0m\n",
      "\u001b[1;30mWARNING\u001b[0m \u001b[33m[job node_otsu] Skipping Docker software container '--cpus' limit despite presence of ResourceRequirement with coresMin and/or coresMax setting. Consider running with --strict-cpu-limit for increased portability assurance.\u001b[0m\n",
      "\u001b[1;30mINFO\u001b[0m [job node_otsu] /tmp/wzlt5b4x$ podman \\\n",
      "    run \\\n",
      "    -i \\\n",
      "    --userns=keep-id \\\n",
      "    --mount=type=bind,source=/tmp/wzlt5b4x,target=/XlYjPs \\\n",
      "    --mount=type=bind,source=/tmp/okq8gwan,target=/tmp \\\n",
      "    --mount=type=bind,source=/tmp/vqvp4tbt/norm_diff.tif,target=/var/lib/cwl/stg222d5022-28fc-418b-a1e9-c1d6fa6a2cf9/norm_diff.tif,readonly \\\n",
      "    --workdir=/XlYjPs \\\n",
      "    --read-only=true \\\n",
      "    --user=1000:1000 \\\n",
      "    --rm \\\n",
      "    --cidfile=/tmp/jhce3su1/20240414184559-185480.cid \\\n",
      "    --env=TMPDIR=/tmp \\\n",
      "    --env=HOME=/XlYjPs \\\n",
      "    --env=PATH=/usr/local/sbin:/usr/local/bin:/usr/sbin:/usr/bin:/sbin:/bin \\\n",
      "    --env=PYTHONPATH=/app \\\n",
      "    localhost/otsu:latest \\\n",
      "    python \\\n",
      "    -m \\\n",
      "    app \\\n",
      "    /var/lib/cwl/stg222d5022-28fc-418b-a1e9-c1d6fa6a2cf9/norm_diff.tif\n",
      "2024-04-14 16:46:00.629 | INFO     | __main__:otsu:37 - Applying the Otsu threshold to /var/lib/cwl/stg222d5022-28fc-418b-a1e9-c1d6fa6a2cf9/norm_diff.tif\n",
      "2024-04-14 16:46:00.636 | INFO     | __main__:otsu:40 - Write otsu.tif\n",
      "2024-04-14 16:46:02.187 | INFO     | __main__:otsu:43 - Done!\n",
      "\u001b[1;30mINFO\u001b[0m [job node_otsu] Max memory used: 231MiB\n",
      "\u001b[1;30mINFO\u001b[0m [job node_otsu] completed success\n",
      "\u001b[1;30mINFO\u001b[0m [step node_otsu] completed success\n",
      "\u001b[1;30mINFO\u001b[0m [workflow ] starting step node_stac\n",
      "\u001b[1;30mINFO\u001b[0m [step node_stac] start\n",
      "\u001b[1;30mWARNING\u001b[0m \u001b[33m[job node_stac] Skipping Docker software container '--memory' limit despite presence of ResourceRequirement with ramMin and/or ramMax setting. Consider running with --strict-memory-limit for increased portability assurance.\u001b[0m\n",
      "\u001b[1;30mWARNING\u001b[0m \u001b[33m[job node_stac] Skipping Docker software container '--cpus' limit despite presence of ResourceRequirement with coresMin and/or coresMax setting. Consider running with --strict-cpu-limit for increased portability assurance.\u001b[0m\n",
      "\u001b[1;30mINFO\u001b[0m [job node_stac] /tmp/b87g0g_a$ podman \\\n",
      "    run \\\n",
      "    -i \\\n",
      "    --userns=keep-id \\\n",
      "    --mount=type=bind,source=/tmp/b87g0g_a,target=/XlYjPs \\\n",
      "    --mount=type=bind,source=/tmp/7poq68il,target=/tmp \\\n",
      "    --mount=type=bind,source=/tmp/wzlt5b4x/otsu.tif,target=/var/lib/cwl/stgb06c66e6-995e-4127-9cbf-25873b650aa9/otsu.tif,readonly \\\n",
      "    --workdir=/XlYjPs \\\n",
      "    --read-only=true \\\n",
      "    --user=1000:1000 \\\n",
      "    --rm \\\n",
      "    --cidfile=/tmp/n0b2h_7s/20240414184603-135505.cid \\\n",
      "    --env=TMPDIR=/tmp \\\n",
      "    --env=HOME=/XlYjPs \\\n",
      "    --env=PATH=/usr/local/sbin:/usr/local/bin:/usr/sbin:/usr/bin:/sbin:/bin \\\n",
      "    --env=PYTHONPATH=/app \\\n",
      "    localhost/stac:latest \\\n",
      "    python \\\n",
      "    -m \\\n",
      "    app \\\n",
      "    --input-item \\\n",
      "    https://earth-search.aws.element84.com/v0/collections/sentinel-s2-l2a-cogs/items/S2B_10TFK_20210713_0_L2A \\\n",
      "    --water-body \\\n",
      "    /var/lib/cwl/stgb06c66e6-995e-4127-9cbf-25873b650aa9/otsu.tif\n",
      "2024-04-14 16:46:03.840 | INFO     | __main__:to_stac:31 - Creating a STAC Catalog for /var/lib/cwl/stgb06c66e6-995e-4127-9cbf-25873b650aa9/otsu.tif\n",
      "2024-04-14 16:46:04.662 | INFO     | __main__:to_stac:62 - Done!\n",
      "\u001b[1;30mINFO\u001b[0m [job node_stac] Max memory used: 38MiB\n",
      "\u001b[1;30mINFO\u001b[0m [job node_stac] completed success\n",
      "\u001b[1;30mINFO\u001b[0m [step node_stac] completed success\n",
      "\u001b[1;30mINFO\u001b[0m [workflow ] completed success\n",
      "{\n",
      "    \"stac_catalog\": {\n",
      "        \"location\": \"file:///workspace/mastering-app-package/runs/b87g0g_a\",\n",
      "        \"basename\": \"b87g0g_a\",\n",
      "        \"class\": \"Directory\",\n",
      "        \"listing\": [\n",
      "            {\n",
      "                \"class\": \"Directory\",\n",
      "                \"location\": \"file:///workspace/mastering-app-package/runs/b87g0g_a/S2B_10TFK_20210713_0_L2A\",\n",
      "                \"basename\": \"S2B_10TFK_20210713_0_L2A\",\n",
      "                \"listing\": [\n",
      "                    {\n",
      "                        \"class\": \"File\",\n",
      "                        \"location\": \"file:///workspace/mastering-app-package/runs/b87g0g_a/S2B_10TFK_20210713_0_L2A/S2B_10TFK_20210713_0_L2A.json\",\n",
      "                        \"basename\": \"S2B_10TFK_20210713_0_L2A.json\",\n",
      "                        \"size\": 5560,\n",
      "                        \"checksum\": \"sha1$407a62c94ecb728c5c048770b98d71f0c5f7e3db\",\n",
      "                        \"path\": \"/workspace/mastering-app-package/runs/b87g0g_a/S2B_10TFK_20210713_0_L2A/S2B_10TFK_20210713_0_L2A.json\"\n",
      "                    },\n",
      "                    {\n",
      "                        \"class\": \"File\",\n",
      "                        \"location\": \"file:///workspace/mastering-app-package/runs/b87g0g_a/S2B_10TFK_20210713_0_L2A/otsu.tif\",\n",
      "                        \"basename\": \"otsu.tif\",\n",
      "                        \"size\": 290099,\n",
      "                        \"checksum\": \"sha1$8cb131413518c30be6ba485ea61764491444cde5\",\n",
      "                        \"path\": \"/workspace/mastering-app-package/runs/b87g0g_a/S2B_10TFK_20210713_0_L2A/otsu.tif\"\n",
      "                    }\n",
      "                ],\n",
      "                \"path\": \"/workspace/mastering-app-package/runs/b87g0g_a/S2B_10TFK_20210713_0_L2A\"\n",
      "            },\n",
      "            {\n",
      "                \"class\": \"File\",\n",
      "                \"location\": \"file:///workspace/mastering-app-package/runs/b87g0g_a/catalog.json\",\n",
      "                \"basename\": \"catalog.json\",\n",
      "                \"size\": 359,\n",
      "                \"checksum\": \"sha1$497593179aa32d377199b10d540a37fd851a1727\",\n",
      "                \"path\": \"/workspace/mastering-app-package/runs/b87g0g_a/catalog.json\"\n",
      "            }\n",
      "        ],\n",
      "        \"path\": \"/workspace/mastering-app-package/runs/b87g0g_a\"\n",
      "    }\n",
      "}\u001b[1;30mINFO\u001b[0m Final process status is success\n"
     ]
    }
   ],
   "source": [
    "cwltool \\\n",
    "    --parallel \\\n",
    "    --outdir ${WORKSPACE}/runs \\\n",
    "    ${WORKSPACE}/cwl-workflow/app-water-body-cloud-native.cwl \\\n",
    "    --item \"https://earth-search.aws.element84.com/v0/collections/sentinel-s2-l2a-cogs/items/S2B_10TFK_20210713_0_L2A\" \\\n",
    "    --aoi=\"-121.399,39.834,-120.74,40.472\" \\\n",
    "    --epsg \"EPSG:4326\" \\\n",
    "    --bands green \\\n",
    "    --bands nir"
   ]
  },
  {
   "cell_type": "code",
   "execution_count": null,
   "metadata": {
    "vscode": {
     "languageId": "shellscript"
    }
   },
   "outputs": [],
   "source": []
  }
 ],
 "metadata": {
  "kernelspec": {
   "display_name": "Bash",
   "language": "bash",
   "name": "bash"
  },
  "language_info": {
   "codemirror_mode": "shell",
   "file_extension": ".sh",
   "mimetype": "text/x-sh",
   "name": "bash"
  }
 },
 "nbformat": 4,
 "nbformat_minor": 2
}
