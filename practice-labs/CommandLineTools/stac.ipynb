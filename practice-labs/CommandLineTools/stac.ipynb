{
 "cells": [
  {
   "cell_type": "markdown",
   "metadata": {},
   "source": [
    "# Stac\n",
    "\n",
    "## Goal\n",
    "\n",
    "Wrap the `stac` step as a Common Workflow Language `CommandLineTool` and execute it with a CWL runner.\n",
    "\n",
    "This notebook is linked to: https://eoap.github.io/mastering-app-package/cwl-cli/stac/"
   ]
  },
  {
   "cell_type": "markdown",
   "metadata": {},
   "source": [
    "## Setup"
   ]
  },
  {
   "cell_type": "code",
   "execution_count": null,
   "metadata": {
    "vscode": {
     "languageId": "shellscript"
    }
   },
   "outputs": [],
   "source": [
    "export WORKSPACE=/workspace/mastering-app-package\n",
    "export RUNTIME=${WORKSPACE}/runs\n",
    "mkdir -p ${RUNTIME}\n",
    "cd ${RUNTIME}\n"
   ]
  },
  {
   "cell_type": "markdown",
   "metadata": {},
   "source": [
    "## Run the stac\n",
    "\n",
    "Inspect and use `cwltool` to run the CommandLineTool definition:"
   ]
  },
  {
   "cell_type": "code",
   "execution_count": null,
   "metadata": {
    "vscode": {
     "languageId": "shellscript"
    }
   },
   "outputs": [],
   "source": [
    "cat ${WORKSPACE}/cwl-cli/stac.cwl | yq e -"
   ]
  },
  {
   "cell_type": "code",
   "execution_count": null,
   "metadata": {
    "vscode": {
     "languageId": "shellscript"
    }
   },
   "outputs": [],
   "source": [
    "cwltool \\\n",
    "    --podman \\\n",
    "    --outdir ${WORKSPACE}/runs \\\n",
    "    ${WORKSPACE}/cwl-cli/stac.cwl \\\n",
    "    --item \\\n",
    "    \"https://earth-search.aws.element84.com/v0/collections/sentinel-s2-l2a-cogs/items/S2B_10TFK_20210713_0_L2A\" \\\n",
    "    --raster \\\n",
    "    ${WORKSPACE}/runs/otsu.tif"
   ]
  },
  {
   "cell_type": "code",
   "execution_count": null,
   "metadata": {
    "vscode": {
     "languageId": "shellscript"
    }
   },
   "outputs": [],
   "source": []
  }
 ],
 "metadata": {
  "kernelspec": {
   "display_name": "Bash",
   "language": "bash",
   "name": "bash"
  },
  "language_info": {
   "codemirror_mode": "shell",
   "file_extension": ".sh",
   "mimetype": "text/x-sh",
   "name": "bash"
  }
 },
 "nbformat": 4,
 "nbformat_minor": 2
}
