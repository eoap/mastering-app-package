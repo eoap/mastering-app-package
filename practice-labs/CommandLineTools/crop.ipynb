{
 "cells": [
  {
   "cell_type": "markdown",
   "metadata": {},
   "source": [
    "# Crop\n",
    "\n",
    "Wrap the `crop` step as a Common Workflow Language CommandLineTool and execute it with a CWL runner.\n",
    "\n",
    "This notebook is linked to: https://eoap.github.io/mastering-app-package/cwl-cli/norm-diff/\n",
    "\n"
   ]
  },
  {
   "cell_type": "markdown",
   "metadata": {},
   "source": [
    "## Setup"
   ]
  },
  {
   "cell_type": "code",
   "execution_count": 5,
   "metadata": {
    "vscode": {
     "languageId": "shellscript"
    }
   },
   "outputs": [],
   "source": [
    "export WORKSPACE=/workspace/mastering-app-package\n",
    "export RUNTIME=${WORKSPACE}/runs\n",
    "mkdir -p ${RUNTIME}\n",
    "rm -fr ${RUNTIME}/*\n",
    "cd ${RUNTIME}\n"
   ]
  },
  {
   "cell_type": "markdown",
   "metadata": {},
   "source": [
    "## Run the crop\n",
    "\n",
    "Inspect and use `cwltool` to run the CommandLineTool definition:\n",
    "\n",
    "The CWL document below shows the `crop` step wrapped as a CWL CommandLineTool:"
   ]
  },
  {
   "cell_type": "code",
   "execution_count": 6,
   "metadata": {
    "vscode": {
     "languageId": "shellscript"
    }
   },
   "outputs": [
    {
     "name": "stdout",
     "output_type": "stream",
     "text": [
      "\u001b[36mcwlVersion\u001b[0m:\u001b[32m v1.0\u001b[0m\n",
      "\u001b[32m\u001b[0m\u001b[36mclass\u001b[0m:\u001b[32m CommandLineTool\u001b[0m\n",
      "\u001b[32m\u001b[0m\u001b[36mid\u001b[0m:\u001b[32m crop\u001b[0m\n",
      "\u001b[32m\u001b[0m\u001b[36mrequirements\u001b[0m:\u001b[36m\u001b[0m\n",
      "\u001b[36m  InlineJavascriptRequirement\u001b[0m: {}\u001b[36m\u001b[0m\n",
      "\u001b[36m  EnvVarRequirement\u001b[0m:\u001b[36m\u001b[0m\n",
      "\u001b[36m    envDef\u001b[0m:\u001b[36m\u001b[0m\n",
      "\u001b[36m      PYTHONPATH\u001b[0m:\u001b[32m /app\u001b[0m\n",
      "\u001b[32m  \u001b[0m\u001b[36mResourceRequirement\u001b[0m:\u001b[36m\u001b[0m\n",
      "\u001b[36m    coresMax\u001b[0m:\u001b[95m 1\u001b[0m\n",
      "\u001b[95m    \u001b[0m\u001b[36mramMax\u001b[0m:\u001b[95m 512\u001b[0m\n",
      "\u001b[95m\u001b[0m\u001b[36mhints\u001b[0m:\u001b[36m\u001b[0m\n",
      "\u001b[36m  DockerRequirement\u001b[0m:\u001b[36m\u001b[0m\n",
      "\u001b[36m    dockerPull\u001b[0m:\u001b[32m localhost/crop:latest\u001b[0m\n",
      "\u001b[32m\u001b[0m\u001b[36mbaseCommand\u001b[0m: [\u001b[32m\"python\"\u001b[0m,\u001b[32m \"-m\"\u001b[0m,\u001b[32m \"app\"\u001b[0m]\u001b[36m\u001b[0m\n",
      "\u001b[36marguments\u001b[0m: []\u001b[36m\u001b[0m\n",
      "\u001b[36minputs\u001b[0m:\u001b[36m\u001b[0m\n",
      "\u001b[36m  item\u001b[0m:\u001b[36m\u001b[0m\n",
      "\u001b[36m    type\u001b[0m:\u001b[32m string\u001b[0m\n",
      "\u001b[32m    \u001b[0m\u001b[36minputBinding\u001b[0m:\u001b[36m\u001b[0m\n",
      "\u001b[36m      prefix\u001b[0m:\u001b[32m --input-item\u001b[0m\n",
      "\u001b[32m  \u001b[0m\u001b[36maoi\u001b[0m:\u001b[36m\u001b[0m\n",
      "\u001b[36m    type\u001b[0m:\u001b[32m string\u001b[0m\n",
      "\u001b[32m    \u001b[0m\u001b[36minputBinding\u001b[0m:\u001b[36m\u001b[0m\n",
      "\u001b[36m      prefix\u001b[0m:\u001b[32m --aoi\u001b[0m\n",
      "\u001b[32m  \u001b[0m\u001b[36mepsg\u001b[0m:\u001b[36m\u001b[0m\n",
      "\u001b[36m    type\u001b[0m:\u001b[32m string\u001b[0m\n",
      "\u001b[32m    \u001b[0m\u001b[36minputBinding\u001b[0m:\u001b[36m\u001b[0m\n",
      "\u001b[36m      prefix\u001b[0m:\u001b[32m --epsg\u001b[0m\n",
      "\u001b[32m  \u001b[0m\u001b[36mband\u001b[0m:\u001b[36m\u001b[0m\n",
      "\u001b[36m    type\u001b[0m:\u001b[32m string\u001b[0m\n",
      "\u001b[32m    \u001b[0m\u001b[36minputBinding\u001b[0m:\u001b[36m\u001b[0m\n",
      "\u001b[36m      prefix\u001b[0m:\u001b[32m --band\u001b[0m\n",
      "\u001b[32m\u001b[0m\u001b[36moutputs\u001b[0m:\u001b[36m\u001b[0m\n",
      "\u001b[36m  cropped\u001b[0m:\u001b[36m\u001b[0m\n",
      "\u001b[36m    outputBinding\u001b[0m:\u001b[36m\u001b[0m\n",
      "\u001b[36m      glob\u001b[0m:\u001b[32m '*.tif'\u001b[0m\u001b[36m\u001b[0m\n",
      "\u001b[36m    type\u001b[0m:\u001b[32m File\u001b[0m\n"
     ]
    }
   ],
   "source": [
    "\n",
    "cat ${WORKSPACE}/cwl-cli/crop.cwl | yq e -"
   ]
  },
  {
   "cell_type": "markdown",
   "metadata": {},
   "source": [
    "Run the CWL description for the `crop` command line tool:"
   ]
  },
  {
   "cell_type": "code",
   "execution_count": 7,
   "metadata": {
    "vscode": {
     "languageId": "shellscript"
    }
   },
   "outputs": [
    {
     "name": "stdout",
     "output_type": "stream",
     "text": [
      "{\n",
      "    \"cropped\": {\n",
      "        \"location\": \"file:///workspace/mastering-app-package/runs/crop_green.tif\",\n",
      "        \"basename\": \"crop_green.tif\",\n",
      "        \"class\": \"File\",\n",
      "        \"checksum\": \"sha1$69255dfb77442b710fb7caf4fe2c555a8a8ca404\",\n",
      "        \"size\": 87481912,\n",
      "        \"path\": \"/workspace/mastering-app-package/runs/crop_green.tif\"\n",
      "    }\n",
      "}\n"
     ]
    }
   ],
   "source": [
    "\n",
    "\n",
    "cwltool \\\n",
    "    --podman \\\n",
    "    --outdir ${WORKSPACE}/runs \\\n",
    "    ${WORKSPACE}/cwl-cli/crop.cwl \\\n",
    "    --item \"https://earth-search.aws.element84.com/v0/collections/sentinel-s2-l2a-cogs/items/S2B_10TFK_20210713_0_L2A\" \\\n",
    "    --aoi=\"-121.399,39.834,-120.74,40.472\" \\\n",
    "    --epsg \"EPSG:4326\" \\\n",
    "    --band \"green\" 2> crop.log"
   ]
  },
  {
   "cell_type": "markdown",
   "metadata": {},
   "source": [
    "Let's look at the content of the stderr:"
   ]
  },
  {
   "cell_type": "code",
   "execution_count": 8,
   "metadata": {
    "vscode": {
     "languageId": "shellscript"
    }
   },
   "outputs": [
    {
     "name": "stdout",
     "output_type": "stream",
     "text": [
      "\u001b[1;30mINFO\u001b[0m /opt/conda/bin/cwltool 3.1.20231114134824\n",
      "\u001b[1;30mINFO\u001b[0m Resolved '/workspace/mastering-app-package/cwl-cli/crop.cwl' to 'file:///workspace/mastering-app-package/cwl-cli/crop.cwl'\n",
      "\u001b[1;30mWARNING\u001b[0m \u001b[33m[job crop] Skipping Docker software container '--memory' limit despite presence of ResourceRequirement with ramMin and/or ramMax setting. Consider running with --strict-memory-limit for increased portability assurance.\u001b[0m\n",
      "\u001b[1;30mWARNING\u001b[0m \u001b[33m[job crop] Skipping Docker software container '--cpus' limit despite presence of ResourceRequirement with coresMin and/or coresMax setting. Consider running with --strict-cpu-limit for increased portability assurance.\u001b[0m\n",
      "\u001b[1;30mINFO\u001b[0m [job crop] /tmp/oib4vuzt$ podman \\\n",
      "    run \\\n",
      "    -i \\\n",
      "    --userns=keep-id \\\n",
      "    --mount=type=bind,source=/tmp/oib4vuzt,target=/xNTPND \\\n",
      "    --mount=type=bind,source=/tmp/z7ja0avk,target=/tmp \\\n",
      "    --workdir=/xNTPND \\\n",
      "    --read-only=true \\\n",
      "    --user=1001:100 \\\n",
      "    --rm \\\n",
      "    --cidfile=/tmp/nsa2zcr4/20241210164614-518471.cid \\\n",
      "    --env=TMPDIR=/tmp \\\n",
      "    --env=HOME=/xNTPND \\\n",
      "    --env=PYTHONPATH=/app \\\n",
      "    localhost/crop:latest \\\n",
      "    python \\\n",
      "    -m \\\n",
      "    app \\\n",
      "    --aoi \\\n",
      "    -121.399,39.834,-120.74,40.472 \\\n",
      "    --band \\\n",
      "    green \\\n",
      "    --epsg \\\n",
      "    EPSG:4326 \\\n",
      "    --input-item \\\n",
      "    https://earth-search.aws.element84.com/v0/collections/sentinel-s2-l2a-cogs/items/S2B_10TFK_20210713_0_L2A\n",
      "2024-12-10 16:46:15.590 | INFO     | __main__:crop:69 - Read S2B_10TFK_20210713_0_L2A from https://earth-search.aws.element84.com/v0/collections/sentinel-s2-l2a-cogs/items/S2B_10TFK_20210713_0_L2A\n",
      "2024-12-10 16:46:15.618 | INFO     | __main__:crop:72 - Read asset green from https://sentinel-cogs.s3.us-west-2.amazonaws.com/sentinel-s2-l2a-cogs/10/T/FK/2021/7/S2B_10TFK_20210713_0_L2A/B03.tif\n",
      "2024-12-10 16:46:17.734 | INFO     | __main__:crop:90 - Crop https://sentinel-cogs.s3.us-west-2.amazonaws.com/sentinel-s2-l2a-cogs/10/T/FK/2021/7/S2B_10TFK_20210713_0_L2A/B03.tif\n",
      "2024-12-10 16:46:56.163 | INFO     | __main__:crop:112 - Write crop_green.tif\n",
      "2024-12-10 16:46:59.135 | INFO     | __main__:crop:115 - Done!\n",
      "\u001b[1;30mINFO\u001b[0m [job crop] Max memory used: 2208MiB\n",
      "\u001b[1;30mINFO\u001b[0m [job crop] completed success\n",
      "\u001b[1;30mINFO\u001b[0m Final process status is success\n"
     ]
    }
   ],
   "source": [
    "cat crop.log"
   ]
  },
  {
   "cell_type": "markdown",
   "metadata": {},
   "source": [
    "Remember the `cwltool` CWL runner can also take the parameters as a YAML file:\n"
   ]
  },
  {
   "cell_type": "code",
   "execution_count": 9,
   "metadata": {
    "vscode": {
     "languageId": "shellscript"
    }
   },
   "outputs": [],
   "source": [
    "cat << EOF > params.yaml\n",
    "item: https://earth-search.aws.element84.com/v0/collections/sentinel-s2-l2a-cogs/items/S2B_10TFK_20210713_0_L2A\n",
    "aoi: \"-121.399,39.834,-120.74,40.472\"\n",
    "epsg: \"EPSG:4326\"\n",
    "band: nir\n",
    "EOF"
   ]
  },
  {
   "cell_type": "markdown",
   "metadata": {},
   "source": [
    "Invoke `crop` against the NIR band redirecting the stdout to a file:"
   ]
  },
  {
   "cell_type": "code",
   "execution_count": null,
   "metadata": {
    "vscode": {
     "languageId": "shellscript"
    }
   },
   "outputs": [],
   "source": [
    "cwltool \\\n",
    "    --podman \\\n",
    "    --outdir ${WORKSPACE}/runs \\\n",
    "    ${WORKSPACE}/cwl-cli/crop.cwl \\\n",
    "    params.yaml > results.json "
   ]
  },
  {
   "cell_type": "markdown",
   "metadata": {},
   "source": [
    "Let's inspect the stdout produced. The `output` block with the id `cropped` of the CWL description is a file:"
   ]
  },
  {
   "cell_type": "code",
   "execution_count": null,
   "metadata": {
    "vscode": {
     "languageId": "shellscript"
    }
   },
   "outputs": [],
   "source": [
    "cat results.json"
   ]
  },
  {
   "cell_type": "code",
   "execution_count": null,
   "metadata": {
    "vscode": {
     "languageId": "shellscript"
    }
   },
   "outputs": [],
   "source": [
    "cat ${WORKSPACE}/cwl-cli/crop.cwl | yq e .outputs -"
   ]
  },
  {
   "cell_type": "markdown",
   "metadata": {},
   "source": [
    "Let's list the results produced:"
   ]
  },
  {
   "cell_type": "code",
   "execution_count": null,
   "metadata": {
    "vscode": {
     "languageId": "shellscript"
    }
   },
   "outputs": [],
   "source": [
    "ls -l ${RUNTIME}"
   ]
  },
  {
   "cell_type": "code",
   "execution_count": null,
   "metadata": {
    "vscode": {
     "languageId": "shellscript"
    }
   },
   "outputs": [],
   "source": []
  }
 ],
 "metadata": {
  "kernelspec": {
   "display_name": "Bash",
   "language": "bash",
   "name": "bash"
  },
  "language_info": {
   "codemirror_mode": "shell",
   "file_extension": ".sh",
   "mimetype": "text/x-sh",
   "name": "bash"
  }
 },
 "nbformat": 4,
 "nbformat_minor": 2
}
