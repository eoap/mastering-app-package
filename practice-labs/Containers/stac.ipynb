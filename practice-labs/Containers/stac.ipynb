{
 "cells": [
  {
   "cell_type": "markdown",
   "metadata": {},
   "source": [
    "# Build and test the stac container\n",
    "\n",
    "This notebook is linked to https://eoap.github.io/mastering-app-package/containers/stac/\n",
    "\n",
    "## Goal\n",
    "\n",
    "Create a container image and run the stac step in a container.\n"
   ]
  },
  {
   "cell_type": "markdown",
   "metadata": {},
   "source": [
    "## Setup the environment"
   ]
  },
  {
   "cell_type": "code",
   "execution_count": 2,
   "metadata": {
    "vscode": {
     "languageId": "shellscript"
    }
   },
   "outputs": [],
   "source": [
    "export WORKSPACE=/workspace/mastering-app-package\n",
    "export RUNTIME=${WORKSPACE}/runs\n",
    "mkdir -p ${RUNTIME}\n",
    "cd ${RUNTIME}"
   ]
  },
  {
   "cell_type": "markdown",
   "metadata": {},
   "source": [
    "## Build the container\n",
    "\n",
    "Inspect the container file:"
   ]
  },
  {
   "cell_type": "code",
   "execution_count": 3,
   "metadata": {
    "vscode": {
     "languageId": "shellscript"
    }
   },
   "outputs": [
    {
     "name": "stdout",
     "output_type": "stream",
     "text": [
      "FROM docker.io/python:3.10-slim\n",
      "\n",
      "RUN pip install --no-cache-dir pystac rio_stac loguru click && \\\n",
      "    python -c \"import rio_stac\"\n",
      "\n",
      "ADD app.py /app/app.py\n",
      "\n",
      "ENTRYPOINT []\n"
     ]
    }
   ],
   "source": [
    "cat ${WORKSPACE}/water-bodies/command-line-tools/stac/Dockerfile"
   ]
  },
  {
   "cell_type": "markdown",
   "metadata": {},
   "source": [
    "Build the container using `podman`:"
   ]
  },
  {
   "cell_type": "code",
   "execution_count": 4,
   "metadata": {
    "vscode": {
     "languageId": "shellscript"
    }
   },
   "outputs": [
    {
     "name": "stdout",
     "output_type": "stream",
     "text": [
      "STEP 1/4: FROM docker.io/python:3.10-slim\n",
      "STEP 2/4: RUN pip install --no-cache-dir pystac rio_stac loguru click &&     python -c \"import rio_stac\"\n",
      "Collecting pystac\n",
      "  Downloading pystac-1.10.0-py3-none-any.whl (182 kB)\n",
      "     ━━━━━━━━━━━━━━━━━━━━━━━━━━━━━━━━━━━━━━━ 182.9/182.9 kB 3.0 MB/s eta 0:00:00\n",
      "Collecting rio_stac\n",
      "  Downloading rio_stac-0.9.0-py3-none-any.whl (11 kB)\n",
      "Collecting loguru\n",
      "  Downloading loguru-0.7.2-py3-none-any.whl (62 kB)\n",
      "     ━━━━━━━━━━━━━━━━━━━━━━━━━━━━━━━━━━━━━━━━ 62.5/62.5 kB 9.2 MB/s eta 0:00:00\n",
      "Collecting click\n",
      "  Downloading click-8.1.7-py3-none-any.whl (97 kB)\n",
      "     ━━━━━━━━━━━━━━━━━━━━━━━━━━━━━━━━━━━━━━━━ 97.9/97.9 kB 8.1 MB/s eta 0:00:00\n",
      "Collecting python-dateutil>=2.7.0\n",
      "  Downloading python_dateutil-2.9.0.post0-py2.py3-none-any.whl (229 kB)\n",
      "     ━━━━━━━━━━━━━━━━━━━━━━━━━━━━━━━━━━━━━━━ 229.9/229.9 kB 6.9 MB/s eta 0:00:00\n",
      "Collecting rasterio\n",
      "  Downloading rasterio-1.3.9-cp310-cp310-manylinux2014_x86_64.whl (20.6 MB)\n",
      "     ━━━━━━━━━━━━━━━━━━━━━━━━━━━━━━━━━━━━━━━━ 20.6/20.6 MB 7.2 MB/s eta 0:00:00\n",
      "Collecting six>=1.5\n",
      "  Downloading six-1.16.0-py2.py3-none-any.whl (11 kB)\n",
      "Collecting certifi\n",
      "  Downloading certifi-2024.2.2-py3-none-any.whl (163 kB)\n",
      "     ━━━━━━━━━━━━━━━━━━━━━━━━━━━━━━━━━━━━━━━ 163.8/163.8 kB 7.8 MB/s eta 0:00:00\n",
      "Collecting affine\n",
      "  Downloading affine-2.4.0-py3-none-any.whl (15 kB)\n",
      "Collecting numpy\n",
      "  Downloading numpy-1.26.4-cp310-cp310-manylinux_2_17_x86_64.manylinux2014_x86_64.whl (18.2 MB)\n",
      "     ━━━━━━━━━━━━━━━━━━━━━━━━━━━━━━━━━━━━━━━━ 18.2/18.2 MB 7.2 MB/s eta 0:00:00\n",
      "Collecting snuggs>=1.4.1\n",
      "  Downloading snuggs-1.4.7-py3-none-any.whl (5.4 kB)\n",
      "Requirement already satisfied: setuptools in /usr/local/lib/python3.10/site-packages (from rasterio->rio_stac) (65.5.1)\n",
      "Collecting cligj>=0.5\n",
      "  Downloading cligj-0.7.2-py3-none-any.whl (7.1 kB)\n",
      "Collecting click-plugins\n",
      "  Downloading click_plugins-1.1.1-py2.py3-none-any.whl (7.5 kB)\n",
      "Collecting attrs\n",
      "  Downloading attrs-23.2.0-py3-none-any.whl (60 kB)\n",
      "     ━━━━━━━━━━━━━━━━━━━━━━━━━━━━━━━━━━━━━━━━ 60.8/60.8 kB 10.6 MB/s eta 0:00:00\n",
      "Collecting pyparsing>=2.1.6\n",
      "  Downloading pyparsing-3.1.2-py3-none-any.whl (103 kB)\n",
      "     ━━━━━━━━━━━━━━━━━━━━━━━━━━━━━━━━━━━━━━━ 103.2/103.2 kB 7.8 MB/s eta 0:00:00\n",
      "Installing collected packages: six, pyparsing, numpy, loguru, click, certifi, attrs, affine, snuggs, python-dateutil, cligj, click-plugins, rasterio, pystac, rio_stac\n",
      "Successfully installed affine-2.4.0 attrs-23.2.0 certifi-2024.2.2 click-8.1.7 click-plugins-1.1.1 cligj-0.7.2 loguru-0.7.2 numpy-1.26.4 pyparsing-3.1.2 pystac-1.10.0 python-dateutil-2.9.0.post0 rasterio-1.3.9 rio_stac-0.9.0 six-1.16.0 snuggs-1.4.7\n",
      "WARNING: Running pip as the 'root' user can result in broken permissions and conflicting behaviour with the system package manager. It is recommended to use a virtual environment instead: https://pip.pypa.io/warnings/venv\n",
      "\n",
      "[notice] A new release of pip is available: 23.0.1 -> 24.0\n",
      "[notice] To update, run: pip install --upgrade pip\n",
      "--> 40cfe012ada\n",
      "STEP 3/4: ADD app.py /app/app.py\n",
      "--> 6874f4be88f\n",
      "STEP 4/4: ENTRYPOINT []\n",
      "COMMIT localhost/stac:latest\n",
      "--> 06725269f1e\n",
      "Successfully tagged localhost/stac:latest\n",
      "06725269f1e1a60b4349450632c8a8c51cb8e8e5a23b6322a1743197e60aed3b\n"
     ]
    }
   ],
   "source": [
    "podman build --format docker -t localhost/stac:latest ${WORKSPACE}/water-bodies/command-line-tools/stac\n"
   ]
  },
  {
   "cell_type": "markdown",
   "metadata": {},
   "source": [
    "Show the `otsu` help:"
   ]
  },
  {
   "cell_type": "code",
   "execution_count": 5,
   "metadata": {
    "vscode": {
     "languageId": "shellscript"
    }
   },
   "outputs": [
    {
     "name": "stdout",
     "output_type": "stream",
     "text": [
      "Usage: app.py [OPTIONS]\n",
      "\n",
      "  Creates a STAC catalog with the water bodies\n",
      "\n",
      "Options:\n",
      "  --input-item TEXT  STAC Item URL  [required]\n",
      "  --water-body TEXT  Water body geotiff  [required]\n",
      "  --help             Show this message and exit.\n"
     ]
    }
   ],
   "source": [
    "podman run --rm -it --env=PYTHONPATH=/app localhost/stac:latest python -m app --help"
   ]
  },
  {
   "cell_type": "markdown",
   "metadata": {},
   "source": [
    "## Test the stac step in the container\n",
    "\n",
    "Generate the STAC Catalog with detected water bodies:"
   ]
  },
  {
   "cell_type": "code",
   "execution_count": 6,
   "metadata": {
    "vscode": {
     "languageId": "shellscript"
    }
   },
   "outputs": [
    {
     "name": "stdout",
     "output_type": "stream",
     "text": [
      "2024-04-11 13:49:11.766 | INFO     | __main__:to_stac:31 - Creating a STAC Catalog for /inputs/otsu.tif\n",
      "2024-04-11 13:49:12.485 | INFO     | __main__:to_stac:62 - Done!\n"
     ]
    }
   ],
   "source": [
    "podman \\\n",
    "    run \\\n",
    "    -i \\\n",
    "    --userns=keep-id \\\n",
    "    --mount=type=bind,source=/workspace/mastering-app-package/runs,target=/runs \\\n",
    "    --mount=type=bind,source=/workspace/mastering-app-package/runs/otsu.tif,target=/inputs/otsu.tif,readonly \\\n",
    "    --workdir=/runs \\\n",
    "    --read-only=true \\\n",
    "    --user=1001:100 \\\n",
    "    --rm \\\n",
    "    --env=HOME=/runs \\\n",
    "    --env=PYTHONPATH=/app \\\n",
    "    localhost/stac:latest \\\n",
    "    python \\\n",
    "    -m \\\n",
    "    app \\\n",
    "    --input-item \\\n",
    "    https://earth-search.aws.element84.com/v0/collections/sentinel-s2-l2a-cogs/items/S2B_10TFK_20210713_0_L2A \\\n",
    "    --water-body \\\n",
    "    /inputs/otsu.tif"
   ]
  },
  {
   "cell_type": "markdown",
   "metadata": {},
   "source": [
    "List the outputs:"
   ]
  },
  {
   "cell_type": "code",
   "execution_count": 7,
   "metadata": {
    "vscode": {
     "languageId": "shellscript"
    }
   },
   "outputs": [
    {
     "name": "stdout",
     "output_type": "stream",
     "text": [
      "\u001b[01;34m/workspace/mastering-app-package/runs\u001b[0m\n",
      "├── catalog.json\n",
      "├── \u001b[01;35mcrop_green.tif\u001b[0m\n",
      "├── \u001b[01;35mcrop_nir.tif\u001b[0m\n",
      "├── \u001b[01;35mnorm_diff.tif\u001b[0m\n",
      "├── \u001b[01;35motsu.tif\u001b[0m\n",
      "└── \u001b[01;34mS2B_10TFK_20210713_0_L2A\u001b[0m\n",
      "    ├── \u001b[01;35motsu.tif\u001b[0m\n",
      "    └── S2B_10TFK_20210713_0_L2A.json\n",
      "\n",
      "1 directory, 7 files\n"
     ]
    }
   ],
   "source": [
    "tree ${RUNTIME}"
   ]
  },
  {
   "cell_type": "code",
   "execution_count": null,
   "metadata": {
    "vscode": {
     "languageId": "shellscript"
    }
   },
   "outputs": [],
   "source": []
  }
 ],
 "metadata": {
  "kernelspec": {
   "display_name": "Bash",
   "language": "bash",
   "name": "bash"
  },
  "language_info": {
   "codemirror_mode": "shell",
   "file_extension": ".sh",
   "mimetype": "text/x-sh",
   "name": "bash"
  }
 },
 "nbformat": 4,
 "nbformat_minor": 2
}
