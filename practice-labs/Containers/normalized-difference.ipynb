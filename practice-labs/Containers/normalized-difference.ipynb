{
 "cells": [
  {
   "cell_type": "markdown",
   "metadata": {},
   "source": [
    "# Build and test the normalized difference container\n",
    "\n",
    "This notebook is linked to https://eoap.github.io/mastering-app-package/containers/norm-diff/\n",
    "\n",
    "## Goal\n",
    "\n",
    "Create a container and run the normalized difference step in the container image.\n"
   ]
  },
  {
   "cell_type": "markdown",
   "metadata": {},
   "source": [
    "## Setup the environment"
   ]
  },
  {
   "cell_type": "code",
   "execution_count": 1,
   "metadata": {
    "vscode": {
     "languageId": "shellscript"
    }
   },
   "outputs": [],
   "source": [
    "export WORKSPACE=/workspace/mastering-app-package\n",
    "export RUNTIME=${WORKSPACE}/runs\n",
    "mkdir -p ${RUNTIME}\n",
    "cd ${RUNTIME}"
   ]
  },
  {
   "cell_type": "markdown",
   "metadata": {},
   "source": [
    "## Build the container\n",
    "\n",
    "Inspect the container file:"
   ]
  },
  {
   "cell_type": "code",
   "execution_count": 3,
   "metadata": {
    "vscode": {
     "languageId": "shellscript"
    }
   },
   "outputs": [
    {
     "name": "stdout",
     "output_type": "stream",
     "text": [
      "FROM docker.io/python:3.10-slim\n",
      "\n",
      "RUN pip install --no-cache-dir rasterio click loguru && \\\n",
      "    python -c \"import rasterio\"\n",
      "\n",
      "ADD app.py /app/app.py\n",
      "\n",
      "ENTRYPOINT []\n",
      "\n"
     ]
    }
   ],
   "source": [
    "cat ${WORKSPACE}/water-bodies/command-line-tools/norm_diff/Dockerfile"
   ]
  },
  {
   "cell_type": "markdown",
   "metadata": {},
   "source": [
    "Build the container using `podman`:"
   ]
  },
  {
   "cell_type": "code",
   "execution_count": 7,
   "metadata": {
    "vscode": {
     "languageId": "shellscript"
    }
   },
   "outputs": [
    {
     "name": "stdout",
     "output_type": "stream",
     "text": [
      "STEP 1/4: FROM docker.io/python:3.10-slim\n",
      "STEP 2/4: RUN pip install --no-cache-dir rasterio click loguru &&     python -c \"import rasterio\"\n",
      "--> Using cache 5242a5830b84d375022f5459fea09295ee02dd76200ca7eba3f5ad08894c69e0\n",
      "--> 5242a5830b8\n",
      "STEP 3/4: ADD app.py /app/app.py\n",
      "--> Using cache 970e5b06c0b248c340c5ecbab6dad6cbbf17b76b8bb651dc5ca1d9bb3db25ba5\n",
      "--> 970e5b06c0b\n",
      "STEP 4/4: ENTRYPOINT []\n",
      "--> Using cache a2cb333a5c463b89520ba64c8f81080bbf6141cb2f13dcb13d3a7a93088c5f09\n",
      "COMMIT localhost/norm-diff:latest\n",
      "--> a2cb333a5c4\n",
      "Successfully tagged localhost/norm-diff:latest\n",
      "Successfully tagged localhost/norm_diff:latest\n",
      "a2cb333a5c463b89520ba64c8f81080bbf6141cb2f13dcb13d3a7a93088c5f09\n"
     ]
    }
   ],
   "source": [
    "podman build --format docker -t localhost/norm-diff:latest ${WORKSPACE}/water-bodies/command-line-tools/norm_diff\n"
   ]
  },
  {
   "cell_type": "markdown",
   "metadata": {},
   "source": [
    "Show the `norm-diff` help:"
   ]
  },
  {
   "cell_type": "code",
   "execution_count": 8,
   "metadata": {
    "vscode": {
     "languageId": "shellscript"
    }
   },
   "outputs": [
    {
     "name": "stdout",
     "output_type": "stream",
     "text": [
      "Usage: app.py [OPTIONS] RASTERS...\n",
      "\n",
      "  Performs a normalized difference\n",
      "\n",
      "Options:\n",
      "  --help  Show this message and exit.\n"
     ]
    }
   ],
   "source": [
    "podman run --rm -it --env=PYTHONPATH=/app localhost/norm-diff:latest python -m app --help"
   ]
  },
  {
   "cell_type": "markdown",
   "metadata": {},
   "source": [
    "## Test the normalized difference step in the container\n",
    "\n",
    "Generate the normalized difference between the green and nir bands:"
   ]
  },
  {
   "cell_type": "code",
   "execution_count": 9,
   "metadata": {
    "vscode": {
     "languageId": "shellscript"
    }
   },
   "outputs": [
    {
     "name": "stdout",
     "output_type": "stream",
     "text": [
      "2024-04-11 13:31:01.641 | INFO     | __main__:normalized_difference:18 - Processing the normalized image with /inputs/crop_green.tif and /inputs/crop_nir.tif\n",
      "2024-04-11 13:31:03.219 | INFO     | __main__:normalized_difference:39 - Write norm_diff.tif\n",
      "2024-04-11 13:31:09.840 | INFO     | __main__:normalized_difference:42 - Done!\n"
     ]
    }
   ],
   "source": [
    "podman \\\n",
    "    run \\\n",
    "    -i \\\n",
    "    --userns=keep-id \\\n",
    "    --mount=type=bind,source=/workspace/mastering-app-package/runs,target=/runs \\\n",
    "    --mount=type=bind,source=/workspace/mastering-app-package/runs/crop_green.tif,target=/inputs/crop_green.tif,readonly \\\n",
    "    --mount=type=bind,source=/workspace/mastering-app-package/runs/crop_nir.tif,target=/inputs/crop_nir.tif,readonly \\\n",
    "    --workdir=/runs \\\n",
    "    --read-only=true \\\n",
    "    --user=1001:100 \\\n",
    "    --rm \\\n",
    "    --env=HOME=/runs \\\n",
    "    --env=PYTHONPATH=/app \\\n",
    "    localhost/norm-diff:latest \\\n",
    "    python \\\n",
    "    -m \\\n",
    "    app \\\n",
    "    /inputs/crop_green.tif \\\n",
    "    /inputs/crop_nir.tif"
   ]
  },
  {
   "cell_type": "markdown",
   "metadata": {},
   "source": [
    "List the outputs:"
   ]
  },
  {
   "cell_type": "code",
   "execution_count": 10,
   "metadata": {
    "vscode": {
     "languageId": "shellscript"
    }
   },
   "outputs": [
    {
     "name": "stdout",
     "output_type": "stream",
     "text": [
      "\u001b[01;34m/workspace/mastering-app-package/runs\u001b[0m\n",
      "├── \u001b[01;35mcrop_green.tif\u001b[0m\n",
      "├── \u001b[01;35mcrop_nir.tif\u001b[0m\n",
      "└── \u001b[01;35mnorm_diff.tif\u001b[0m\n",
      "\n",
      "0 directories, 3 files\n"
     ]
    }
   ],
   "source": [
    "tree ${RUNTIME}"
   ]
  }
 ],
 "metadata": {
  "kernelspec": {
   "display_name": "Bash",
   "language": "bash",
   "name": "bash"
  },
  "language_info": {
   "codemirror_mode": "shell",
   "file_extension": ".sh",
   "mimetype": "text/x-sh",
   "name": "bash"
  }
 },
 "nbformat": 4,
 "nbformat_minor": 2
}
