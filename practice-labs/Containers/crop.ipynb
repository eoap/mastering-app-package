{
 "cells": [
  {
   "cell_type": "markdown",
   "metadata": {},
   "source": [
    "# Build and test the crop container\n",
    "\n",
    "This notebook is linked to https://eoap.github.io/mastering-app-package/containers/crop/\n",
    "\n",
    "## Goal\n",
    "\n",
    "Create a container and run the crop step in the container image.\n"
   ]
  },
  {
   "cell_type": "markdown",
   "metadata": {},
   "source": [
    "## Setup the environment"
   ]
  },
  {
   "cell_type": "code",
   "execution_count": 1,
   "metadata": {
    "vscode": {
     "languageId": "shellscript"
    }
   },
   "outputs": [],
   "source": [
    "export WORKSPACE=/workspace/mastering-app-package\n",
    "export RUNTIME=${WORKSPACE}/runs\n",
    "rm -fr ${WORKSPACE}/runs\n",
    "mkdir -p ${RUNTIME}\n",
    "cd ${RUNTIME}"
   ]
  },
  {
   "cell_type": "markdown",
   "metadata": {},
   "source": [
    "## Build the container\n",
    "\n",
    "Inspect the container file:"
   ]
  },
  {
   "cell_type": "code",
   "execution_count": 2,
   "metadata": {
    "vscode": {
     "languageId": "shellscript"
    }
   },
   "outputs": [
    {
     "name": "stdout",
     "output_type": "stream",
     "text": [
      "FROM docker.io/library/python:3.10-slim@sha256:80619a5316afae7045a3c13371b0ee670f39bac46ea1ed35081d2bf91d6c3dbd\n",
      "\n",
      "RUN pip install --no-cache-dir rasterio click pystac loguru pyproj shapely && \\\n",
      "    python -c \"import rasterio\"\n",
      "\n",
      "ADD app.py /app/app.py\n",
      "\n",
      "ENTRYPOINT []\n"
     ]
    }
   ],
   "source": [
    "cat ${WORKSPACE}/water-bodies/command-line-tools/crop/Dockerfile"
   ]
  },
  {
   "cell_type": "markdown",
   "metadata": {},
   "source": [
    "Build the container using `podman`:"
   ]
  },
  {
   "cell_type": "code",
   "execution_count": 3,
   "metadata": {
    "vscode": {
     "languageId": "shellscript"
    }
   },
   "outputs": [
    {
     "name": "stdout",
     "output_type": "stream",
     "text": [
      "STEP 1/4: FROM docker.io/library/python:3.10-slim@sha256:80619a5316afae7045a3c13371b0ee670f39bac46ea1ed35081d2bf91d6c3dbd\n",
      "Trying to pull docker.io/library/python@sha256:80619a5316afae7045a3c13371b0ee670f39bac46ea1ed35081d2bf91d6c3dbd...\n",
      "Getting image source signatures\n",
      "Copying blob a2318d6c47ec [=>---------------------------------] 1.9MiB / 27.8MiB\n",
      "Copying blob ddee35dfe011 [========>-------------------------] 863.2KiB / 3.3MiB\n",
      "Copying blob 8a7a13810b7d [=>-------------------------------] 694.3KiB / 14.8MiB\n",
      "Copying blob cd4054fd8660 [====================================] 250.0b / 250.0b\n",
      "\u001b[4A\u001b[JCopying blob a2318d6c47ec [=====>-----------------------------] 4.6MiB / 27.8MiB\n",
      "Copying blob ddee35dfe011 [====================================] 3.3MiB / 3.3MiB\n",
      "Copying blob 8a7a13810b7d [====>------------------------------] 2.3MiB / 14.8MiB\n",
      "Copying blob cd4054fd8660 done  \n",
      "\u001b[4A\u001b[JCopying blob a2318d6c47ec [=========>-------------------------] 7.8MiB / 27.8MiB\n",
      "Copying blob ddee35dfe011 done  \n",
      "Copying blob 8a7a13810b7d [==========>------------------------] 4.8MiB / 14.8MiB\n",
      "Copying blob cd4054fd8660 done  \n",
      "\u001b[4A\u001b[JCopying blob a2318d6c47ec [=============>--------------------] 11.6MiB / 27.8MiB\n",
      "Copying blob ddee35dfe011 done  \n",
      "Copying blob 8a7a13810b7d [===================>---------------] 8.3MiB / 14.8MiB\n",
      "Copying blob cd4054fd8660 done  \n",
      "\u001b[4A\u001b[JCopying blob a2318d6c47ec [==================>---------------] 15.3MiB / 27.8MiB\n",
      "Copying blob ddee35dfe011 done  \n",
      "Copying blob 8a7a13810b7d [========================>---------] 10.8MiB / 14.8MiB\n",
      "Copying blob cd4054fd8660 done  \n",
      "\u001b[4A\u001b[JCopying blob a2318d6c47ec [======================>-----------] 19.1MiB / 27.8MiB\n",
      "Copying blob ddee35dfe011 done  \n",
      "Copying blob 8a7a13810b7d [==============================>---] 13.4MiB / 14.8MiB\n",
      "Copying blob cd4054fd8660 done  \n",
      "\u001b[4A\u001b[JCopying blob a2318d6c47ec [==========================>-------] 22.5MiB / 27.8MiB\n",
      "Copying blob ddee35dfe011 done  \n",
      "Copying blob 8a7a13810b7d [==================================] 14.8MiB / 14.8MiB\n",
      "Copying blob cd4054fd8660 done  \n",
      "\u001b[4A\u001b[JCopying blob a2318d6c47ec [==================================] 27.8MiB / 27.8MiB\n",
      "Copying blob ddee35dfe011 done  \n",
      "Copying blob 8a7a13810b7d done  \n",
      "Copying blob cd4054fd8660 done  \n",
      "\u001b[4A\u001b[JCopying blob a2318d6c47ec done  \n",
      "Copying blob ddee35dfe011 done  \n",
      "Copying blob 8a7a13810b7d done  \n",
      "Copying blob cd4054fd8660 done  \n",
      "\u001b[4A\u001b[JCopying blob a2318d6c47ec done  \n",
      "Copying blob ddee35dfe011 done  \n",
      "Copying blob 8a7a13810b7d done  \n",
      "Copying blob cd4054fd8660 done  \n",
      "\u001b[4A\u001b[JCopying blob a2318d6c47ec done  \n",
      "Copying blob ddee35dfe011 done  \n",
      "Copying blob 8a7a13810b7d done  \n",
      "Copying blob cd4054fd8660 done  \n",
      "\u001b[4A\u001b[JCopying blob a2318d6c47ec done  \n",
      "Copying blob ddee35dfe011 done  \n",
      "Copying blob 8a7a13810b7d done  \n",
      "Copying blob cd4054fd8660 done  \n",
      "\u001b[4A\u001b[JCopying blob a2318d6c47ec done  \n",
      "Copying blob ddee35dfe011 done  \n",
      "Copying blob 8a7a13810b7d done  \n",
      "Copying blob cd4054fd8660 done  \n",
      "\u001b[4A\u001b[JCopying blob a2318d6c47ec done  \n",
      "Copying blob ddee35dfe011 done  \n",
      "Copying blob 8a7a13810b7d done  \n",
      "Copying blob cd4054fd8660 done  \n",
      "\u001b[4A\u001b[JCopying blob a2318d6c47ec done  \n",
      "Copying blob ddee35dfe011 done  \n",
      "Copying blob 8a7a13810b7d done  \n",
      "Copying blob cd4054fd8660 done  \n",
      "\u001b[4A\u001b[JCopying blob a2318d6c47ec done  \n",
      "Copying blob ddee35dfe011 done  \n",
      "Copying blob 8a7a13810b7d done  \n",
      "Copying blob cd4054fd8660 done  \n",
      "\u001b[4A\u001b[JCopying blob a2318d6c47ec done  \n",
      "Copying blob ddee35dfe011 done  \n",
      "Copying blob 8a7a13810b7d done  \n",
      "Copying blob cd4054fd8660 done  \n",
      "\u001b[4A\u001b[JCopying blob a2318d6c47ec done  \n",
      "Copying blob ddee35dfe011 done  \n",
      "Copying blob 8a7a13810b7d done  \n",
      "Copying blob cd4054fd8660 done  \n",
      "\u001b[4A\u001b[JCopying blob a2318d6c47ec done  \n",
      "Copying blob ddee35dfe011 done  \n",
      "Copying blob 8a7a13810b7d done  \n",
      "Copying blob cd4054fd8660 done  \n",
      "Copying config 72b4600e65 [====================================] 5.1KiB / 5.1KiB\n",
      "\u001b[1A\u001b[JCopying config 72b4600e65 done  \n",
      "Writing manifest to image destination\n",
      "Storing signatures\n",
      "STEP 2/4: RUN pip install --no-cache-dir rasterio click pystac loguru pyproj shapely &&     python -c \"import rasterio\"\n",
      "Collecting rasterio\n",
      "  Downloading rasterio-1.4.3-cp310-cp310-manylinux_2_17_x86_64.manylinux2014_x86_64.whl (22.2 MB)\n",
      "     ━━━━━━━━━━━━━━━━━━━━━━━━━━━━━━━━━━━━━━━ 22.2/22.2 MB 249.3 MB/s eta 0:00:00\n",
      "Collecting click\n",
      "  Downloading click-8.1.7-py3-none-any.whl (97 kB)\n",
      "     ━━━━━━━━━━━━━━━━━━━━━━━━━━━━━━━━━━━━━━━ 97.9/97.9 kB 275.3 MB/s eta 0:00:00\n",
      "Collecting pystac\n",
      "  Downloading pystac-1.11.0-py3-none-any.whl (183 kB)\n",
      "     ━━━━━━━━━━━━━━━━━━━━━━━━━━━━━━━━━━━━━ 183.9/183.9 kB 340.8 MB/s eta 0:00:00\n",
      "Collecting loguru\n",
      "  Downloading loguru-0.7.3-py3-none-any.whl (61 kB)\n",
      "     ━━━━━━━━━━━━━━━━━━━━━━━━━━━━━━━━━━━━━━━ 61.6/61.6 kB 138.1 MB/s eta 0:00:00\n",
      "Collecting pyproj\n",
      "  Downloading pyproj-3.7.0-cp310-cp310-manylinux_2_17_x86_64.manylinux2014_x86_64.whl (9.2 MB)\n",
      "     ━━━━━━━━━━━━━━━━━━━━━━━━━━━━━━━━━━━━━━━━ 9.2/9.2 MB 121.9 MB/s eta 0:00:00\n",
      "Collecting shapely\n",
      "  Downloading shapely-2.0.6-cp310-cp310-manylinux_2_17_x86_64.manylinux2014_x86_64.whl (2.5 MB)\n",
      "     ━━━━━━━━━━━━━━━━━━━━━━━━━━━━━━━━━━━━━━━━ 2.5/2.5 MB 131.7 MB/s eta 0:00:00\n",
      "Collecting affine\n",
      "  Downloading affine-2.4.0-py3-none-any.whl (15 kB)\n",
      "Collecting certifi\n",
      "  Downloading certifi-2024.8.30-py3-none-any.whl (167 kB)\n",
      "     ━━━━━━━━━━━━━━━━━━━━━━━━━━━━━━━━━━━━━ 167.3/167.3 kB 156.0 MB/s eta 0:00:00\n",
      "Collecting click-plugins\n",
      "  Downloading click_plugins-1.1.1-py2.py3-none-any.whl (7.5 kB)\n",
      "Collecting pyparsing\n",
      "  Downloading pyparsing-3.2.0-py3-none-any.whl (106 kB)\n",
      "     ━━━━━━━━━━━━━━━━━━━━━━━━━━━━━━━━━━━━━ 106.9/106.9 kB 316.0 MB/s eta 0:00:00\n",
      "Collecting cligj>=0.5\n",
      "  Downloading cligj-0.7.2-py3-none-any.whl (7.1 kB)\n",
      "Collecting attrs\n",
      "  Downloading attrs-24.2.0-py3-none-any.whl (63 kB)\n",
      "     ━━━━━━━━━━━━━━━━━━━━━━━━━━━━━━━━━━━━━━━ 63.0/63.0 kB 287.9 MB/s eta 0:00:00\n",
      "Collecting numpy>=1.24\n",
      "  Downloading numpy-2.2.0-cp310-cp310-manylinux_2_17_x86_64.manylinux2014_x86_64.whl (16.4 MB)\n",
      "     ━━━━━━━━━━━━━━━━━━━━━━━━━━━━━━━━━━━━━━━ 16.4/16.4 MB 187.3 MB/s eta 0:00:00\n",
      "Collecting python-dateutil>=2.7.0\n",
      "  Downloading python_dateutil-2.9.0.post0-py2.py3-none-any.whl (229 kB)\n",
      "     ━━━━━━━━━━━━━━━━━━━━━━━━━━━━━━━━━━━━━ 229.9/229.9 kB 337.6 MB/s eta 0:00:00\n",
      "Collecting six>=1.5\n",
      "  Downloading six-1.17.0-py2.py3-none-any.whl (11 kB)\n",
      "Installing collected packages: six, pyparsing, numpy, loguru, click, certifi, attrs, affine, shapely, python-dateutil, pyproj, cligj, click-plugins, rasterio, pystac\n",
      "Successfully installed affine-2.4.0 attrs-24.2.0 certifi-2024.8.30 click-8.1.7 click-plugins-1.1.1 cligj-0.7.2 loguru-0.7.3 numpy-2.2.0 pyparsing-3.2.0 pyproj-3.7.0 pystac-1.11.0 python-dateutil-2.9.0.post0 rasterio-1.4.3 shapely-2.0.6 six-1.17.0\n",
      "WARNING: Running pip as the 'root' user can result in broken permissions and conflicting behaviour with the system package manager. It is recommended to use a virtual environment instead: https://pip.pypa.io/warnings/venv\n",
      "\n",
      "[notice] A new release of pip is available: 23.0.1 -> 24.3.1\n",
      "[notice] To update, run: pip install --upgrade pip\n",
      "--> 2c96efc86c4\n",
      "STEP 3/4: ADD app.py /app/app.py\n",
      "--> ffe7e965db4\n",
      "STEP 4/4: ENTRYPOINT []\n",
      "COMMIT localhost/crop:latest\n",
      "--> 749e8831fe1\n",
      "Successfully tagged localhost/crop:latest\n",
      "749e8831fe1d339ddb79f1d8dd1ee9fa81490770e17f1f9f7ecd9130e39ae015\n"
     ]
    }
   ],
   "source": [
    "podman build --format docker -t localhost/crop:latest ${WORKSPACE}/water-bodies/command-line-tools/crop\n"
   ]
  },
  {
   "cell_type": "markdown",
   "metadata": {},
   "source": [
    "Show the `crop` help:"
   ]
  },
  {
   "cell_type": "code",
   "execution_count": 4,
   "metadata": {
    "vscode": {
     "languageId": "shellscript"
    }
   },
   "outputs": [
    {
     "name": "stdout",
     "output_type": "stream",
     "text": [
      "Usage: app.py [OPTIONS]\n",
      "\n",
      "  Crops a STAC Item asset defined with its common band name\n",
      "\n",
      "Options:\n",
      "  --input-item TEXT  STAC Item URL or staged STAC catalog  [required]\n",
      "  --aoi TEXT         Area of interest expressed as a bounding box  [required]\n",
      "  --epsg TEXT        EPSG code  [required]\n",
      "  --band TEXT        Common band name  [required]\n",
      "  --help             Show this message and exit.\n"
     ]
    }
   ],
   "source": [
    "podman run --rm -it --env=PYTHONPATH=/app localhost/crop:latest python -m app --help"
   ]
  },
  {
   "cell_type": "markdown",
   "metadata": {},
   "source": [
    "## Test the crop step in the container\n",
    "\n",
    "Crop the green band asset:"
   ]
  },
  {
   "cell_type": "code",
   "execution_count": 5,
   "metadata": {
    "vscode": {
     "languageId": "shellscript"
    }
   },
   "outputs": [
    {
     "name": "stdout",
     "output_type": "stream",
     "text": [
      "2024-12-10 16:46:03.098 | INFO     | __main__:crop:69 - Read S2B_10TFK_20210713_0_L2A from https://earth-search.aws.element84.com/v0/collections/sentinel-s2-l2a-cogs/items/S2B_10TFK_20210713_0_L2A\n",
      "2024-12-10 16:46:03.126 | INFO     | __main__:crop:72 - Read asset green from https://sentinel-cogs.s3.us-west-2.amazonaws.com/sentinel-s2-l2a-cogs/10/T/FK/2021/7/S2B_10TFK_20210713_0_L2A/B03.tif\n",
      "2024-12-10 16:46:05.390 | INFO     | __main__:crop:90 - Crop https://sentinel-cogs.s3.us-west-2.amazonaws.com/sentinel-s2-l2a-cogs/10/T/FK/2021/7/S2B_10TFK_20210713_0_L2A/B03.tif\n",
      "2024-12-10 16:46:24.680 | INFO     | __main__:crop:112 - Write crop_green.tif\n",
      "2024-12-10 16:46:27.663 | INFO     | __main__:crop:115 - Done!\n"
     ]
    }
   ],
   "source": [
    "podman run \\\n",
    "    -i \\\n",
    "    --userns=keep-id \\\n",
    "    --mount=type=bind,source=/workspace/mastering-app-package/runs,target=/runs \\\n",
    "    --workdir=/runs \\\n",
    "    --read-only=true \\\n",
    "    --user=1001:100 \\\n",
    "    --rm \\\n",
    "    --env=HOME=/runs \\\n",
    "    --env=PYTHONPATH=/app \\\n",
    "    localhost/crop:latest \\\n",
    "    python \\\n",
    "    -m \\\n",
    "    app \\\n",
    "    --aoi \\\n",
    "    \"-121.399,39.834,-120.74,40.472\" \\\n",
    "    --band \\\n",
    "    green \\\n",
    "    --epsg \\\n",
    "    \"EPSG:4326\" \\\n",
    "    --input-item \\\n",
    "    https://earth-search.aws.element84.com/v0/collections/sentinel-s2-l2a-cogs/items/S2B_10TFK_20210713_0_L2A"
   ]
  },
  {
   "cell_type": "markdown",
   "metadata": {},
   "source": [
    "Crop the nir band asset:"
   ]
  },
  {
   "cell_type": "code",
   "execution_count": 6,
   "metadata": {
    "vscode": {
     "languageId": "shellscript"
    }
   },
   "outputs": [
    {
     "name": "stdout",
     "output_type": "stream",
     "text": [
      "2024-12-10 16:46:29.994 | INFO     | __main__:crop:69 - Read S2B_10TFK_20210713_0_L2A from https://earth-search.aws.element84.com/v0/collections/sentinel-s2-l2a-cogs/items/S2B_10TFK_20210713_0_L2A\n",
      "2024-12-10 16:46:30.022 | INFO     | __main__:crop:72 - Read asset nir from https://sentinel-cogs.s3.us-west-2.amazonaws.com/sentinel-s2-l2a-cogs/10/T/FK/2021/7/S2B_10TFK_20210713_0_L2A/B08.tif\n",
      "2024-12-10 16:46:32.256 | INFO     | __main__:crop:90 - Crop https://sentinel-cogs.s3.us-west-2.amazonaws.com/sentinel-s2-l2a-cogs/10/T/FK/2021/7/S2B_10TFK_20210713_0_L2A/B08.tif\n",
      "2024-12-10 16:46:47.548 | INFO     | __main__:crop:112 - Write crop_nir.tif\n",
      "2024-12-10 16:46:50.592 | INFO     | __main__:crop:115 - Done!\n"
     ]
    }
   ],
   "source": [
    "podman run \\\n",
    "    -i \\\n",
    "    --userns=keep-id \\\n",
    "    --mount=type=bind,source=/workspace/mastering-app-package/runs,target=/runs \\\n",
    "    --workdir=/runs \\\n",
    "    --read-only=true \\\n",
    "    --user=1001:100 \\\n",
    "    --rm \\\n",
    "    --env=HOME=/runs \\\n",
    "    --env=PYTHONPATH=/app \\\n",
    "    localhost/crop:latest \\\n",
    "    python \\\n",
    "    -m \\\n",
    "    app \\\n",
    "    --aoi \\\n",
    "    \"-121.399,39.834,-120.74,40.472\" \\\n",
    "    --band \\\n",
    "    nir \\\n",
    "    --epsg \\\n",
    "    \"EPSG:4326\" \\\n",
    "    --input-item \\\n",
    "    https://earth-search.aws.element84.com/v0/collections/sentinel-s2-l2a-cogs/items/S2B_10TFK_20210713_0_L2A"
   ]
  },
  {
   "cell_type": "markdown",
   "metadata": {},
   "source": [
    "List the outputs:"
   ]
  },
  {
   "cell_type": "code",
   "execution_count": 7,
   "metadata": {
    "vscode": {
     "languageId": "shellscript"
    }
   },
   "outputs": [
    {
     "name": "stdout",
     "output_type": "stream",
     "text": [
      "/workspace/mastering-app-package/runs\n",
      "├── crop.log\n",
      "├── crop_green.tif\n",
      "└── crop_nir.tif\n",
      "\n",
      "0 directories, 3 files\n"
     ]
    }
   ],
   "source": [
    "tree ${RUNTIME}"
   ]
  },
  {
   "cell_type": "code",
   "execution_count": null,
   "metadata": {
    "vscode": {
     "languageId": "shellscript"
    }
   },
   "outputs": [],
   "source": []
  },
  {
   "cell_type": "code",
   "execution_count": null,
   "metadata": {
    "vscode": {
     "languageId": "shellscript"
    }
   },
   "outputs": [],
   "source": []
  }
 ],
 "metadata": {
  "kernelspec": {
   "display_name": "Bash",
   "language": "bash",
   "name": "bash"
  },
  "language_info": {
   "codemirror_mode": "shell",
   "file_extension": ".sh",
   "mimetype": "text/x-sh",
   "name": "bash"
  }
 },
 "nbformat": 4,
 "nbformat_minor": 2
}
