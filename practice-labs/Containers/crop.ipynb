{
 "cells": [
  {
   "cell_type": "markdown",
   "metadata": {},
   "source": [
    "# Build and test the crop container\n",
    "\n",
    "This notebook is linked to https://eoap.github.io/mastering-app-package/containers/crop/\n",
    "\n",
    "## Goal\n",
    "\n",
    "Create a container and run the crop step in the container image.\n"
   ]
  },
  {
   "cell_type": "markdown",
   "metadata": {},
   "source": [
    "## Setup the environment"
   ]
  },
  {
   "cell_type": "code",
   "execution_count": 6,
   "metadata": {
    "vscode": {
     "languageId": "shellscript"
    }
   },
   "outputs": [],
   "source": [
    "export WORKSPACE=/workspace/mastering-app-package\n",
    "export RUNTIME=${WORKSPACE}/runs\n",
    "rm -fr ${WORKSPACE}/runs\n",
    "mkdir -p ${RUNTIME}\n",
    "cd ${RUNTIME}"
   ]
  },
  {
   "cell_type": "markdown",
   "metadata": {},
   "source": [
    "## Build the container\n",
    "\n",
    "Inspect the container file:"
   ]
  },
  {
   "cell_type": "code",
   "execution_count": 7,
   "metadata": {
    "vscode": {
     "languageId": "shellscript"
    }
   },
   "outputs": [
    {
     "name": "stdout",
     "output_type": "stream",
     "text": [
      "FROM docker.io/python:3.10-slim\n",
      "\n",
      "RUN pip install --no-cache-dir rasterio click pystac loguru pyproj shapely && \\\n",
      "    python -c \"import rasterio\"\n",
      "\n",
      "ADD app.py /app/app.py\n",
      "\n",
      "ENTRYPOINT []\n"
     ]
    }
   ],
   "source": [
    "cat ${WORKSPACE}/water-bodies/command-line-tools/crop/Dockerfile"
   ]
  },
  {
   "cell_type": "markdown",
   "metadata": {},
   "source": [
    "Build the container using `podman`:"
   ]
  },
  {
   "cell_type": "code",
   "execution_count": 8,
   "metadata": {
    "vscode": {
     "languageId": "shellscript"
    }
   },
   "outputs": [
    {
     "name": "stdout",
     "output_type": "stream",
     "text": [
      "STEP 1/4: FROM docker.io/python:3.10-slim\n",
      "STEP 2/4: RUN pip install --no-cache-dir rasterio click pystac loguru pyproj shapely &&     python -c \"import rasterio\"\n",
      "--> Using cache 771703387ab8311730a9448d47d575226b37218987bf7756e9b0a04ebc1a2fdc\n",
      "--> 771703387ab\n",
      "STEP 3/4: ADD app.py /app/app.py\n"
     ]
    },
    {
     "name": "stdout",
     "output_type": "stream",
     "text": [
      "--> Using cache aef5f7f9517c155b38e4bcc2cb5ba5ea417f85700559d5862ee51f371ae4f816\n",
      "--> aef5f7f9517\n",
      "STEP 4/4: ENTRYPOINT []\n",
      "--> Using cache 4aa8681dcdb8e3b1222bf92314b6bd005cd41f71ce9f1a8555fec6c0b6695687\n",
      "COMMIT localhost/crop:latest\n",
      "--> 4aa8681dcdb\n",
      "Successfully tagged localhost/crop:latest\n",
      "4aa8681dcdb8e3b1222bf92314b6bd005cd41f71ce9f1a8555fec6c0b6695687\n"
     ]
    }
   ],
   "source": [
    "podman build --format docker -t localhost/crop:latest ${WORKSPACE}/water-bodies/command-line-tools/crop\n"
   ]
  },
  {
   "cell_type": "markdown",
   "metadata": {},
   "source": [
    "Show the `crop` help:"
   ]
  },
  {
   "cell_type": "code",
   "execution_count": 9,
   "metadata": {
    "vscode": {
     "languageId": "shellscript"
    }
   },
   "outputs": [
    {
     "name": "stdout",
     "output_type": "stream",
     "text": [
      "Usage: app.py [OPTIONS]\n",
      "\n",
      "  Crops a STAC Item asset defined with its common band name\n",
      "\n",
      "Options:\n",
      "  --input-item TEXT  STAC Item URL or staged STAC catalog  [required]\n",
      "  --aoi TEXT         Area of interest expressed as a bounding box  [required]\n",
      "  --epsg TEXT        EPSG code  [required]\n",
      "  --band TEXT        Common band name  [required]\n",
      "  --help             Show this message and exit.\n"
     ]
    }
   ],
   "source": [
    "podman run --rm -it --env=PYTHONPATH=/app localhost/crop:latest python -m app --help"
   ]
  },
  {
   "cell_type": "markdown",
   "metadata": {},
   "source": [
    "## Test the crop step in the container\n",
    "\n",
    "Crop the green band asset:"
   ]
  },
  {
   "cell_type": "code",
   "execution_count": 10,
   "metadata": {
    "vscode": {
     "languageId": "shellscript"
    }
   },
   "outputs": [
    {
     "name": "stdout",
     "output_type": "stream",
     "text": [
      "2024-04-11 13:18:02.129 | INFO     | __main__:crop:69 - Read S2B_10TFK_20210713_0_L2A from https://earth-search.aws.element84.com/v0/collections/sentinel-s2-l2a-cogs/items/S2B_10TFK_20210713_0_L2A\n",
      "2024-04-11 13:18:02.806 | INFO     | __main__:crop:72 - Read asset green from https://sentinel-cogs.s3.us-west-2.amazonaws.com/sentinel-s2-l2a-cogs/10/T/FK/2021/7/S2B_10TFK_20210713_0_L2A/B03.tif\n",
      "2024-04-11 13:18:09.578 | INFO     | __main__:crop:90 - Crop https://sentinel-cogs.s3.us-west-2.amazonaws.com/sentinel-s2-l2a-cogs/10/T/FK/2021/7/S2B_10TFK_20210713_0_L2A/B03.tif\n",
      "2024-04-11 13:18:56.293 | INFO     | __main__:crop:112 - Write crop_green.tif\n",
      "2024-04-11 13:19:01.137 | INFO     | __main__:crop:115 - Done!\n"
     ]
    }
   ],
   "source": [
    "podman run \\\n",
    "    -i \\\n",
    "    --userns=keep-id \\\n",
    "    --mount=type=bind,source=/workspace/mastering-app-package/runs,target=/runs \\\n",
    "    --workdir=/runs \\\n",
    "    --read-only=true \\\n",
    "    --user=1001:100 \\\n",
    "    --rm \\\n",
    "    --env=HOME=/runs \\\n",
    "    --env=PYTHONPATH=/app \\\n",
    "    localhost/crop:latest \\\n",
    "    python \\\n",
    "    -m \\\n",
    "    app \\\n",
    "    --aoi \\\n",
    "    \"-121.399,39.834,-120.74,40.472\" \\\n",
    "    --band \\\n",
    "    green \\\n",
    "    --epsg \\\n",
    "    \"EPSG:4326\" \\\n",
    "    --input-item \\\n",
    "    https://earth-search.aws.element84.com/v0/collections/sentinel-s2-l2a-cogs/items/S2B_10TFK_20210713_0_L2A"
   ]
  },
  {
   "cell_type": "markdown",
   "metadata": {},
   "source": [
    "Crop the nir band asset:"
   ]
  },
  {
   "cell_type": "code",
   "execution_count": 11,
   "metadata": {
    "vscode": {
     "languageId": "shellscript"
    }
   },
   "outputs": [
    {
     "name": "stdout",
     "output_type": "stream",
     "text": [
      "2024-04-11 13:19:06.260 | INFO     | __main__:crop:69 - Read S2B_10TFK_20210713_0_L2A from https://earth-search.aws.element84.com/v0/collections/sentinel-s2-l2a-cogs/items/S2B_10TFK_20210713_0_L2A\n",
      "2024-04-11 13:19:06.932 | INFO     | __main__:crop:72 - Read asset nir from https://sentinel-cogs.s3.us-west-2.amazonaws.com/sentinel-s2-l2a-cogs/10/T/FK/2021/7/S2B_10TFK_20210713_0_L2A/B08.tif\n",
      "2024-04-11 13:19:09.389 | INFO     | __main__:crop:90 - Crop https://sentinel-cogs.s3.us-west-2.amazonaws.com/sentinel-s2-l2a-cogs/10/T/FK/2021/7/S2B_10TFK_20210713_0_L2A/B08.tif\n",
      "2024-04-11 13:20:21.714 | INFO     | __main__:crop:112 - Write crop_nir.tif\n",
      "2024-04-11 13:20:26.459 | INFO     | __main__:crop:115 - Done!\n"
     ]
    }
   ],
   "source": [
    "podman run \\\n",
    "    -i \\\n",
    "    --userns=keep-id \\\n",
    "    --mount=type=bind,source=/workspace/mastering-app-package/runs,target=/runs \\\n",
    "    --workdir=/runs \\\n",
    "    --read-only=true \\\n",
    "    --user=1001:100 \\\n",
    "    --rm \\\n",
    "    --env=HOME=/runs \\\n",
    "    --env=PYTHONPATH=/app \\\n",
    "    localhost/crop:latest \\\n",
    "    python \\\n",
    "    -m \\\n",
    "    app \\\n",
    "    --aoi \\\n",
    "    \"-121.399,39.834,-120.74,40.472\" \\\n",
    "    --band \\\n",
    "    nir \\\n",
    "    --epsg \\\n",
    "    \"EPSG:4326\" \\\n",
    "    --input-item \\\n",
    "    https://earth-search.aws.element84.com/v0/collections/sentinel-s2-l2a-cogs/items/S2B_10TFK_20210713_0_L2A"
   ]
  },
  {
   "cell_type": "markdown",
   "metadata": {},
   "source": [
    "List the outputs:"
   ]
  },
  {
   "cell_type": "code",
   "execution_count": 12,
   "metadata": {
    "vscode": {
     "languageId": "shellscript"
    }
   },
   "outputs": [
    {
     "name": "stdout",
     "output_type": "stream",
     "text": [
      "\u001b[01;34m/workspace/mastering-app-package/runs\u001b[0m\n",
      "├── \u001b[01;35mcrop_green.tif\u001b[0m\n",
      "└── \u001b[01;35mcrop_nir.tif\u001b[0m\n",
      "\n",
      "0 directories, 2 files\n"
     ]
    }
   ],
   "source": [
    "tree ${RUNTIME}"
   ]
  },
  {
   "cell_type": "code",
   "execution_count": null,
   "metadata": {
    "vscode": {
     "languageId": "shellscript"
    }
   },
   "outputs": [],
   "source": []
  }
 ],
 "metadata": {
  "kernelspec": {
   "display_name": "Bash",
   "language": "bash",
   "name": "bash"
  },
  "language_info": {
   "codemirror_mode": "shell",
   "file_extension": ".sh",
   "mimetype": "text/x-sh",
   "name": "bash"
  }
 },
 "nbformat": 4,
 "nbformat_minor": 2
}
