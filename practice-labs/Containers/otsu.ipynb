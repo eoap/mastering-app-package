{
 "cells": [
  {
   "cell_type": "markdown",
   "metadata": {},
   "source": [
    "# Build and test the otsu container\n",
    "\n",
    "This notebook is linked to https://eoap.github.io/mastering-app-package/containers/otsu/\n",
    "\n",
    "## Goal\n",
    "\n",
    "Create a container image and run the otsu step in a container.\n"
   ]
  },
  {
   "cell_type": "markdown",
   "metadata": {},
   "source": [
    "## Setup the environment"
   ]
  },
  {
   "cell_type": "code",
   "execution_count": 2,
   "metadata": {
    "vscode": {
     "languageId": "shellscript"
    }
   },
   "outputs": [],
   "source": [
    "export WORKSPACE=/workspace/mastering-app-package\n",
    "export RUNTIME=${WORKSPACE}/runs\n",
    "mkdir -p ${RUNTIME}\n",
    "cd ${RUNTIME}"
   ]
  },
  {
   "cell_type": "markdown",
   "metadata": {},
   "source": [
    "## Build the container\n",
    "\n",
    "Inspect the container file:"
   ]
  },
  {
   "cell_type": "code",
   "execution_count": 3,
   "metadata": {
    "vscode": {
     "languageId": "shellscript"
    }
   },
   "outputs": [
    {
     "name": "stdout",
     "output_type": "stream",
     "text": [
      "FROM docker.io/python:3.10-slim\n",
      "\n",
      "RUN pip install --no-cache-dir rasterio scikit-image click loguru && \\\n",
      "    python -c \"import rasterio\"\n",
      "\n",
      "ADD app.py /app/app.py\n",
      "\n",
      "ENTRYPOINT []\n"
     ]
    }
   ],
   "source": [
    "cat ${WORKSPACE}/water-bodies/command-line-tools/otsu/Dockerfile"
   ]
  },
  {
   "cell_type": "markdown",
   "metadata": {},
   "source": [
    "Build the container using `podman`:"
   ]
  },
  {
   "cell_type": "code",
   "execution_count": 6,
   "metadata": {
    "vscode": {
     "languageId": "shellscript"
    }
   },
   "outputs": [
    {
     "name": "stdout",
     "output_type": "stream",
     "text": [
      "STEP 1/4: FROM docker.io/python:3.10-slim\n",
      "STEP 2/4: RUN pip install --no-cache-dir rasterio scikit-image click loguru &&     python -c \"import rasterio\"\n",
      "Collecting rasterio\n",
      "  Downloading rasterio-1.3.9-cp310-cp310-manylinux2014_x86_64.whl (20.6 MB)\n",
      "     ━━━━━━━━━━━━━━━━━━━━━━━━━━━━━━━━━━━━━━━━ 20.6/20.6 MB 7.4 MB/s eta 0:00:00\n",
      "Collecting scikit-image\n",
      "  Downloading scikit_image-0.23.1-cp310-cp310-manylinux_2_17_x86_64.manylinux2014_x86_64.whl (14.7 MB)\n",
      "     ━━━━━━━━━━━━━━━━━━━━━━━━━━━━━━━━━━━━━━━━ 14.7/14.7 MB 7.5 MB/s eta 0:00:00\n",
      "Collecting click\n",
      "  Downloading click-8.1.7-py3-none-any.whl (97 kB)\n",
      "     ━━━━━━━━━━━━━━━━━━━━━━━━━━━━━━━━━━━━━━━━ 97.9/97.9 kB 7.9 MB/s eta 0:00:00\n",
      "Collecting loguru\n",
      "  Downloading loguru-0.7.2-py3-none-any.whl (62 kB)\n",
      "     ━━━━━━━━━━━━━━━━━━━━━━━━━━━━━━━━━━━━━━━━ 62.5/62.5 kB 10.2 MB/s eta 0:00:00\n",
      "Collecting affine\n",
      "  Downloading affine-2.4.0-py3-none-any.whl (15 kB)\n",
      "Collecting click-plugins\n",
      "  Downloading click_plugins-1.1.1-py2.py3-none-any.whl (7.5 kB)\n",
      "Collecting certifi\n",
      "  Downloading certifi-2024.2.2-py3-none-any.whl (163 kB)\n",
      "     ━━━━━━━━━━━━━━━━━━━━━━━━━━━━━━━━━━━━━━━ 163.8/163.8 kB 8.4 MB/s eta 0:00:00\n",
      "Collecting snuggs>=1.4.1\n",
      "  Downloading snuggs-1.4.7-py3-none-any.whl (5.4 kB)\n",
      "Collecting attrs\n",
      "  Downloading attrs-23.2.0-py3-none-any.whl (60 kB)\n",
      "     ━━━━━━━━━━━━━━━━━━━━━━━━━━━━━━━━━━━━━━━━ 60.8/60.8 kB 8.9 MB/s eta 0:00:00\n",
      "Collecting numpy\n",
      "  Downloading numpy-1.26.4-cp310-cp310-manylinux_2_17_x86_64.manylinux2014_x86_64.whl (18.2 MB)\n",
      "     ━━━━━━━━━━━━━━━━━━━━━━━━━━━━━━━━━━━━━━━━ 18.2/18.2 MB 7.3 MB/s eta 0:00:00\n",
      "Requirement already satisfied: setuptools in /usr/local/lib/python3.10/site-packages (from rasterio) (65.5.1)\n",
      "Collecting cligj>=0.5\n",
      "  Downloading cligj-0.7.2-py3-none-any.whl (7.1 kB)\n",
      "Collecting networkx>=2.8\n",
      "  Downloading networkx-3.3-py3-none-any.whl (1.7 MB)\n",
      "     ━━━━━━━━━━━━━━━━━━━━━━━━━━━━━━━━━━━━━━━━ 1.7/1.7 MB 7.6 MB/s eta 0:00:00\n",
      "Collecting pillow>=9.1\n",
      "  Downloading pillow-10.3.0-cp310-cp310-manylinux_2_28_x86_64.whl (4.5 MB)\n",
      "     ━━━━━━━━━━━━━━━━━━━━━━━━━━━━━━━━━━━━━━━━ 4.5/4.5 MB 7.4 MB/s eta 0:00:00\n",
      "Collecting imageio>=2.33\n",
      "  Downloading imageio-2.34.0-py3-none-any.whl (313 kB)\n",
      "     ━━━━━━━━━━━━━━━━━━━━━━━━━━━━━━━━━━━━━━━ 313.4/313.4 kB 8.0 MB/s eta 0:00:00\n",
      "Collecting packaging>=21\n",
      "  Downloading packaging-24.0-py3-none-any.whl (53 kB)\n",
      "     ━━━━━━━━━━━━━━━━━━━━━━━━━━━━━━━━━━━━━━━━ 53.5/53.5 kB 1.5 MB/s eta 0:00:00\n",
      "Collecting scipy>=1.9\n",
      "  Downloading scipy-1.13.0-cp310-cp310-manylinux_2_17_x86_64.manylinux2014_x86_64.whl (38.6 MB)\n",
      "     ━━━━━━━━━━━━━━━━━━━━━━━━━━━━━━━━━━━━━━━ 38.6/38.6 MB 901.0 kB/s eta 0:00:00\n",
      "Collecting lazy-loader>=0.4\n",
      "  Downloading lazy_loader-0.4-py3-none-any.whl (12 kB)\n",
      "Collecting tifffile>=2022.8.12\n",
      "  Downloading tifffile-2024.2.12-py3-none-any.whl (224 kB)\n",
      "     ━━━━━━━━━━━━━━━━━━━━━━━━━━━━━━━━━━━━━━━ 224.5/224.5 kB 7.2 MB/s eta 0:00:00\n",
      "Collecting pyparsing>=2.1.6\n",
      "  Downloading pyparsing-3.1.2-py3-none-any.whl (103 kB)\n",
      "     ━━━━━━━━━━━━━━━━━━━━━━━━━━━━━━━━━━━━━━━ 103.2/103.2 kB 7.0 MB/s eta 0:00:00\n",
      "Installing collected packages: pyparsing, pillow, packaging, numpy, networkx, loguru, click, certifi, attrs, affine, tifffile, snuggs, scipy, lazy-loader, imageio, cligj, click-plugins, scikit-image, rasterio\n",
      "Successfully installed affine-2.4.0 attrs-23.2.0 certifi-2024.2.2 click-8.1.7 click-plugins-1.1.1 cligj-0.7.2 imageio-2.34.0 lazy-loader-0.4 loguru-0.7.2 networkx-3.3 numpy-1.26.4 packaging-24.0 pillow-10.3.0 pyparsing-3.1.2 rasterio-1.3.9 scikit-image-0.23.1 scipy-1.13.0 snuggs-1.4.7 tifffile-2024.2.12\n",
      "WARNING: Running pip as the 'root' user can result in broken permissions and conflicting behaviour with the system package manager. It is recommended to use a virtual environment instead: https://pip.pypa.io/warnings/venv\n",
      "\n",
      "[notice] A new release of pip is available: 23.0.1 -> 24.0\n",
      "[notice] To update, run: pip install --upgrade pip\n",
      "--> c9f354b22ee\n",
      "STEP 3/4: ADD app.py /app/app.py\n",
      "--> 36a18605ee3\n",
      "STEP 4/4: ENTRYPOINT []\n",
      "COMMIT localhost/otsu:latest\n",
      "--> 35eb00c3241\n",
      "Successfully tagged localhost/otsu:latest\n",
      "35eb00c3241e93104f1c075ea9fcd504bb23a962c0e562b1491d9b4c3059c561\n"
     ]
    }
   ],
   "source": [
    "podman build --format docker -t localhost/otsu:latest ${WORKSPACE}/water-bodies/command-line-tools/otsu\n"
   ]
  },
  {
   "cell_type": "markdown",
   "metadata": {},
   "source": [
    "Show the `otsu` help:"
   ]
  },
  {
   "cell_type": "code",
   "execution_count": 7,
   "metadata": {
    "vscode": {
     "languageId": "shellscript"
    }
   },
   "outputs": [
    {
     "name": "stdout",
     "output_type": "stream",
     "text": [
      "Usage: app.py [OPTIONS] RASTER\n",
      "\n",
      "  Applies the Otsu threshold\n",
      "\n",
      "Options:\n",
      "  --help  Show this message and exit.\n"
     ]
    }
   ],
   "source": [
    "podman run --rm -it --env=PYTHONPATH=/app localhost/otsu:latest python -m app --help"
   ]
  },
  {
   "cell_type": "markdown",
   "metadata": {},
   "source": [
    "## Test the otsu step in the container\n",
    "\n",
    "Generate the otsu automatic threshold on the normalized difference:"
   ]
  },
  {
   "cell_type": "code",
   "execution_count": 8,
   "metadata": {
    "vscode": {
     "languageId": "shellscript"
    }
   },
   "outputs": [
    {
     "name": "stdout",
     "output_type": "stream",
     "text": [
      "2024-04-11 13:46:18.698 | INFO     | __main__:otsu:37 - Applying the Otsu threshold to /inputs/norm_diff.tif\n",
      "2024-04-11 13:46:18.702 | INFO     | __main__:otsu:40 - Write otsu.tif\n",
      "2024-04-11 13:46:20.426 | INFO     | __main__:otsu:43 - Done!\n"
     ]
    }
   ],
   "source": [
    "podman \\\n",
    "    run \\\n",
    "    -i \\\n",
    "    --userns=keep-id \\\n",
    "    --mount=type=bind,source=/workspace/mastering-app-package/runs,target=/runs \\\n",
    "    --mount=type=bind,source=/workspace/mastering-app-package/runs/norm_diff.tif,target=/inputs/norm_diff.tif,readonly \\\n",
    "    --workdir=/runs \\\n",
    "    --read-only=true \\\n",
    "    --user=1001:100 \\\n",
    "    --rm \\\n",
    "    --env=HOME=/runs \\\n",
    "    --env=PYTHONPATH=/app \\\n",
    "    localhost/otsu:latest \\\n",
    "    python \\\n",
    "    -m \\\n",
    "    app \\\n",
    "    /inputs/norm_diff.tif"
   ]
  },
  {
   "cell_type": "markdown",
   "metadata": {},
   "source": [
    "List the outputs:"
   ]
  },
  {
   "cell_type": "code",
   "execution_count": 9,
   "metadata": {
    "vscode": {
     "languageId": "shellscript"
    }
   },
   "outputs": [
    {
     "name": "stdout",
     "output_type": "stream",
     "text": [
      "\u001b[01;34m/workspace/mastering-app-package/runs\u001b[0m\n",
      "├── \u001b[01;35mcrop_green.tif\u001b[0m\n",
      "├── \u001b[01;35mcrop_nir.tif\u001b[0m\n",
      "├── \u001b[01;35mnorm_diff.tif\u001b[0m\n",
      "└── \u001b[01;35motsu.tif\u001b[0m\n",
      "\n",
      "0 directories, 4 files\n"
     ]
    }
   ],
   "source": [
    "tree ${RUNTIME}"
   ]
  },
  {
   "cell_type": "code",
   "execution_count": null,
   "metadata": {
    "vscode": {
     "languageId": "shellscript"
    }
   },
   "outputs": [],
   "source": []
  }
 ],
 "metadata": {
  "kernelspec": {
   "display_name": "Bash",
   "language": "bash",
   "name": "bash"
  },
  "language_info": {
   "codemirror_mode": "shell",
   "file_extension": ".sh",
   "mimetype": "text/x-sh",
   "name": "bash"
  }
 },
 "nbformat": 4,
 "nbformat_minor": 2
}
