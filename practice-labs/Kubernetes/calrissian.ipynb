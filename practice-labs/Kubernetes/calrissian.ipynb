{
 "cells": [
  {
   "cell_type": "markdown",
   "metadata": {},
   "source": [
    "# Run the CWL Workflow with calrissian\n",
    "\n",
    "## Goal\n",
    "\n",
    "Run the `app-water-body-cloud-native.1.0.0.cwl` released application package using `calrissian`, a CWL runner for kubernetes.\n",
    "\n",
    "While `cwltool` creates a container for each command line tool, `calrissian` creates a pod for each command line tool of the Workflow processing step.\n",
    "\n",
    "This notebook is linked to https://eoap.github.io/mastering-app-package/kubernetes/calrissian/"
   ]
  },
  {
   "cell_type": "markdown",
   "metadata": {},
   "source": [
    "## Setup"
   ]
  },
  {
   "cell_type": "code",
   "execution_count": null,
   "metadata": {
    "vscode": {
     "languageId": "shellscript"
    }
   },
   "outputs": [],
   "source": [
    "export WORKSPACE=/workspace/mastering-app-package\n",
    "export RUNTIME=${WORKSPACE}/runs\n",
    "rm -fr ${WORKSPACE}/runs\n",
    "mkdir -p ${RUNTIME}\n",
    "cd ${RUNTIME}"
   ]
  },
  {
   "cell_type": "markdown",
   "metadata": {},
   "source": [
    "## Download the released Application package"
   ]
  },
  {
   "cell_type": "code",
   "execution_count": null,
   "metadata": {
    "vscode": {
     "languageId": "shellscript"
    }
   },
   "outputs": [],
   "source": [
    "version=\"1.0.0\"\n",
    "\n",
    "wget \\\n",
    "    -O ${WORKSPACE}/runs/app-water-bodies-cloud-native.${version}.cwl \\\n",
    "    https://github.com/eoap/mastering-app-package/releases/download/${version}/app-water-bodies-cloud-native.${version}.cwl"
   ]
  },
  {
   "cell_type": "markdown",
   "metadata": {},
   "source": [
    "## Execute the Application Package\n",
    "\n",
    "`calrissian` take a few arguments more than `cwltool`:\n",
    "\n",
    "- `--max-ram` is the maximum amount of cluster RAM that the pods running command line tools can consume\n",
    "- `--max-cores` is the maximum amount of cluster CPUs that the pods running command line tools can consume\n",
    "\n",
    "`calrissian` requires setting:\n",
    "\n",
    "- `--tmp-outdir-prefix` is the folder in a RWX kubernetes volumes where the command line tools running in pods will write temporary results\n",
    "- `--outdir` is the folder in a RWX kubernetes volumes where the command line tools running in pods will write the results\n",
    "\n",
    "`calrissian` may produce a resource consumption report in JSON if the `--usage-report` is set\n",
    "\n",
    "`calrissian` may write the command line tool logs if the `--tool-logs-basepath` is set (a folder) \n",
    "\n",
    "Finally, `--pod-nodeselector` is set instructing `calrissian` on what k8s node pool the pods running the command line tools will be assigned to."
   ]
  },
  {
   "cell_type": "code",
   "execution_count": null,
   "metadata": {
    "vscode": {
     "languageId": "shellscript"
    }
   },
   "outputs": [],
   "source": [
    "mkdir -p /calrissian/logs\n",
    "\n",
    "version=\"1.0.0\"\n",
    "\n",
    "calrissian \\\n",
    "    --stdout /calrissian/results.json \\\n",
    "    --stderr /calrissian/app.log \\\n",
    "    --max-ram 4G \\\n",
    "    --max-cores \"8\" \\\n",
    "    --tmp-outdir-prefix /calrissian/tmp \\\n",
    "    --outdir /calrissian/results \\\n",
    "    --usage-report /calrissian/usage.json \\\n",
    "    --tool-logs-basepath /calrissian/logs \\\n",
    "    --pod-nodeselectors /etc/calrissian/pod-node-selector.yaml \\\n",
    "    /workspace/mastering-app-package/runs/app-water-bodies-cloud-native.${version}.cwl \\\n",
    "    --stac_items \"https://earth-search.aws.element84.com/v0/collections/sentinel-s2-l2a-cogs/items/S2A_10TFK_20210708_0_L2A\" \\\n",
    "    --stac_items \"https://earth-search.aws.element84.com/v0/collections/sentinel-s2-l2a-cogs/items/S2B_10TFK_20210713_0_L2A\" \\\n",
    "    --stac_items \"https://earth-search.aws.element84.com/v0/collections/sentinel-s2-l2a-cogs/items/S2A_10TFK_20210718_0_L2A\" \\\n",
    "    --stac_items \"https://earth-search.aws.element84.com/v0/collections/sentinel-s2-l2a-cogs/items/S2A_10TFK_20220524_0_L2A\" \\\n",
    "    --stac_items \"https://earth-search.aws.element84.com/v0/collections/sentinel-s2-l2a-cogs/items/S2A_10TFK_20220514_0_L2A\" \\\n",
    "    --stac_items \"https://earth-search.aws.element84.com/v0/collections/sentinel-s2-l2a-cogs/items/S2A_10TFK_20220504_0_L2A\" \\\n",
    "    --aoi=\"-121.399,39.834,-120.74,40.472\" \\\n",
    "    --epsg \"EPSG:4326\""
   ]
  },
  {
   "cell_type": "markdown",
   "metadata": {},
   "source": [
    "While running open a Terminal and run \n",
    "\n",
    "```\n",
    "watch -n 2 kubectl get pods\n",
    "```\n",
    "\n"
   ]
  },
  {
   "cell_type": "markdown",
   "metadata": {},
   "source": [
    "Inspect the results:"
   ]
  },
  {
   "cell_type": "code",
   "execution_count": null,
   "metadata": {
    "vscode": {
     "languageId": "shellscript"
    }
   },
   "outputs": [],
   "source": [
    "tree $( cat /calrissian/results.json | jq -r .stac_catalog.path )\n"
   ]
  },
  {
   "cell_type": "markdown",
   "metadata": {},
   "source": [
    "## Submit a kubernetes job"
   ]
  },
  {
   "cell_type": "markdown",
   "metadata": {},
   "source": [
    "Below the manifest for a kubernetes job to run `calrissian`:"
   ]
  },
  {
   "cell_type": "code",
   "execution_count": 3,
   "metadata": {
    "vscode": {
     "languageId": "shellscript"
    }
   },
   "outputs": [
    {
     "name": "stdout",
     "output_type": "stream",
     "text": [
      "cat: /workspace/mastering-app-package/practice-labs/Kubernetes/k8s-job.yaml: No such file or directory\n",
      "\n"
     ]
    }
   ],
   "source": [
    "cat ${WORKSPACE}/practice-labs/Kubernetes/k8s-job.yaml | yq e . -"
   ]
  },
  {
   "cell_type": "markdown",
   "metadata": {},
   "source": [
    "Prepare the parameters"
   ]
  },
  {
   "cell_type": "code",
   "execution_count": null,
   "metadata": {
    "vscode": {
     "languageId": "shellscript"
    }
   },
   "outputs": [],
   "source": [
    "cat << EOF > /calrissian/params.yaml\n",
    "stac_items:\n",
    "- \"https://earth-search.aws.element84.com/v0/collections/sentinel-s2-l2a-cogs/items/S2A_10TFK_20210708_0_L2A\"\n",
    "- \"https://earth-search.aws.element84.com/v0/collections/sentinel-s2-l2a-cogs/items/S2B_10TFK_20210713_0_L2A\"\n",
    "- \"https://earth-search.aws.element84.com/v0/collections/sentinel-s2-l2a-cogs/items/S2A_10TFK_20210718_0_L2A\"\n",
    "- \"https://earth-search.aws.element84.com/v0/collections/sentinel-s2-l2a-cogs/items/S2A_10TFK_20220524_0_L2A\"\n",
    "- \"https://earth-search.aws.element84.com/v0/collections/sentinel-s2-l2a-cogs/items/S2A_10TFK_20220514_0_L2A\"\n",
    "- \"https://earth-search.aws.element84.com/v0/collections/sentinel-s2-l2a-cogs/items/S2A_10TFK_20220504_0_L2A\"\n",
    "aoi: -121.399,39.834,-120.74,40.472\n",
    "epsg: \"EPSG:4326\"\n",
    "EOFs"
   ]
  },
  {
   "cell_type": "markdown",
   "metadata": {},
   "source": [
    "Put all needed files in the RWX volume:"
   ]
  },
  {
   "cell_type": "code",
   "execution_count": null,
   "metadata": {
    "vscode": {
     "languageId": "shellscript"
    }
   },
   "outputs": [],
   "source": [
    "cp /etc/calrissian/pod-node-selector.yaml /calrissian/pod-node-selector.yaml\n",
    "cp ${WORKSPACE}/runs/app-water-bodies-cloud-native.${version}.cwl  /calrissian/app-water-bodies-cloud-native.${version}.cwl "
   ]
  },
  {
   "cell_type": "markdown",
   "metadata": {},
   "source": [
    "Submit the job:"
   ]
  },
  {
   "cell_type": "code",
   "execution_count": null,
   "metadata": {
    "vscode": {
     "languageId": "shellscript"
    }
   },
   "outputs": [],
   "source": [
    "kubectl apply -f ${WORKSPACE}/practice-labs/Kubernetes/k8s-job.yaml"
   ]
  },
  {
   "cell_type": "markdown",
   "metadata": {},
   "source": [
    "Monitor the job until completion"
   ]
  },
  {
   "cell_type": "code",
   "execution_count": null,
   "metadata": {
    "vscode": {
     "languageId": "shellscript"
    }
   },
   "outputs": [],
   "source": [
    "kubectl wait --for=condition=complete --timeout=600s job/water-bodies-detection"
   ]
  },
  {
   "cell_type": "markdown",
   "metadata": {},
   "source": []
  }
 ],
 "metadata": {
  "kernelspec": {
   "display_name": "Bash",
   "language": "bash",
   "name": "bash"
  },
  "language_info": {
   "codemirror_mode": "shell",
   "file_extension": ".sh",
   "mimetype": "text/x-sh",
   "name": "bash"
  }
 },
 "nbformat": 4,
 "nbformat_minor": 2
}
