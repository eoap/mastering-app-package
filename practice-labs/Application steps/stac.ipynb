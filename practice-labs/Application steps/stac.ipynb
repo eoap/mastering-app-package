{
 "cells": [
  {
   "cell_type": "markdown",
   "metadata": {},
   "source": [
    "# Run the stac step\n",
    "\n",
    "This notebook is linked to https://eoap.github.io/mastering-app-package/python-env/stac/"
   ]
  },
  {
   "cell_type": "markdown",
   "metadata": {},
   "source": [
    "## Setup the environment\n",
    "\n",
    "Create a folder for running the steps:"
   ]
  },
  {
   "cell_type": "code",
   "execution_count": 1,
   "metadata": {
    "vscode": {
     "languageId": "shellscript"
    }
   },
   "outputs": [],
   "source": [
    "export WORKSPACE=/workspace/mastering-app-package\n",
    "export RUNTIME=${WORKSPACE}/runs\n",
    "mkdir -p ${RUNTIME}\n",
    "cd ${RUNTIME}"
   ]
  },
  {
   "cell_type": "markdown",
   "metadata": {},
   "source": [
    "## Create a Python environment\n",
    "\n",
    "The Python environment provides a dedicated Python where the `stac` step dependencies are installed:"
   ]
  },
  {
   "cell_type": "code",
   "execution_count": 2,
   "metadata": {
    "vscode": {
     "languageId": "shellscript"
    }
   },
   "outputs": [],
   "source": [
    "python3 -m venv ${WORKSPACE}/env_stac\n",
    "source ${WORKSPACE}/env_stac/bin/activate\n"
   ]
  },
  {
   "cell_type": "code",
   "execution_count": 3,
   "metadata": {
    "vscode": {
     "languageId": "shellscript"
    }
   },
   "outputs": [
    {
     "name": "stdout",
     "output_type": "stream",
     "text": [
      "/workspace/mastering-app-package/env_stac/bin/python\n"
     ]
    }
   ],
   "source": [
    "which python"
   ]
  },
  {
   "cell_type": "code",
   "execution_count": 4,
   "metadata": {
    "vscode": {
     "languageId": "shellscript"
    }
   },
   "outputs": [
    {
     "name": "stdout",
     "output_type": "stream",
     "text": [
      "/workspace/mastering-app-package/env_stac/bin/pip\n"
     ]
    }
   ],
   "source": [
    "which pip"
   ]
  },
  {
   "cell_type": "markdown",
   "metadata": {},
   "source": [
    "Install the libraries using pip: "
   ]
  },
  {
   "cell_type": "code",
   "execution_count": 5,
   "metadata": {
    "vscode": {
     "languageId": "shellscript"
    }
   },
   "outputs": [
    {
     "name": "stdout",
     "output_type": "stream",
     "text": [
      "Requirement already satisfied: rio_stac in /workspace/mastering-app-package/env_stac/lib/python3.10/site-packages (0.9.0)\n",
      "Requirement already satisfied: loguru in /workspace/mastering-app-package/env_stac/lib/python3.10/site-packages (0.7.2)\n",
      "Requirement already satisfied: click in /workspace/mastering-app-package/env_stac/lib/python3.10/site-packages (8.1.7)\n",
      "Requirement already satisfied: pystac<2.0.0,>=1.0.0 in /workspace/mastering-app-package/env_stac/lib/python3.10/site-packages (from rio_stac) (1.10.0)\n",
      "Requirement already satisfied: rasterio in /workspace/mastering-app-package/env_stac/lib/python3.10/site-packages (from rio_stac) (1.3.9)\n",
      "Requirement already satisfied: python-dateutil>=2.7.0 in /workspace/mastering-app-package/env_stac/lib/python3.10/site-packages (from pystac<2.0.0,>=1.0.0->rio_stac) (2.9.0.post0)\n",
      "Requirement already satisfied: certifi in /workspace/mastering-app-package/env_stac/lib/python3.10/site-packages (from rasterio->rio_stac) (2024.2.2)\n",
      "Requirement already satisfied: cligj>=0.5 in /workspace/mastering-app-package/env_stac/lib/python3.10/site-packages (from rasterio->rio_stac) (0.7.2)\n",
      "Requirement already satisfied: numpy in /workspace/mastering-app-package/env_stac/lib/python3.10/site-packages (from rasterio->rio_stac) (1.26.4)\n",
      "Requirement already satisfied: snuggs>=1.4.1 in /workspace/mastering-app-package/env_stac/lib/python3.10/site-packages (from rasterio->rio_stac) (1.4.7)\n",
      "Requirement already satisfied: affine in /workspace/mastering-app-package/env_stac/lib/python3.10/site-packages (from rasterio->rio_stac) (2.4.0)\n",
      "Requirement already satisfied: setuptools in /workspace/mastering-app-package/env_stac/lib/python3.10/site-packages (from rasterio->rio_stac) (59.6.0)\n",
      "Requirement already satisfied: click-plugins in /workspace/mastering-app-package/env_stac/lib/python3.10/site-packages (from rasterio->rio_stac) (1.1.1)\n",
      "Requirement already satisfied: attrs in /workspace/mastering-app-package/env_stac/lib/python3.10/site-packages (from rasterio->rio_stac) (23.2.0)\n",
      "Requirement already satisfied: six>=1.5 in /workspace/mastering-app-package/env_stac/lib/python3.10/site-packages (from python-dateutil>=2.7.0->pystac<2.0.0,>=1.0.0->rio_stac) (1.16.0)\n",
      "Requirement already satisfied: pyparsing>=2.1.6 in /workspace/mastering-app-package/env_stac/lib/python3.10/site-packages (from snuggs>=1.4.1->rasterio->rio_stac) (3.1.2)\n"
     ]
    }
   ],
   "source": [
    "\n",
    "pip install --no-cache-dir rio_stac loguru click"
   ]
  },
  {
   "cell_type": "code",
   "execution_count": 6,
   "metadata": {
    "vscode": {
     "languageId": "shellscript"
    }
   },
   "outputs": [
    {
     "name": "stdout",
     "output_type": "stream",
     "text": [
      "0.9.0\n"
     ]
    }
   ],
   "source": [
    "python -c \"import rio_stac; print(rio_stac.__version__)\""
   ]
  },
  {
   "cell_type": "markdown",
   "metadata": {},
   "source": [
    "## Run the otsu application \n",
    "\n",
    "First dump the help:"
   ]
  },
  {
   "cell_type": "code",
   "execution_count": 7,
   "metadata": {
    "vscode": {
     "languageId": "shellscript"
    }
   },
   "outputs": [
    {
     "name": "stdout",
     "output_type": "stream",
     "text": [
      "Usage: app.py [OPTIONS]\n",
      "\n",
      "  Creates a STAC catalog with the water bodies\n",
      "\n",
      "Options:\n",
      "  --input-item TEXT  STAC Item URL  [required]\n",
      "  --water-body TEXT  Water body geotiff  [required]\n",
      "  --help             Show this message and exit.\n"
     ]
    }
   ],
   "source": [
    "\n",
    "python \\\n",
    "    ${WORKSPACE}/water-bodies/command-line-tools/stac/app.py --help"
   ]
  },
  {
   "cell_type": "code",
   "execution_count": 8,
   "metadata": {
    "vscode": {
     "languageId": "shellscript"
    }
   },
   "outputs": [
    {
     "name": "stdout",
     "output_type": "stream",
     "text": [
      "\u001b[32m2024-04-11 15:03:49.034\u001b[0m | \u001b[1mINFO    \u001b[0m | \u001b[36m__main__\u001b[0m:\u001b[36mto_stac\u001b[0m:\u001b[36m31\u001b[0m - \u001b[1mCreating a STAC Catalog for otsu.tif\u001b[0m\n",
      "\u001b[32m2024-04-11 15:03:49.369\u001b[0m | \u001b[1mINFO    \u001b[0m | \u001b[36m__main__\u001b[0m:\u001b[36mto_stac\u001b[0m:\u001b[36m62\u001b[0m - \u001b[1mDone!\u001b[0m\n"
     ]
    }
   ],
   "source": [
    "python \\\n",
    "    ${WORKSPACE}/water-bodies/command-line-tools/stac/app.py \\\n",
    "    --input-item \"https://earth-search.aws.element84.com/v0/collections/sentinel-s2-l2a-cogs/items/S2B_10TFK_20210713_0_L2A\" \\\n",
    "    --water-body otsu.tif\n"
   ]
  },
  {
   "cell_type": "markdown",
   "metadata": {},
   "source": [
    "List the outputs:"
   ]
  },
  {
   "cell_type": "code",
   "execution_count": 9,
   "metadata": {
    "vscode": {
     "languageId": "shellscript"
    }
   },
   "outputs": [
    {
     "name": "stdout",
     "output_type": "stream",
     "text": [
      "\u001b[01;34m/workspace/mastering-app-package/runs\u001b[0m\n",
      "├── catalog.json\n",
      "├── \u001b[01;35mcrop_green.tif\u001b[0m\n",
      "├── \u001b[01;35mcrop_nir.tif\u001b[0m\n",
      "├── \u001b[01;35mnorm_diff.tif\u001b[0m\n",
      "├── \u001b[01;35motsu.tif\u001b[0m\n",
      "└── \u001b[01;34mS2B_10TFK_20210713_0_L2A\u001b[0m\n",
      "    ├── \u001b[01;35motsu.tif\u001b[0m\n",
      "    └── S2B_10TFK_20210713_0_L2A.json\n",
      "\n",
      "1 directory, 7 files\n"
     ]
    }
   ],
   "source": [
    "tree ${RUNTIME}"
   ]
  },
  {
   "cell_type": "markdown",
   "metadata": {},
   "source": [
    "## Inspect the generated STAC Catalog"
   ]
  },
  {
   "cell_type": "code",
   "execution_count": 10,
   "metadata": {
    "vscode": {
     "languageId": "shellscript"
    }
   },
   "outputs": [
    {
     "name": "stdout",
     "output_type": "stream",
     "text": [
      "Requirement already satisfied: stactools in /workspace/mastering-app-package/env_stac/lib/python3.10/site-packages (0.5.3)\n",
      "Requirement already satisfied: requests in /workspace/mastering-app-package/env_stac/lib/python3.10/site-packages (2.31.0)\n",
      "Requirement already satisfied: fsspec[http]>=2021.7 in /workspace/mastering-app-package/env_stac/lib/python3.10/site-packages (from stactools) (2024.3.1)\n",
      "Requirement already satisfied: pyproj>=3.3 in /workspace/mastering-app-package/env_stac/lib/python3.10/site-packages (from stactools) (3.6.1)\n",
      "Requirement already satisfied: antimeridian>=0.2.6 in /workspace/mastering-app-package/env_stac/lib/python3.10/site-packages (from stactools) (0.3.4)\n",
      "Requirement already satisfied: lxml>=4.9.2 in /workspace/mastering-app-package/env_stac/lib/python3.10/site-packages (from stactools) (5.2.1)\n",
      "Requirement already satisfied: shapely>=2.0.1 in /workspace/mastering-app-package/env_stac/lib/python3.10/site-packages (from stactools) (2.0.3)\n",
      "Requirement already satisfied: numpy>=1.23.0 in /workspace/mastering-app-package/env_stac/lib/python3.10/site-packages (from stactools) (1.26.4)\n",
      "Requirement already satisfied: pystac[validation]>=1.8.2 in /workspace/mastering-app-package/env_stac/lib/python3.10/site-packages (from stactools) (1.10.0)\n",
      "Requirement already satisfied: click>=8.1.3 in /workspace/mastering-app-package/env_stac/lib/python3.10/site-packages (from stactools) (8.1.7)\n",
      "Requirement already satisfied: rasterio>=1.3.2 in /workspace/mastering-app-package/env_stac/lib/python3.10/site-packages (from stactools) (1.3.9)\n",
      "Requirement already satisfied: idna<4,>=2.5 in /workspace/mastering-app-package/env_stac/lib/python3.10/site-packages (from requests) (3.7)\n",
      "Requirement already satisfied: charset-normalizer<4,>=2 in /workspace/mastering-app-package/env_stac/lib/python3.10/site-packages (from requests) (3.3.2)\n",
      "Requirement already satisfied: certifi>=2017.4.17 in /workspace/mastering-app-package/env_stac/lib/python3.10/site-packages (from requests) (2024.2.2)\n",
      "Requirement already satisfied: urllib3<3,>=1.21.1 in /workspace/mastering-app-package/env_stac/lib/python3.10/site-packages (from requests) (2.2.1)\n",
      "Requirement already satisfied: aiohttp!=4.0.0a0,!=4.0.0a1 in /workspace/mastering-app-package/env_stac/lib/python3.10/site-packages (from fsspec[http]>=2021.7->stactools) (3.9.3)\n",
      "Requirement already satisfied: python-dateutil>=2.7.0 in /workspace/mastering-app-package/env_stac/lib/python3.10/site-packages (from pystac[validation]>=1.8.2->stactools) (2.9.0.post0)\n",
      "Requirement already satisfied: jsonschema~=4.18 in /workspace/mastering-app-package/env_stac/lib/python3.10/site-packages (from pystac[validation]>=1.8.2->stactools) (4.21.1)\n",
      "Requirement already satisfied: cligj>=0.5 in /workspace/mastering-app-package/env_stac/lib/python3.10/site-packages (from rasterio>=1.3.2->stactools) (0.7.2)\n",
      "Requirement already satisfied: snuggs>=1.4.1 in /workspace/mastering-app-package/env_stac/lib/python3.10/site-packages (from rasterio>=1.3.2->stactools) (1.4.7)\n",
      "Requirement already satisfied: affine in /workspace/mastering-app-package/env_stac/lib/python3.10/site-packages (from rasterio>=1.3.2->stactools) (2.4.0)\n",
      "Requirement already satisfied: click-plugins in /workspace/mastering-app-package/env_stac/lib/python3.10/site-packages (from rasterio>=1.3.2->stactools) (1.1.1)\n",
      "Requirement already satisfied: setuptools in /workspace/mastering-app-package/env_stac/lib/python3.10/site-packages (from rasterio>=1.3.2->stactools) (59.6.0)\n",
      "Requirement already satisfied: attrs in /workspace/mastering-app-package/env_stac/lib/python3.10/site-packages (from rasterio>=1.3.2->stactools) (23.2.0)\n",
      "Requirement already satisfied: aiosignal>=1.1.2 in /workspace/mastering-app-package/env_stac/lib/python3.10/site-packages (from aiohttp!=4.0.0a0,!=4.0.0a1->fsspec[http]>=2021.7->stactools) (1.3.1)\n",
      "Requirement already satisfied: multidict<7.0,>=4.5 in /workspace/mastering-app-package/env_stac/lib/python3.10/site-packages (from aiohttp!=4.0.0a0,!=4.0.0a1->fsspec[http]>=2021.7->stactools) (6.0.5)\n",
      "Requirement already satisfied: frozenlist>=1.1.1 in /workspace/mastering-app-package/env_stac/lib/python3.10/site-packages (from aiohttp!=4.0.0a0,!=4.0.0a1->fsspec[http]>=2021.7->stactools) (1.4.1)\n",
      "Requirement already satisfied: yarl<2.0,>=1.0 in /workspace/mastering-app-package/env_stac/lib/python3.10/site-packages (from aiohttp!=4.0.0a0,!=4.0.0a1->fsspec[http]>=2021.7->stactools) (1.9.4)\n",
      "Requirement already satisfied: async-timeout<5.0,>=4.0 in /workspace/mastering-app-package/env_stac/lib/python3.10/site-packages (from aiohttp!=4.0.0a0,!=4.0.0a1->fsspec[http]>=2021.7->stactools) (4.0.3)\n",
      "Requirement already satisfied: rpds-py>=0.7.1 in /workspace/mastering-app-package/env_stac/lib/python3.10/site-packages (from jsonschema~=4.18->pystac[validation]>=1.8.2->stactools) (0.18.0)\n",
      "Requirement already satisfied: referencing>=0.28.4 in /workspace/mastering-app-package/env_stac/lib/python3.10/site-packages (from jsonschema~=4.18->pystac[validation]>=1.8.2->stactools) (0.34.0)\n",
      "Requirement already satisfied: jsonschema-specifications>=2023.03.6 in /workspace/mastering-app-package/env_stac/lib/python3.10/site-packages (from jsonschema~=4.18->pystac[validation]>=1.8.2->stactools) (2023.12.1)\n",
      "Requirement already satisfied: six>=1.5 in /workspace/mastering-app-package/env_stac/lib/python3.10/site-packages (from python-dateutil>=2.7.0->pystac[validation]>=1.8.2->stactools) (1.16.0)\n",
      "Requirement already satisfied: pyparsing>=2.1.6 in /workspace/mastering-app-package/env_stac/lib/python3.10/site-packages (from snuggs>=1.4.1->rasterio>=1.3.2->stactools) (3.1.2)\n"
     ]
    }
   ],
   "source": [
    "pip install stactools requests"
   ]
  },
  {
   "cell_type": "code",
   "execution_count": 11,
   "metadata": {
    "vscode": {
     "languageId": "shellscript"
    }
   },
   "outputs": [
    {
     "name": "stdout",
     "output_type": "stream",
     "text": [
      "* <Catalog id=catalog>\n",
      "  * <Item id=S2B_10TFK_20210713_0_L2A>\n"
     ]
    }
   ],
   "source": [
    "stac describe ${RUNTIME}/catalog.json"
   ]
  },
  {
   "cell_type": "markdown",
   "metadata": {},
   "source": [
    "## Clean-up"
   ]
  },
  {
   "cell_type": "code",
   "execution_count": 12,
   "metadata": {
    "vscode": {
     "languageId": "shellscript"
    }
   },
   "outputs": [],
   "source": [
    "deactivate\n",
    "rm -fr ${WORKSPACE}/env_stac"
   ]
  },
  {
   "cell_type": "code",
   "execution_count": null,
   "metadata": {
    "vscode": {
     "languageId": "shellscript"
    }
   },
   "outputs": [],
   "source": []
  }
 ],
 "metadata": {
  "kernelspec": {
   "display_name": "Bash",
   "language": "bash",
   "name": "bash"
  },
  "language_info": {
   "codemirror_mode": "shell",
   "file_extension": ".sh",
   "mimetype": "text/x-sh",
   "name": "bash"
  }
 },
 "nbformat": 4,
 "nbformat_minor": 2
}
