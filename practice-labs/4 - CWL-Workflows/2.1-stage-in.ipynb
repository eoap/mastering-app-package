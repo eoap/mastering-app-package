{
 "cells": [
  {
   "cell_type": "markdown",
   "metadata": {},
   "source": [
    "# CWL CommandLineTool for stage-in\n",
    "\n",
    "## Goal\n",
    "\n",
    "Use a stage-in CWL workflow to stage a Landsat-9 acquisition\n",
    "\n",
    "\n",
    "This notebook is linked to: https://eoap.github.io/mastering-app-package/cwl-workflow/stage-in/"
   ]
  },
  {
   "cell_type": "markdown",
   "metadata": {},
   "source": [
    "## Setup"
   ]
  },
  {
   "cell_type": "code",
   "execution_count": null,
   "metadata": {
    "vscode": {
     "languageId": "shellscript"
    }
   },
   "outputs": [],
   "source": [
    "export WORKSPACE=/workspace/mastering-app-package\n",
    "export RUNTIME=${WORKSPACE}/runs\n",
    "mkdir -p ${RUNTIME}\n",
    "rm -fr ${RUNTIME}/*\n",
    "cd ${RUNTIME}"
   ]
  },
  {
   "cell_type": "markdown",
   "metadata": {},
   "source": [
    "## Stage-in Python code\n",
    "\n",
    "The CWL CommandLineTool for stage-in includes inline Python code.\n",
    "\n",
    "Let's inspect that code,\n",
    "\n",
    "It reads a STAC Item reference and stages the STAC Item and Assets and creates a STAC Catalog"
   ]
  },
  {
   "cell_type": "code",
   "execution_count": null,
   "metadata": {
    "vscode": {
     "languageId": "shellscript"
    }
   },
   "outputs": [],
   "source": [
    "cat ${WORKSPACE}/cwl-cli/stage-in.cwl | yq e .requirements.InitialWorkDirRequirement.listing[0].entry -"
   ]
  },
  {
   "cell_type": "markdown",
   "metadata": {},
   "source": [
    "The full stage-in CWL CommandLineTool is shown below.\n",
    "\n",
    "\n",
    "The `InitialWorkDirRequirement` CWL requirement allows creating files at runtime.\n"
   ]
  },
  {
   "cell_type": "code",
   "execution_count": null,
   "metadata": {
    "vscode": {
     "languageId": "shellscript"
    }
   },
   "outputs": [],
   "source": [
    "cat ${WORKSPACE}/cwl-cli/stage-in.cwl | yq e . -"
   ]
  },
  {
   "cell_type": "markdown",
   "metadata": {},
   "source": [
    "## Build the stage-in container"
   ]
  },
  {
   "cell_type": "code",
   "execution_count": null,
   "metadata": {
    "vscode": {
     "languageId": "shellscript"
    }
   },
   "outputs": [],
   "source": [
    "podman \\\n",
    "    build \\\n",
    "    --format docker \\\n",
    "    -t localhost/stage:latest \\\n",
    "    ${WORKSPACE}/water-bodies/command-line-tools/stage"
   ]
  },
  {
   "cell_type": "markdown",
   "metadata": {},
   "source": [
    "## Stage-in a Landsat-9 acquisition"
   ]
  },
  {
   "cell_type": "code",
   "execution_count": null,
   "metadata": {
    "vscode": {
     "languageId": "shellscript"
    }
   },
   "outputs": [],
   "source": [
    "ls9_ref=\"https://planetarycomputer.microsoft.com/api/stac/v1/collections/landsat-c2-l2/items/LC09_L2SP_042033_20231015_02_T1\"\n",
    "\n",
    "cwltool \\\n",
    "    --podman \\\n",
    "    --outdir ${WORKSPACE}/runs \\\n",
    "    ${WORKSPACE}/cwl-cli/stage-in.cwl \\\n",
    "    --reference \\\n",
    "    ${ls9_ref} > staged.json"
   ]
  },
  {
   "cell_type": "markdown",
   "metadata": {},
   "source": [
    "Check what was staged"
   ]
  },
  {
   "cell_type": "code",
   "execution_count": null,
   "metadata": {
    "vscode": {
     "languageId": "shellscript"
    }
   },
   "outputs": [],
   "source": [
    "ls -l $( cat ${WORKSPACE}/runs/staged.json | jq -r .staged.location - | sed 's|file://||g' )/catalog.json"
   ]
  },
  {
   "cell_type": "code",
   "execution_count": null,
   "metadata": {
    "vscode": {
     "languageId": "shellscript"
    }
   },
   "outputs": [],
   "source": [
    "stac describe  $( cat ${WORKSPACE}/runs/staged.json | jq -r .staged.location - | sed 's|file://||g' )/catalog.json"
   ]
  },
  {
   "cell_type": "code",
   "execution_count": null,
   "metadata": {
    "vscode": {
     "languageId": "shellscript"
    }
   },
   "outputs": [],
   "source": [
    "tree $( cat ${WORKSPACE}/runs/staged.json | jq -r .staged.location - | sed 's|file://||g' )"
   ]
  },
  {
   "cell_type": "code",
   "execution_count": null,
   "metadata": {
    "vscode": {
     "languageId": "shellscript"
    }
   },
   "outputs": [],
   "source": []
  },
  {
   "cell_type": "code",
   "execution_count": null,
   "metadata": {
    "vscode": {
     "languageId": "shellscript"
    }
   },
   "outputs": [],
   "source": []
  }
 ],
 "metadata": {
  "kernelspec": {
   "display_name": "Bash",
   "language": "bash",
   "name": "bash"
  },
  "language_info": {
   "codemirror_mode": "shell",
   "file_extension": ".sh",
   "mimetype": "text/x-sh",
   "name": "bash"
  }
 },
 "nbformat": 4,
 "nbformat_minor": 2
}
