{
 "cells": [
  {
   "cell_type": "markdown",
   "metadata": {},
   "source": [
    "#  Processing a staged Landsat-9 acquisition\n",
    " \n",
    "## Goal\n",
    "\n",
    "The non-Cloud native Workflow chains the `crop`, `norm_diff`, `otsu` and `stac` steps taking a staged EO acquisition as a STAC Catalog in a directory as input parameters:\n",
    "\n",
    "- a local STAC Catalog in a directory\n",
    "- a bounding box area of interest (AOI)\n",
    "- the EPSG code of the bounding box area of interest\n",
    "- a list of common band names ([\"`green`\", \"`nir08`\"])"
   ]
  },
  {
   "cell_type": "markdown",
   "metadata": {},
   "source": [
    "## Setup"
   ]
  },
  {
   "cell_type": "code",
   "execution_count": null,
   "metadata": {
    "vscode": {
     "languageId": "shellscript"
    }
   },
   "outputs": [],
   "source": [
    "export WORKSPACE=/workspace/mastering-app-package\n",
    "export RUNTIME=${WORKSPACE}/runs\n",
    "mkdir -p ${RUNTIME}\n",
    "cd ${RUNTIME}"
   ]
  },
  {
   "cell_type": "markdown",
   "metadata": {},
   "source": [
    "## CWL Workflow for staged EO data\n",
    "\n",
    "The CWL Workflow `inputs` is shown below showing the difference to manage a staged STAC Catalog instead of an URL to a STAC Item\n",
    "\n"
   ]
  },
  {
   "cell_type": "code",
   "execution_count": null,
   "metadata": {
    "vscode": {
     "languageId": "shellscript"
    }
   },
   "outputs": [],
   "source": [
    "cat ${WORKSPACE}/cwl-workflow/app-water-body.cwl | yq e .'$graph[0].inputs' -"
   ]
  },
  {
   "cell_type": "markdown",
   "metadata": {},
   "source": [
    "## Run the Workflow\n",
    "\n",
    "Get the path of staged the Landsat-9 "
   ]
  },
  {
   "cell_type": "code",
   "execution_count": null,
   "metadata": {
    "vscode": {
     "languageId": "shellscript"
    }
   },
   "outputs": [],
   "source": [
    "staged=$( cat ${WORKSPACE}/runs/staged.json | jq -r .staged.location - | sed 's|file://||g' )\n",
    "\n",
    "echo ${staged}"
   ]
  },
  {
   "cell_type": "code",
   "execution_count": null,
   "metadata": {
    "vscode": {
     "languageId": "shellscript"
    }
   },
   "outputs": [],
   "source": [
    "echo $( cat staged.json | jq -r .staged.path )"
   ]
  },
  {
   "cell_type": "code",
   "execution_count": null,
   "metadata": {
    "vscode": {
     "languageId": "shellscript"
    }
   },
   "outputs": [],
   "source": [
    "cwltool \\\n",
    "    --podman \\\n",
    "    --outdir ${WORKSPACE}/runs \\\n",
    "    ${WORKSPACE}/cwl-workflow/app-water-body.cwl#water-bodies \\\n",
    "    --item $( cat staged.json | jq -r .staged.path ) \\\n",
    "    --aoi=\"-118.985,38.432,-118.183,38.938\" \\\n",
    "    --epsg \"EPSG:4326\" \\\n",
    "    --bands green \\\n",
    "    --bands nir08"
   ]
  },
  {
   "cell_type": "code",
   "execution_count": null,
   "metadata": {
    "vscode": {
     "languageId": "shellscript"
    }
   },
   "outputs": [],
   "source": []
  }
 ],
 "metadata": {
  "kernelspec": {
   "display_name": "Bash",
   "language": "bash",
   "name": "bash"
  },
  "language_info": {
   "codemirror_mode": "shell",
   "file_extension": ".sh",
   "mimetype": "text/x-sh",
   "name": "bash"
  }
 },
 "nbformat": 4,
 "nbformat_minor": 2
}
