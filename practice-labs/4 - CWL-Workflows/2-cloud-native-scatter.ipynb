{
 "cells": [
  {
   "cell_type": "markdown",
   "metadata": {},
   "source": [
    "# Sentinel-2 Sentinel-2 Workflow of Workflow\n",
    "\n",
    "## Goal \n",
    "\n",
    "Prepare the CWL Workflow orchestrating a sub-workflow.\n",
    "\n",
    "This notebook is linked to: \n",
    "https://eoap.github.io/mastering-app-package/cwl-workflow/scatter-cloud-native/"
   ]
  },
  {
   "cell_type": "markdown",
   "metadata": {},
   "source": [
    "The Cloud native Workflow chains the `crop`, `norm_diff`, `otsu` and `stac` steps taking a single STAC item as input parameters:\n",
    "\n",
    "- a SpatioTemporal Asset Catalog (STAC) Item\n",
    "- a bounding box area of interest (AOI)\n",
    "- the EPSG code of the bounding box area of interest\n",
    "- a list of common band names ([\"`green`\", \"`nir`\"])\n",
    "\n",
    "CWL can run sub-workflows in a step.\n",
    "\n",
    "We want to process a list of STAC Items and then generate a STAC catalog with several detected water bodies"
   ]
  },
  {
   "cell_type": "markdown",
   "metadata": {},
   "source": [
    "## Setup"
   ]
  },
  {
   "cell_type": "code",
   "execution_count": null,
   "metadata": {
    "vscode": {
     "languageId": "shellscript"
    }
   },
   "outputs": [],
   "source": [
    "export WORKSPACE=/workspace/mastering-app-package\n",
    "export RUNTIME=${WORKSPACE}/runs\n",
    "mkdir -p ${RUNTIME}\n",
    "cd ${RUNTIME}"
   ]
  },
  {
   "cell_type": "markdown",
   "metadata": {},
   "source": [
    "## CWL Workflow\n",
    "\n",
    "We now have a `$graph` list and several CWL descriptions: one `Workflow` and four `CommandLineTool`:"
   ]
  },
  {
   "cell_type": "code",
   "execution_count": null,
   "metadata": {
    "vscode": {
     "languageId": "shellscript"
    }
   },
   "outputs": [],
   "source": [
    "cat ${WORKSPACE}/cwl-workflow/app-water-bodies-cloud-native.cwl | yq e .'$graph[].class' -"
   ]
  },
  {
   "cell_type": "markdown",
   "metadata": {},
   "source": [
    "The `CommandLineTool` ids are the all the CommandLineTool created in the previous step:"
   ]
  },
  {
   "cell_type": "code",
   "execution_count": null,
   "metadata": {
    "vscode": {
     "languageId": "shellscript"
    }
   },
   "outputs": [],
   "source": [
    "cat ${WORKSPACE}/cwl-workflow/app-water-bodies-cloud-native.cwl | yq e .'$graph[2].id' -\n",
    "cat ${WORKSPACE}/cwl-workflow/app-water-bodies-cloud-native.cwl | yq e .'$graph[3].id' -\n",
    "cat ${WORKSPACE}/cwl-workflow/app-water-bodies-cloud-native.cwl | yq e .'$graph[4].id' -\n",
    "cat ${WORKSPACE}/cwl-workflow/app-water-bodies-cloud-native.cwl | yq e .'$graph[5].id' -"
   ]
  },
  {
   "cell_type": "markdown",
   "metadata": {},
   "source": [
    "The second Workflow is the Workflow chaining the `crop`, `norm_diff` and the `otsu` steps\n"
   ]
  },
  {
   "cell_type": "code",
   "execution_count": null,
   "metadata": {
    "vscode": {
     "languageId": "shellscript"
    }
   },
   "outputs": [],
   "source": [
    "cat ${WORKSPACE}/cwl-workflow/app-water-bodies-cloud-native.cwl | yq e .'$graph[1]' -"
   ]
  },
  {
   "cell_type": "markdown",
   "metadata": {},
   "source": [
    "There's an additional Workflow.\n",
    "\n",
    "This Workflow has an additional requirement in the `requirements` list, the `SubworkflowFeatureRequirement` requirement.\n",
    "\n",
    "It allows running a sub-workflow as a `Workflow` step."
   ]
  },
  {
   "cell_type": "code",
   "execution_count": null,
   "metadata": {
    "vscode": {
     "languageId": "shellscript"
    }
   },
   "outputs": [],
   "source": [
    "cat ${WORKSPACE}/cwl-workflow/app-water-bodies-cloud-native.cwl | yq e .'$graph[0]' -"
   ]
  },
  {
   "cell_type": "markdown",
   "metadata": {},
   "source": [
    "Let's look at the `inputs` element.\n",
    "\n",
    "These are the Application Package inputs: \n",
    "\n",
    "- a list of SpatioTemporal Asset Catalog (STAC) Items: `stac_items` of type `string[]`\n",
    "- a bounding box area of interest (AOI): `aoi`\n",
    "- the EPSG code of the bounding box area of interest: `epsg`\n",
    "- a list of common band names ([\"`green`\", \"`nir`\"]): `bands`"
   ]
  },
  {
   "cell_type": "code",
   "execution_count": null,
   "metadata": {
    "vscode": {
     "languageId": "shellscript"
    }
   },
   "outputs": [],
   "source": [
    "cat ${WORKSPACE}/cwl-workflow/app-water-bodies-cloud-native.cwl | yq e .'$graph[0].inputs' -"
   ]
  },
  {
   "cell_type": "markdown",
   "metadata": {},
   "source": [
    "The step `node_stac` this time takes the water bodies detected by the sub-workflow:"
   ]
  },
  {
   "cell_type": "code",
   "execution_count": null,
   "metadata": {
    "vscode": {
     "languageId": "shellscript"
    }
   },
   "outputs": [],
   "source": [
    "cat ${WORKSPACE}/cwl-workflow/app-water-bodies-cloud-native.cwl | yq e .'$graph[0].steps' -"
   ]
  },
  {
   "cell_type": "markdown",
   "metadata": {},
   "source": [
    "Let's look at the `outputs` element.\n",
    "\n",
    "The output is a STAC catalog, output id `stac_catalog` and its source comes from `node_stac`. \n",
    "\n",
    "`node_stac` is the last step of the `Workflow` that invokes the sub-workflow to detect water bodies in a single STAC Item:\n"
   ]
  },
  {
   "cell_type": "code",
   "execution_count": null,
   "metadata": {
    "vscode": {
     "languageId": "shellscript"
    }
   },
   "outputs": [],
   "source": [
    "cat ${WORKSPACE}/cwl-workflow/app-water-bodies-cloud-native.cwl | yq e .'$graph[0].outputs' -"
   ]
  },
  {
   "cell_type": "markdown",
   "metadata": {},
   "source": [
    "The first step, `crop`, applies the fan-out pattern on the input `stac_items` which is a list. \n",
    "\n",
    "The `in` mapping maps the step inputs to the Workflow inputs."
   ]
  },
  {
   "cell_type": "code",
   "execution_count": null,
   "metadata": {
    "vscode": {
     "languageId": "shellscript"
    }
   },
   "outputs": [],
   "source": [
    "cat ${WORKSPACE}/cwl-workflow/app-water-bodies-cloud-native.cwl | yq e .'$graph[0].steps[\"node_water_bodies\"]' -"
   ]
  },
  {
   "cell_type": "markdown",
   "metadata": {},
   "source": [
    "## Running the Workflow"
   ]
  },
  {
   "cell_type": "code",
   "execution_count": null,
   "metadata": {
    "vscode": {
     "languageId": "shellscript"
    }
   },
   "outputs": [],
   "source": [
    "cwltool \\\n",
    "    --outdir ${WORKSPACE}/runs \\\n",
    "    ${WORKSPACE}/cwl-workflow/app-water-bodies-cloud-native.cwl#water-bodies \\\n",
    "    --stac_items \"https://earth-search.aws.element84.com/v0/collections/sentinel-s2-l2a-cogs/items/S2B_10TFK_20210713_0_L2A\" \\\n",
    "    --stac_items \"https://earth-search.aws.element84.com/v0/collections/sentinel-s2-l2a-cogs/items/S2B_10TFK_20210713_0_L2A\" \\\n",
    "    --aoi=\"-121.399,39.834,-120.74,40.472\" \\\n",
    "    --epsg \"EPSG:4326\" \\\n",
    "    --bands green \\\n",
    "    --bands nir"
   ]
  },
  {
   "cell_type": "code",
   "execution_count": null,
   "metadata": {
    "vscode": {
     "languageId": "shellscript"
    }
   },
   "outputs": [],
   "source": []
  }
 ],
 "metadata": {
  "kernelspec": {
   "display_name": "Bash",
   "language": "bash",
   "name": "bash"
  },
  "language_info": {
   "codemirror_mode": "shell",
   "file_extension": ".sh",
   "mimetype": "text/x-sh",
   "name": "bash"
  }
 },
 "nbformat": 4,
 "nbformat_minor": 2
}
