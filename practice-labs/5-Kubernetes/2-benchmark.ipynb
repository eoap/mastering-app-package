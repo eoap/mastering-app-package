{
 "cells": [
  {
   "cell_type": "markdown",
   "metadata": {},
   "source": [
    "## Goal\n",
    "\n",
    "Run the app-water-body-cloud-native.1.0.0.cwl released application package using calrissian, a CWL runner for kubernetes and exploit the usage report.\n",
    "\n",
    "## Lab\n",
    "\n",
    "This step has a dedicated lab available at /workspace/mastering-app-package/practice-labs/Kubernetes/benchmark.ipynb\n"
   ]
  },
  {
   "cell_type": "code",
   "execution_count": 5,
   "metadata": {
    "vscode": {
     "languageId": "shellscript"
    }
   },
   "outputs": [
    {
     "ename": "ModuleNotFoundError",
     "evalue": "No module named 'calrissian'",
     "output_type": "error",
     "traceback": [
      "\u001b[0;31m---------------------------------------------------------------------------\u001b[0m",
      "\u001b[0;31mModuleNotFoundError\u001b[0m                       Traceback (most recent call last)",
      "\u001b[1;32m/workspace/mastering-app-package/practice-labs/5 - Kubernetes/2-benchmark.ipynb Cell 2\u001b[0m line \u001b[0;36m1\n\u001b[1;32m     <a href='vscode-notebook-cell://training.terradue.com/workspace/mastering-app-package/practice-labs/5%20-%20Kubernetes/2-benchmark.ipynb#W1sdnNjb2RlLXJlbW90ZQ%3D%3D?line=9'>10</a>\u001b[0m \u001b[39mfrom\u001b[39;00m \u001b[39mio\u001b[39;00m \u001b[39mimport\u001b[39;00m StringIO\n\u001b[1;32m     <a href='vscode-notebook-cell://training.terradue.com/workspace/mastering-app-package/practice-labs/5%20-%20Kubernetes/2-benchmark.ipynb#W1sdnNjb2RlLXJlbW90ZQ%3D%3D?line=10'>11</a>\u001b[0m \u001b[39mfrom\u001b[39;00m \u001b[39mpathlib\u001b[39;00m \u001b[39mimport\u001b[39;00m Path\n\u001b[0;32m---> <a href='vscode-notebook-cell://training.terradue.com/workspace/mastering-app-package/practice-labs/5%20-%20Kubernetes/2-benchmark.ipynb#W1sdnNjb2RlLXJlbW90ZQ%3D%3D?line=11'>12</a>\u001b[0m \u001b[39mfrom\u001b[39;00m \u001b[39mcalrissian\u001b[39;00m\u001b[39m.\u001b[39;00m\u001b[39mcontext\u001b[39;00m \u001b[39mimport\u001b[39;00m CalrissianLoadingContext, CalrissianRuntimeContext\n\u001b[1;32m     <a href='vscode-notebook-cell://training.terradue.com/workspace/mastering-app-package/practice-labs/5%20-%20Kubernetes/2-benchmark.ipynb#W1sdnNjb2RlLXJlbW90ZQ%3D%3D?line=12'>13</a>\u001b[0m \u001b[39mfrom\u001b[39;00m \u001b[39mcalrissian\u001b[39;00m\u001b[39m.\u001b[39;00m\u001b[39mexecutor\u001b[39;00m \u001b[39mimport\u001b[39;00m ThreadPoolJobExecutor\n\u001b[1;32m     <a href='vscode-notebook-cell://training.terradue.com/workspace/mastering-app-package/practice-labs/5%20-%20Kubernetes/2-benchmark.ipynb#W1sdnNjb2RlLXJlbW90ZQ%3D%3D?line=13'>14</a>\u001b[0m \u001b[39mfrom\u001b[39;00m \u001b[39mcalrissian\u001b[39;00m\u001b[39m.\u001b[39;00m\u001b[39mk8s\u001b[39;00m \u001b[39mimport\u001b[39;00m delete_pods\n",
      "\u001b[0;31mModuleNotFoundError\u001b[0m: No module named 'calrissian'"
     ]
    }
   ],
   "source": [
    "import random\n",
    "import json\n",
    "import matplotlib.pyplot as plt\n",
    "import numpy as np\n",
    "import pandas as pd\n",
    "import matplotlib.dates as mdates\n",
    "import json\n",
    "import logging\n",
    "import unittest\n",
    "from io import StringIO\n",
    "from pathlib import Path\n",
    "from calrissian.context import CalrissianLoadingContext, CalrissianRuntimeContext\n",
    "from calrissian.executor import ThreadPoolJobExecutor\n",
    "from calrissian.k8s import delete_pods\n",
    "from calrissian.main import (\n",
    "    activate_logging,\n",
    "    add_arguments,\n",
    "    flush_tees,\n",
    "    install_signal_handler,\n",
    ")\n",
    "from calrissian.report import (\n",
    "    CPUParser,\n",
    "    MemoryParser,\n",
    "    Reporter,\n",
    "    initialize_reporter,\n",
    "    default_serializer,\n",
    ")\n",
    "from calrissian.version import version\n",
    "from cwltool.argparser import arg_parser\n",
    "from cwltool.main import main as cwlmain\n",
    "from nose2.tools import params\n",
    "import uuid\n",
    "from cwltool.load_tool import fetch_document"
   ]
  },
  {
   "cell_type": "code",
   "execution_count": 1,
   "metadata": {
    "vscode": {
     "languageId": "shellscript"
    }
   },
   "outputs": [
    {
     "name": "stdout",
     "output_type": "stream",
     "text": [
      "Collecting calrissian\n",
      "  Downloading calrissian-0.16.0-py2.py3-none-any.whl (30 kB)\n",
      "Collecting typing-extensions==4.8.0\n",
      "  Downloading typing_extensions-4.8.0-py3-none-any.whl (31 kB)\n",
      "Collecting urllib3==1.26.18\n",
      "  Downloading urllib3-1.26.18-py2.py3-none-any.whl (143 kB)\n",
      "\u001b[2K     \u001b[90m━━━━━━━━━━━━━━━━━━━━━━━━━━━━━━━━━━━━━━\u001b[0m \u001b[32m143.8/143.8 kB\u001b[0m \u001b[31m13.9 MB/s\u001b[0m eta \u001b[36m0:00:00\u001b[0m\n",
      "\u001b[?25hCollecting cwltool==3.1.20231114134824\n",
      "  Downloading cwltool-3.1.20231114134824-py3-none-any.whl (1.5 MB)\n",
      "\u001b[2K     \u001b[90m━━━━━━━━━━━━━━━━━━━━━━━━━━━━━━━━━━━━━━━━\u001b[0m \u001b[32m1.5/1.5 MB\u001b[0m \u001b[31m12.7 MB/s\u001b[0m eta \u001b[36m0:00:00\u001b[0m00:01\u001b[0m00:01\u001b[0m\n",
      "\u001b[?25hCollecting importlib-metadata==6.8.0\n",
      "  Downloading importlib_metadata-6.8.0-py3-none-any.whl (22 kB)\n",
      "Collecting freezegun==1.2.2\n",
      "  Downloading freezegun-1.2.2-py3-none-any.whl (17 kB)\n",
      "Collecting tenacity==8.2.3\n",
      "  Downloading tenacity-8.2.3-py3-none-any.whl (24 kB)\n",
      "Collecting msgpack==1.0.7\n",
      "  Downloading msgpack-1.0.7-cp39-cp39-manylinux_2_17_x86_64.manylinux2014_x86_64.whl (530 kB)\n",
      "\u001b[2K     \u001b[90m━━━━━━━━━━━━━━━━━━━━━━━━━━━━━━━━━━━━━━\u001b[0m \u001b[32m531.0/531.0 kB\u001b[0m \u001b[31m47.8 MB/s\u001b[0m eta \u001b[36m0:00:00\u001b[0m\n",
      "\u001b[?25hCollecting kubernetes==28.1.0\n",
      "  Downloading kubernetes-28.1.0-py2.py3-none-any.whl (1.6 MB)\n",
      "\u001b[2K     \u001b[90m━━━━━━━━━━━━━━━━━━━━━━━━━━━━━━━━━━━━━━━━\u001b[0m \u001b[32m1.6/1.6 MB\u001b[0m \u001b[31m66.0 MB/s\u001b[0m eta \u001b[36m0:00:00\u001b[0m\n",
      "\u001b[?25hRequirement already satisfied: setuptools in /workspace/.venv/lib/python3.9/site-packages (from cwltool==3.1.20231114134824->calrissian) (58.1.0)\n",
      "Collecting ruamel.yaml<0.19,>=0.16\n",
      "  Downloading ruamel.yaml-0.18.6-py3-none-any.whl (117 kB)\n",
      "\u001b[2K     \u001b[90m━━━━━━━━━━━━━━━━━━━━━━━━━━━━━━━━━━━━━━\u001b[0m \u001b[32m117.8/117.8 kB\u001b[0m \u001b[31m19.3 MB/s\u001b[0m eta \u001b[36m0:00:00\u001b[0m\n",
      "\u001b[?25hCollecting shellescape<3.9,>=3.4.1\n",
      "  Downloading shellescape-3.8.1-py2.py3-none-any.whl (3.1 kB)\n",
      "Requirement already satisfied: requests>=2.6.1 in /workspace/.venv/lib/python3.9/site-packages (from cwltool==3.1.20231114134824->calrissian) (2.32.3)\n",
      "Collecting argcomplete\n",
      "  Downloading argcomplete-3.5.2-py3-none-any.whl (43 kB)\n",
      "\u001b[2K     \u001b[90m━━━━━━━━━━━━━━━━━━━━━━━━━━━━━━━━━━━━━━━━\u001b[0m \u001b[32m43.5/43.5 kB\u001b[0m \u001b[31m7.0 MB/s\u001b[0m eta \u001b[36m0:00:00\u001b[0m\n",
      "\u001b[?25hRequirement already satisfied: pyparsing!=3.0.2 in /workspace/.venv/lib/python3.9/site-packages (from cwltool==3.1.20231114134824->calrissian) (3.2.0)\n",
      "Collecting rdflib<7.1.0,>=4.2.2\n",
      "  Downloading rdflib-7.0.0-py3-none-any.whl (531 kB)\n",
      "\u001b[2K     \u001b[90m━━━━━━━━━━━━━━━━━━━━━━━━━━━━━━━━━━━━━━\u001b[0m \u001b[32m531.9/531.9 kB\u001b[0m \u001b[31m27.9 MB/s\u001b[0m eta \u001b[36m0:00:00\u001b[0m\n",
      "\u001b[?25hCollecting mypy-extensions\n",
      "  Downloading mypy_extensions-1.0.0-py3-none-any.whl (4.7 kB)\n",
      "Requirement already satisfied: importlib-resources>=1.4 in /workspace/.venv/lib/python3.9/site-packages (from cwltool==3.1.20231114134824->calrissian) (6.4.5)\n",
      "Collecting pydot>=1.4.1\n",
      "  Downloading pydot-3.0.3-py3-none-any.whl (35 kB)\n",
      "Collecting cwl-utils!=0.30,>=0.22\n",
      "  Downloading cwl_utils-0.36-py3-none-any.whl (409 kB)\n",
      "\u001b[2K     \u001b[90m━━━━━━━━━━━━━━━━━━━━━━━━━━━━━━━━━━━━━━\u001b[0m \u001b[32m409.6/409.6 kB\u001b[0m \u001b[31m43.9 MB/s\u001b[0m eta \u001b[36m0:00:00\u001b[0m\n",
      "\u001b[?25hCollecting schema-salad<9,>=8.4.20230426093816\n",
      "  Downloading schema_salad-8.8.20241206093842-cp39-cp39-manylinux_2_17_x86_64.manylinux2014_x86_64.manylinux_2_28_x86_64.whl (1.5 MB)\n",
      "\u001b[2K     \u001b[90m━━━━━━━━━━━━━━━━━━━━━━━━━━━━━━━━━━━━━━━━\u001b[0m \u001b[32m1.5/1.5 MB\u001b[0m \u001b[31m13.2 MB/s\u001b[0m eta \u001b[36m0:00:00\u001b[0m00:01\u001b[0m00:01\u001b[0m\n",
      "\u001b[?25hCollecting prov==1.5.1\n",
      "  Downloading prov-1.5.1-py2.py3-none-any.whl (426 kB)\n",
      "\u001b[2K     \u001b[90m━━━━━━━━━━━━━━━━━━━━━━━━━━━━━━━━━━━━━━\u001b[0m \u001b[32m426.5/426.5 kB\u001b[0m \u001b[31m40.4 MB/s\u001b[0m eta \u001b[36m0:00:00\u001b[0m\n",
      "\u001b[?25hRequirement already satisfied: psutil>=5.6.6 in /workspace/.venv/lib/python3.9/site-packages (from cwltool==3.1.20231114134824->calrissian) (6.1.0)\n",
      "Collecting coloredlogs\n",
      "  Downloading coloredlogs-15.0.1-py2.py3-none-any.whl (46 kB)\n",
      "\u001b[2K     \u001b[90m━━━━━━━━━━━━━━━━━━━━━━━━━━━━━━━━━━━━━━━━\u001b[0m \u001b[32m46.0/46.0 kB\u001b[0m \u001b[31m8.2 MB/s\u001b[0m eta \u001b[36m0:00:00\u001b[0m\n",
      "\u001b[?25hRequirement already satisfied: python-dateutil>=2.7 in /workspace/.venv/lib/python3.9/site-packages (from freezegun==1.2.2->calrissian) (2.9.0.post0)\n",
      "Requirement already satisfied: zipp>=0.5 in /workspace/.venv/lib/python3.9/site-packages (from importlib-metadata==6.8.0->calrissian) (3.21.0)\n",
      "Requirement already satisfied: six>=1.9.0 in /workspace/.venv/lib/python3.9/site-packages (from kubernetes==28.1.0->calrissian) (1.17.0)\n",
      "Collecting websocket-client!=0.40.0,!=0.41.*,!=0.42.*,>=0.32.0\n",
      "  Downloading websocket_client-1.8.0-py3-none-any.whl (58 kB)\n",
      "\u001b[2K     \u001b[90m━━━━━━━━━━━━━━━━━━━━━━━━━━━━━━━━━━━━━━━━\u001b[0m \u001b[32m58.8/58.8 kB\u001b[0m \u001b[31m10.8 MB/s\u001b[0m eta \u001b[36m0:00:00\u001b[0m\n",
      "\u001b[?25hRequirement already satisfied: certifi>=14.05.14 in /workspace/.venv/lib/python3.9/site-packages (from kubernetes==28.1.0->calrissian) (2024.8.30)\n",
      "Collecting requests-oauthlib\n",
      "  Downloading requests_oauthlib-2.0.0-py2.py3-none-any.whl (24 kB)\n",
      "Requirement already satisfied: pyyaml>=5.4.1 in /workspace/.venv/lib/python3.9/site-packages (from kubernetes==28.1.0->calrissian) (6.0.2)\n",
      "Collecting google-auth>=1.0.1\n",
      "  Downloading google_auth-2.36.0-py2.py3-none-any.whl (209 kB)\n",
      "\u001b[2K     \u001b[90m━━━━━━━━━━━━━━━━━━━━━━━━━━━━━━━━━━━━━━\u001b[0m \u001b[32m209.5/209.5 kB\u001b[0m \u001b[31m31.7 MB/s\u001b[0m eta \u001b[36m0:00:00\u001b[0m\n",
      "\u001b[?25hCollecting oauthlib>=3.2.2\n",
      "  Downloading oauthlib-3.2.2-py3-none-any.whl (151 kB)\n",
      "\u001b[2K     \u001b[90m━━━━━━━━━━━━━━━━━━━━━━━━━━━━━━━━━━━━━━\u001b[0m \u001b[32m151.7/151.7 kB\u001b[0m \u001b[31m22.9 MB/s\u001b[0m eta \u001b[36m0:00:00\u001b[0m\n",
      "\u001b[?25hRequirement already satisfied: lxml in /workspace/.venv/lib/python3.9/site-packages (from prov==1.5.1->cwltool==3.1.20231114134824->calrissian) (5.3.0)\n",
      "Requirement already satisfied: networkx in /workspace/.venv/lib/python3.9/site-packages (from prov==1.5.1->cwltool==3.1.20231114134824->calrissian) (3.2.1)\n",
      "Collecting cwl-upgrader>=1.2.3\n",
      "  Downloading cwl_upgrader-1.2.11-py3-none-any.whl (27 kB)\n",
      "Requirement already satisfied: packaging in /workspace/.venv/lib/python3.9/site-packages (from cwl-utils!=0.30,>=0.22->cwltool==3.1.20231114134824->calrissian) (24.2)\n",
      "Collecting pyasn1-modules>=0.2.1\n",
      "  Downloading pyasn1_modules-0.4.1-py3-none-any.whl (181 kB)\n",
      "\u001b[2K     \u001b[90m━━━━━━━━━━━━━━━━━━━━━━━━━━━━━━━━━━━━━━\u001b[0m \u001b[32m181.5/181.5 kB\u001b[0m \u001b[31m27.5 MB/s\u001b[0m eta \u001b[36m0:00:00\u001b[0m\n",
      "\u001b[?25hCollecting rsa<5,>=3.1.4\n",
      "  Downloading rsa-4.9-py3-none-any.whl (34 kB)\n",
      "Collecting cachetools<6.0,>=2.0.0\n",
      "  Downloading cachetools-5.5.0-py3-none-any.whl (9.5 kB)\n",
      "Collecting isodate<0.7.0,>=0.6.0\n",
      "  Downloading isodate-0.6.1-py2.py3-none-any.whl (41 kB)\n",
      "\u001b[2K     \u001b[90m━━━━━━━━━━━━━━━━━━━━━━━━━━━━━━━━━━━━━━━━\u001b[0m \u001b[32m41.7/41.7 kB\u001b[0m \u001b[31m6.7 MB/s\u001b[0m eta \u001b[36m0:00:00\u001b[0m\n",
      "\u001b[?25hRequirement already satisfied: charset-normalizer<4,>=2 in /workspace/.venv/lib/python3.9/site-packages (from requests>=2.6.1->cwltool==3.1.20231114134824->calrissian) (3.4.0)\n",
      "Requirement already satisfied: idna<4,>=2.5 in /workspace/.venv/lib/python3.9/site-packages (from requests>=2.6.1->cwltool==3.1.20231114134824->calrissian) (3.10)\n",
      "Collecting ruamel.yaml.clib>=0.2.7\n",
      "  Downloading ruamel.yaml.clib-0.2.12-cp39-cp39-manylinux_2_17_x86_64.manylinux2014_x86_64.whl (724 kB)\n",
      "\u001b[2K     \u001b[90m━━━━━━━━━━━━━━━━━━━━━━━━━━━━━━━━━━━━━━\u001b[0m \u001b[32m724.9/724.9 kB\u001b[0m \u001b[31m50.5 MB/s\u001b[0m eta \u001b[36m0:00:00\u001b[0m\n",
      "\u001b[?25hCollecting mistune<3.1,>=3\n",
      "  Downloading mistune-3.0.2-py3-none-any.whl (47 kB)\n",
      "\u001b[2K     \u001b[90m━━━━━━━━━━━━━━━━━━━━━━━━━━━━━━━━━━━━━━━━\u001b[0m \u001b[32m48.0/48.0 kB\u001b[0m \u001b[31m9.2 MB/s\u001b[0m eta \u001b[36m0:00:00\u001b[0m\n",
      "\u001b[?25hCollecting CacheControl[filecache]<0.15,>=0.13.1\n",
      "  Downloading cachecontrol-0.14.1-py3-none-any.whl (22 kB)\n",
      "Collecting humanfriendly>=9.1\n",
      "  Downloading humanfriendly-10.0-py2.py3-none-any.whl (86 kB)\n",
      "\u001b[2K     \u001b[90m━━━━━━━━━━━━━━━━━━━━━━━━━━━━━━━━━━━━━━━━\u001b[0m \u001b[32m86.8/86.8 kB\u001b[0m \u001b[31m15.9 MB/s\u001b[0m eta \u001b[36m0:00:00\u001b[0m\n",
      "\u001b[?25hCollecting filelock>=3.8.0\n",
      "  Downloading filelock-3.16.1-py3-none-any.whl (16 kB)\n",
      "Collecting pyasn1<0.7.0,>=0.4.6\n",
      "  Downloading pyasn1-0.6.1-py3-none-any.whl (83 kB)\n",
      "\u001b[2K     \u001b[90m━━━━━━━━━━━━━━━━━━━━━━━━━━━━━━━━━━━━━━━━\u001b[0m \u001b[32m83.1/83.1 kB\u001b[0m \u001b[31m15.1 MB/s\u001b[0m eta \u001b[36m0:00:00\u001b[0m\n",
      "\u001b[?25hInstalling collected packages: shellescape, websocket-client, urllib3, typing-extensions, tenacity, ruamel.yaml.clib, pydot, pyasn1, oauthlib, mypy-extensions, msgpack, mistune, isodate, importlib-metadata, humanfriendly, filelock, cachetools, argcomplete, ruamel.yaml, rsa, rdflib, pyasn1-modules, freezegun, coloredlogs, requests-oauthlib, prov, google-auth, CacheControl, kubernetes, schema-salad, cwl-upgrader, cwl-utils, cwltool, calrissian\n",
      "  Attempting uninstall: urllib3\n",
      "    Found existing installation: urllib3 2.2.3\n",
      "    Uninstalling urllib3-2.2.3:\n",
      "      Successfully uninstalled urllib3-2.2.3\n",
      "  Attempting uninstall: typing-extensions\n",
      "    Found existing installation: typing_extensions 4.12.2\n",
      "    Uninstalling typing_extensions-4.12.2:\n",
      "      Successfully uninstalled typing_extensions-4.12.2\n",
      "  Attempting uninstall: importlib-metadata\n",
      "    Found existing installation: importlib_metadata 8.5.0\n",
      "    Uninstalling importlib_metadata-8.5.0:\n",
      "      Successfully uninstalled importlib_metadata-8.5.0\n",
      "Successfully installed CacheControl-0.14.1 argcomplete-3.5.2 cachetools-5.5.0 calrissian-0.16.0 coloredlogs-15.0.1 cwl-upgrader-1.2.11 cwl-utils-0.36 cwltool-3.1.20231114134824 filelock-3.16.1 freezegun-1.2.2 google-auth-2.36.0 humanfriendly-10.0 importlib-metadata-6.8.0 isodate-0.6.1 kubernetes-28.1.0 mistune-3.0.2 msgpack-1.0.7 mypy-extensions-1.0.0 oauthlib-3.2.2 prov-1.5.1 pyasn1-0.6.1 pyasn1-modules-0.4.1 pydot-3.0.3 rdflib-7.0.0 requests-oauthlib-2.0.0 rsa-4.9 ruamel.yaml-0.18.6 ruamel.yaml.clib-0.2.12 schema-salad-8.8.20241206093842 shellescape-3.8.1 tenacity-8.2.3 typing-extensions-4.8.0 urllib3-1.26.18 websocket-client-1.8.0\n",
      "\n",
      "\u001b[1m[\u001b[0m\u001b[34;49mnotice\u001b[0m\u001b[1;39;49m]\u001b[0m\u001b[39;49m A new release of pip is available: \u001b[0m\u001b[31;49m23.0.1\u001b[0m\u001b[39;49m -> \u001b[0m\u001b[32;49m24.3.1\u001b[0m\n",
      "\u001b[1m[\u001b[0m\u001b[34;49mnotice\u001b[0m\u001b[1;39;49m]\u001b[0m\u001b[39;49m To update, run: \u001b[0m\u001b[32;49mpip install --upgrade pip\u001b[0m\n"
     ]
    }
   ],
   "source": [
    "!pip install calrissian"
   ]
  },
  {
   "cell_type": "markdown",
   "metadata": {},
   "source": [
    "## Step 1 Create a Benchmark python class\n",
    "\n",
    "This Benchmark python class takes the application package parameters and the pair max cores/max ram.\n",
    "\n",
    "It will generate a benchmark report that can be analyzed to generate plots and tables"
   ]
  },
  {
   "cell_type": "code",
   "execution_count": 6,
   "metadata": {
    "vscode": {
     "languageId": "shellscript"
    }
   },
   "outputs": [],
   "source": [
    "class Benchmark():\n",
    "\n",
    "    def __init__(self, aoi, epsg, stac_items, bands, max_cores, max_ram):\n",
    "        import logging\n",
    "        self.level = logging.INFO\n",
    "        \n",
    "        self.cwl_url = \"https://github.com/Terradue/app-package-training-bids23/releases/download/1.0.0/app-water-bodies-cloud-native.1.0.0.cwl\"\n",
    "\n",
    "        self.tmp_outdir_prefix = \"/calrissian/tmp\"\n",
    "        self.outdir = \"/calrissian/out\"\n",
    "\n",
    "        self.parser = arg_parser()\n",
    "\n",
    "        self.aoi = aoi \n",
    "        self.epsg = epsg \n",
    "        self.stac_items = stac_items\n",
    "        self.bands = bands \n",
    "        self.max_cores = max_cores\n",
    "        self.max_ram = max_ram\n",
    "\n",
    "    def get_cli_args(self):\n",
    "\n",
    "        cli_args = [\n",
    "            \"--tmp-outdir-prefix\",\n",
    "            self.tmp_outdir_prefix,\n",
    "            \"--outdir\",\n",
    "            self.outdir,\n",
    "            f\"{self.cwl_url}#water-bodies.cwl\",\n",
    "            f\"--aoi={self.aoi}\",\n",
    "            f\"--epsg={self.epsg}\"\n",
    "        ]\n",
    "\n",
    "        for stac_item in self.stac_items:\n",
    "            cli_args.append(f\"--stac_items={stac_item}\")\n",
    "\n",
    "        for band in self.bands:\n",
    "            cli_args.append(f\"--band={band}\")\n",
    "\n",
    "        return cli_args\n",
    "\n",
    "    def run(self):\n",
    "\n",
    "        parsed_args = self.parser.parse_args(\n",
    "            self.get_cli_args()\n",
    "        )\n",
    "\n",
    "        results, usage = self.run_calrissian(\n",
    "            parsed_args=parsed_args\n",
    "        )\n",
    "\n",
    "        _, workflowobj, uri = fetch_document(self.cwl_url)\n",
    "\n",
    "        result = {}\n",
    "\n",
    "        result[\"application_package\"] = {\"uri\": uri, \"cwl\": workflowobj}\n",
    "        result[\"results\"] = results\n",
    "        result[\"usage\"] = usage\n",
    "        result[\"parameters\"] = {\n",
    "            \"stac_items\": self.stac_items,\n",
    "            \"aoi\": self.aoi,\n",
    "            \"epsg\": self.epsg,\n",
    "            \"bands\": self.bands,\n",
    "        }\n",
    "\n",
    "        return result\n",
    "\n",
    "\n",
    "    def run_calrissian(self, parsed_args):\n",
    "\n",
    "        max_ram_megabytes = MemoryParser.parse_to_megabytes(self.max_ram)\n",
    "        max_cores = CPUParser.parse(self.max_cores)\n",
    "        executor = ThreadPoolJobExecutor(max_ram_megabytes, max_cores)\n",
    "        initialize_reporter(max_ram_megabytes, max_cores)\n",
    "\n",
    "        runtime_context = CalrissianRuntimeContext(vars(parsed_args))\n",
    "        runtime_context.select_resources = executor.select_resources\n",
    "\n",
    "        install_signal_handler()\n",
    "\n",
    "        stream_out = StringIO()\n",
    "\n",
    "        try:\n",
    "\n",
    "            res = cwlmain(\n",
    "                args=parsed_args,\n",
    "                stdout=stream_out,\n",
    "                executor=executor,\n",
    "                loadingContext=CalrissianLoadingContext(),\n",
    "                runtimeContext=runtime_context,\n",
    "                versionfunc=version,\n",
    "                logger_handler=logging.FileHandler(\"empty.log\"),\n",
    "            )\n",
    "        finally:\n",
    "            delete_pods()\n",
    "\n",
    "        assert res == 0\n",
    "\n",
    "        return json.loads(stream_out.getvalue()), Reporter.get_report().to_dict()\n",
    "\n",
    "    \n"
   ]
  },
  {
   "cell_type": "markdown",
   "metadata": {},
   "source": [
    "## Step 2 run the benchmark"
   ]
  },
  {
   "cell_type": "code",
   "execution_count": 7,
   "metadata": {
    "vscode": {
     "languageId": "shellscript"
    }
   },
   "outputs": [
    {
     "ename": "NameError",
     "evalue": "name 'arg_parser' is not defined",
     "output_type": "error",
     "traceback": [
      "\u001b[0;31m---------------------------------------------------------------------------\u001b[0m",
      "\u001b[0;31mNameError\u001b[0m                                 Traceback (most recent call last)",
      "\u001b[1;32m/workspace/mastering-app-package/practice-labs/5 - Kubernetes/2-benchmark.ipynb Cell 7\u001b[0m line \u001b[0;36m1\n\u001b[0;32m----> <a href='vscode-notebook-cell://training.terradue.com/workspace/mastering-app-package/practice-labs/5%20-%20Kubernetes/2-benchmark.ipynb#W6sdnNjb2RlLXJlbW90ZQ%3D%3D?line=0'>1</a>\u001b[0m benchmark \u001b[39m=\u001b[39m Benchmark(stac_items\u001b[39m=\u001b[39;49m[\n\u001b[1;32m      <a href='vscode-notebook-cell://training.terradue.com/workspace/mastering-app-package/practice-labs/5%20-%20Kubernetes/2-benchmark.ipynb#W6sdnNjb2RlLXJlbW90ZQ%3D%3D?line=1'>2</a>\u001b[0m                 \u001b[39m\"\u001b[39;49m\u001b[39mhttps://earth-search.aws.element84.com/v0/collections/sentinel-s2-l2a-cogs/items/S2A_10TFK_20210708_0_L2A\u001b[39;49m\u001b[39m\"\u001b[39;49m,\n\u001b[1;32m      <a href='vscode-notebook-cell://training.terradue.com/workspace/mastering-app-package/practice-labs/5%20-%20Kubernetes/2-benchmark.ipynb#W6sdnNjb2RlLXJlbW90ZQ%3D%3D?line=2'>3</a>\u001b[0m                 \u001b[39m\"\u001b[39;49m\u001b[39mhttps://earth-search.aws.element84.com/v0/collections/sentinel-s2-l2a-cogs/items/S2B_10TFK_20210713_0_L2A\u001b[39;49m\u001b[39m\"\u001b[39;49m,\n\u001b[1;32m      <a href='vscode-notebook-cell://training.terradue.com/workspace/mastering-app-package/practice-labs/5%20-%20Kubernetes/2-benchmark.ipynb#W6sdnNjb2RlLXJlbW90ZQ%3D%3D?line=3'>4</a>\u001b[0m                 \u001b[39m\"\u001b[39;49m\u001b[39mhttps://earth-search.aws.element84.com/v0/collections/sentinel-s2-l2a-cogs/items/S2A_10TFK_20210718_0_L2A\u001b[39;49m\u001b[39m\"\u001b[39;49m,\n\u001b[1;32m      <a href='vscode-notebook-cell://training.terradue.com/workspace/mastering-app-package/practice-labs/5%20-%20Kubernetes/2-benchmark.ipynb#W6sdnNjb2RlLXJlbW90ZQ%3D%3D?line=4'>5</a>\u001b[0m                 \u001b[39m\"\u001b[39;49m\u001b[39mhttps://earth-search.aws.element84.com/v0/collections/sentinel-s2-l2a-cogs/items/S2A_10TFK_20220524_0_L2A\u001b[39;49m\u001b[39m\"\u001b[39;49m,\n\u001b[1;32m      <a href='vscode-notebook-cell://training.terradue.com/workspace/mastering-app-package/practice-labs/5%20-%20Kubernetes/2-benchmark.ipynb#W6sdnNjb2RlLXJlbW90ZQ%3D%3D?line=5'>6</a>\u001b[0m                 \u001b[39m\"\u001b[39;49m\u001b[39mhttps://earth-search.aws.element84.com/v0/collections/sentinel-s2-l2a-cogs/items/S2A_10TFK_20220514_0_L2A\u001b[39;49m\u001b[39m\"\u001b[39;49m,\n\u001b[1;32m      <a href='vscode-notebook-cell://training.terradue.com/workspace/mastering-app-package/practice-labs/5%20-%20Kubernetes/2-benchmark.ipynb#W6sdnNjb2RlLXJlbW90ZQ%3D%3D?line=6'>7</a>\u001b[0m                 \u001b[39m\"\u001b[39;49m\u001b[39mhttps://earth-search.aws.element84.com/v0/collections/sentinel-s2-l2a-cogs/items/S2A_10TFK_20220504_0_L2A\u001b[39;49m\u001b[39m\"\u001b[39;49m,\n\u001b[1;32m      <a href='vscode-notebook-cell://training.terradue.com/workspace/mastering-app-package/practice-labs/5%20-%20Kubernetes/2-benchmark.ipynb#W6sdnNjb2RlLXJlbW90ZQ%3D%3D?line=7'>8</a>\u001b[0m             ],\n\u001b[1;32m      <a href='vscode-notebook-cell://training.terradue.com/workspace/mastering-app-package/practice-labs/5%20-%20Kubernetes/2-benchmark.ipynb#W6sdnNjb2RlLXJlbW90ZQ%3D%3D?line=8'>9</a>\u001b[0m             aoi\u001b[39m=\u001b[39;49m\u001b[39m\"\u001b[39;49m\u001b[39m-121.399,39.834,-120.74,40.472\u001b[39;49m\u001b[39m\"\u001b[39;49m,\n\u001b[1;32m     <a href='vscode-notebook-cell://training.terradue.com/workspace/mastering-app-package/practice-labs/5%20-%20Kubernetes/2-benchmark.ipynb#W6sdnNjb2RlLXJlbW90ZQ%3D%3D?line=9'>10</a>\u001b[0m             epsg\u001b[39m=\u001b[39;49m\u001b[39m\"\u001b[39;49m\u001b[39mEPSG:4326\u001b[39;49m\u001b[39m\"\u001b[39;49m,\n\u001b[1;32m     <a href='vscode-notebook-cell://training.terradue.com/workspace/mastering-app-package/practice-labs/5%20-%20Kubernetes/2-benchmark.ipynb#W6sdnNjb2RlLXJlbW90ZQ%3D%3D?line=10'>11</a>\u001b[0m             bands\u001b[39m=\u001b[39;49m[\u001b[39m\"\u001b[39;49m\u001b[39mgreen\u001b[39;49m\u001b[39m\"\u001b[39;49m, \u001b[39m\"\u001b[39;49m\u001b[39mnir\u001b[39;49m\u001b[39m\"\u001b[39;49m],\n\u001b[1;32m     <a href='vscode-notebook-cell://training.terradue.com/workspace/mastering-app-package/practice-labs/5%20-%20Kubernetes/2-benchmark.ipynb#W6sdnNjb2RlLXJlbW90ZQ%3D%3D?line=11'>12</a>\u001b[0m             max_cores\u001b[39m=\u001b[39;49m\u001b[39m\"\u001b[39;49m\u001b[39m20\u001b[39;49m\u001b[39m\"\u001b[39;49m,\n\u001b[1;32m     <a href='vscode-notebook-cell://training.terradue.com/workspace/mastering-app-package/practice-labs/5%20-%20Kubernetes/2-benchmark.ipynb#W6sdnNjb2RlLXJlbW90ZQ%3D%3D?line=12'>13</a>\u001b[0m             max_ram\u001b[39m=\u001b[39;49m\u001b[39m\"\u001b[39;49m\u001b[39m128G\u001b[39;49m\u001b[39m\"\u001b[39;49m)\n",
      "\u001b[1;32m/workspace/mastering-app-package/practice-labs/5 - Kubernetes/2-benchmark.ipynb Cell 7\u001b[0m line \u001b[0;36m1\n\u001b[1;32m      <a href='vscode-notebook-cell://training.terradue.com/workspace/mastering-app-package/practice-labs/5%20-%20Kubernetes/2-benchmark.ipynb#W6sdnNjb2RlLXJlbW90ZQ%3D%3D?line=8'>9</a>\u001b[0m \u001b[39mself\u001b[39m\u001b[39m.\u001b[39mtmp_outdir_prefix \u001b[39m=\u001b[39m \u001b[39m\"\u001b[39m\u001b[39m/calrissian/tmp\u001b[39m\u001b[39m\"\u001b[39m\n\u001b[1;32m     <a href='vscode-notebook-cell://training.terradue.com/workspace/mastering-app-package/practice-labs/5%20-%20Kubernetes/2-benchmark.ipynb#W6sdnNjb2RlLXJlbW90ZQ%3D%3D?line=9'>10</a>\u001b[0m \u001b[39mself\u001b[39m\u001b[39m.\u001b[39moutdir \u001b[39m=\u001b[39m \u001b[39m\"\u001b[39m\u001b[39m/calrissian/out\u001b[39m\u001b[39m\"\u001b[39m\n\u001b[0;32m---> <a href='vscode-notebook-cell://training.terradue.com/workspace/mastering-app-package/practice-labs/5%20-%20Kubernetes/2-benchmark.ipynb#W6sdnNjb2RlLXJlbW90ZQ%3D%3D?line=11'>12</a>\u001b[0m \u001b[39mself\u001b[39m\u001b[39m.\u001b[39mparser \u001b[39m=\u001b[39m arg_parser()\n\u001b[1;32m     <a href='vscode-notebook-cell://training.terradue.com/workspace/mastering-app-package/practice-labs/5%20-%20Kubernetes/2-benchmark.ipynb#W6sdnNjb2RlLXJlbW90ZQ%3D%3D?line=13'>14</a>\u001b[0m \u001b[39mself\u001b[39m\u001b[39m.\u001b[39maoi \u001b[39m=\u001b[39m aoi \n\u001b[1;32m     <a href='vscode-notebook-cell://training.terradue.com/workspace/mastering-app-package/practice-labs/5%20-%20Kubernetes/2-benchmark.ipynb#W6sdnNjb2RlLXJlbW90ZQ%3D%3D?line=14'>15</a>\u001b[0m \u001b[39mself\u001b[39m\u001b[39m.\u001b[39mepsg \u001b[39m=\u001b[39m epsg \n",
      "\u001b[0;31mNameError\u001b[0m: name 'arg_parser' is not defined"
     ]
    }
   ],
   "source": [
    "benchmark = Benchmark(stac_items=[\n",
    "                \"https://earth-search.aws.element84.com/v0/collections/sentinel-s2-l2a-cogs/items/S2A_10TFK_20210708_0_L2A\",\n",
    "                \"https://earth-search.aws.element84.com/v0/collections/sentinel-s2-l2a-cogs/items/S2B_10TFK_20210713_0_L2A\",\n",
    "                \"https://earth-search.aws.element84.com/v0/collections/sentinel-s2-l2a-cogs/items/S2A_10TFK_20210718_0_L2A\",\n",
    "                \"https://earth-search.aws.element84.com/v0/collections/sentinel-s2-l2a-cogs/items/S2A_10TFK_20220524_0_L2A\",\n",
    "                \"https://earth-search.aws.element84.com/v0/collections/sentinel-s2-l2a-cogs/items/S2A_10TFK_20220514_0_L2A\",\n",
    "                \"https://earth-search.aws.element84.com/v0/collections/sentinel-s2-l2a-cogs/items/S2A_10TFK_20220504_0_L2A\",\n",
    "            ],\n",
    "            aoi=\"-121.399,39.834,-120.74,40.472\",\n",
    "            epsg=\"EPSG:4326\",\n",
    "            bands=[\"green\", \"nir\"],\n",
    "            max_cores=\"20\",\n",
    "            max_ram=\"128G\")\n"
   ]
  },
  {
   "cell_type": "code",
   "execution_count": 5,
   "metadata": {
    "vscode": {
     "languageId": "shellscript"
    }
   },
   "outputs": [
    {
     "data": {
      "text/plain": [
       "20"
      ]
     },
     "execution_count": 5,
     "metadata": {},
     "output_type": "execute_result"
    }
   ],
   "source": [
    "import logging\n",
    "logging.INFO"
   ]
  },
  {
   "cell_type": "code",
   "execution_count": null,
   "metadata": {
    "vscode": {
     "languageId": "shellscript"
    }
   },
   "outputs": [],
   "source": [
    "report = benchmark.run()"
   ]
  },
  {
   "cell_type": "markdown",
   "metadata": {},
   "source": [
    "## Step 3 analyze the report\n",
    "\n",
    "Plot a Gantt chart of the workflow steps."
   ]
  },
  {
   "cell_type": "code",
   "execution_count": null,
   "metadata": {
    "vscode": {
     "languageId": "shellscript"
    }
   },
   "outputs": [],
   "source": [
    "\n",
    "\n",
    "def plot_usage(report):\n",
    "    usage = report[\"usage\"]\n",
    "    cwl = report[\"application_package\"][\"cwl\"]\n",
    "\n",
    "    color_mapping = {}\n",
    "    for elem in cwl[\"$graph\"]:\n",
    "\n",
    "        if elem[\"class\"] in [\"CommandLineTool\"]:\n",
    "            color_mapping[elem[\"id\"]] = (\n",
    "                random.uniform(0, 1),\n",
    "                random.uniform(0, 1),\n",
    "                random.uniform(0, 1),\n",
    "            )\n",
    "\n",
    "    tasks = [step[\"name\"] for step in usage[\"children\"]]\n",
    "\n",
    "    node_colors = [\n",
    "        color_mapping.get(\"crop\")\n",
    "        if \"crop\" in task\n",
    "        else color_mapping.get(\"norm_diff\")\n",
    "        if \"norm_diff\" in task\n",
    "        else color_mapping.get(\"otsu\")\n",
    "        if \"otsu\" in task\n",
    "        else color_mapping.get(\"stac\", [0, 0, 0])\n",
    "        for task in tasks\n",
    "    ]\n",
    "\n",
    "    # Step 2: Create the data for the Gantt chart\n",
    "\n",
    "    start_dates = [step[\"start_time\"] for step in usage[\"children\"]]\n",
    "    durations = [step[\"elapsed_seconds\"] for step in usage[\"children\"]]\n",
    "\n",
    "    # Step 3: Initialize the figure and axis\n",
    "    fig, ax = plt.subplots()\n",
    "\n",
    "    # Step 4: Set y-axis tick labels\n",
    "    ax.set_yticks(np.arange(len(tasks)))\n",
    "    ax.set_yticklabels(tasks)\n",
    "\n",
    "    # Step 5: Plot each task as a horizontal bar\n",
    "    for index, task in enumerate(tasks):\n",
    "        start_date = pd.to_datetime(start_dates[index])\n",
    "        end_date = start_date + pd.DateOffset(seconds=durations[index])\n",
    "        ax.barh(\n",
    "            index,\n",
    "            end_date - start_date,\n",
    "            left=start_date,\n",
    "            height=0.5,\n",
    "            align=\"center\",\n",
    "            color=node_colors[index],\n",
    "        )\n",
    "\n",
    "    # Step 6: Set x-axis limits\n",
    "    min_date = pd.to_datetime(min(start_dates))\n",
    "    max_date = pd.to_datetime(max(start_dates)) + pd.DateOffset(seconds=max(durations))\n",
    "    ax.set_xlim(min_date, max_date)\n",
    "\n",
    "    # Step 7: Customize the chart\n",
    "    ax.xaxis_date()\n",
    "    ax.xaxis.set_major_locator(mdates.WeekdayLocator())\n",
    "    ax.xaxis.set_major_formatter(mdates.DateFormatter(\"%Y-%m-%dT%H:%M:%S\"))\n",
    "    ax.set_xlabel(\"Date\")\n",
    "    ax.set_ylabel(\"Steps\")\n",
    "    ax.set_title(\"Calrissian execution report\")\n",
    "\n",
    "    # Step 8: Display the chart\n",
    "    plt.grid(True)\n",
    "    plt.show()"
   ]
  },
  {
   "cell_type": "code",
   "execution_count": null,
   "metadata": {
    "vscode": {
     "languageId": "shellscript"
    }
   },
   "outputs": [],
   "source": [
    "plot_usage(report)"
   ]
  },
  {
   "cell_type": "markdown",
   "metadata": {},
   "source": [
    "Generate the tabular data"
   ]
  },
  {
   "cell_type": "code",
   "execution_count": null,
   "metadata": {
    "vscode": {
     "languageId": "shellscript"
    }
   },
   "outputs": [],
   "source": [
    "usage_df = pd.DataFrame.from_dict(report[\"usage\"][\"children\"])\n",
    "\n",
    "usage_df"
   ]
  },
  {
   "cell_type": "code",
   "execution_count": null,
   "metadata": {
    "vscode": {
     "languageId": "shellscript"
    }
   },
   "outputs": [],
   "source": [
    "import copy\n",
    "\n",
    "overall_report = copy.deepcopy(report[\"usage\"])\n",
    "\n",
    "del overall_report[\"children\"]\n",
    "\n",
    "\n",
    "pd.DataFrame.from_dict([overall_report])"
   ]
  },
  {
   "cell_type": "code",
   "execution_count": null,
   "metadata": {
    "vscode": {
     "languageId": "shellscript"
    }
   },
   "outputs": [],
   "source": []
  },
  {
   "cell_type": "code",
   "execution_count": null,
   "metadata": {
    "vscode": {
     "languageId": "shellscript"
    }
   },
   "outputs": [],
   "source": []
  }
 ],
 "metadata": {
  "kernelspec": {
   "display_name": "base",
   "language": "python",
   "name": "python3"
  },
  "language_info": {
   "codemirror_mode": {
    "name": "ipython",
    "version": 3
   },
   "file_extension": ".py",
   "mimetype": "text/x-python",
   "name": "python",
   "nbconvert_exporter": "python",
   "pygments_lexer": "ipython3",
   "version": "3.9.18"
  }
 },
 "nbformat": 4,
 "nbformat_minor": 2
}
